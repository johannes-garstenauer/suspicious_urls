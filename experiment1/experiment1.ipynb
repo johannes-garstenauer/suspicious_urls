{
 "cells": [
  {
   "cell_type": "code",
   "execution_count": 57,
   "id": "7a6e22c9",
   "metadata": {},
   "outputs": [],
   "source": [
    "import scipy.io\n",
    "data = scipy.io.loadmat('../../data/url.mat')"
   ]
  },
  {
   "cell_type": "markdown",
   "id": "7b9fc2f1",
   "metadata": {},
   "source": [
    "**create list for labels and data, where one entry is the data for the day with this index**"
   ]
  },
  {
   "cell_type": "code",
   "execution_count": 58,
   "id": "d1c361a0",
   "metadata": {
    "scrolled": true
   },
   "outputs": [],
   "source": [
    "import numpy as np\n",
    "\n",
    "num_of_days = 120\n",
    "X, Y = [], []\n",
    "\n",
    "for i in range(num_of_days):\n",
    "    day_data = data[\"Day\" + str(i)]\n",
    "    X.append(day_data[0][0][0])\n",
    "    Y.append(day_data[0][0][1])"
   ]
  },
  {
   "cell_type": "code",
   "execution_count": 59,
   "id": "a4dae69a",
   "metadata": {},
   "outputs": [],
   "source": [
    "for i in range(len(Y)):\n",
    "    Y[i] = Y[i].ravel()"
   ]
  },
  {
   "cell_type": "markdown",
   "id": "e482f91d",
   "metadata": {},
   "source": [
    "**continous learn classifier**"
   ]
  },
  {
   "cell_type": "code",
   "execution_count": 60,
   "id": "5d324f61",
   "metadata": {},
   "outputs": [],
   "source": [
    "# incremental learns classifier (must have partial_fit() function)\n",
    "# returns an array of cumulative error rates for each day\n",
    "def learn_incremental(clf, batch_size = 1000):\n",
    "    \n",
    "    #print(\"Batch size {}\".format(batch_size))\n",
    "    error_rates = []\n",
    "    num_of_days = 120\n",
    "    err = 0\n",
    "    \n",
    "    for curr_day in range(num_of_days): # looping through days\n",
    "    \n",
    "        if (curr_day != 45):\n",
    "            X_curr_day = X[curr_day]\n",
    "    \n",
    "            # split the data in slices of batch_size\n",
    "            batches_amount = int(X_curr_day.shape[0] / batch_size)\n",
    "            Y_curr_day = np.array_split(Y[curr_day], batches_amount)\n",
    "    \n",
    "            for j in range(batches_amount): # looping through individual urls\n",
    "                select_ind = np.arange(j * batch_size, (j+1) * batch_size)\n",
    "        \n",
    "                X_curr_url_batch, Y_curr_url_batch = X_curr_day[select_ind,:], Y_curr_day[j] \n",
    "        \n",
    "                if (j > 0):\n",
    "                    Y_preds = clf.predict(X_curr_url_batch)\n",
    "            \n",
    "                    for k in range(batch_size):\n",
    "                        if(Y_preds[k] != Y_curr_url_batch[k]):\n",
    "                            err = err + 1\n",
    "        \n",
    "                clf.partial_fit(X_curr_url_batch, Y_curr_url_batch, classes=list(range(2))) # Continous fitting of urls and label\n",
    "            \n",
    "            print(\"Log: Day {}: {}\".format(curr_day ,err / X_curr_day.shape[0]))\n",
    "            error_rates.append(err / X_curr_day.shape[0])\n",
    "            err = 0\n",
    "    return error_rates"
   ]
  },
  {
   "cell_type": "code",
   "execution_count": 61,
   "id": "ee050259",
   "metadata": {},
   "outputs": [],
   "source": [
    "from scipy.sparse import vstack\n",
    "from scipy.sparse import csr_matrix\n",
    "\n",
    "# takes a range of days (start until to)\n",
    "# fits the model with the data from the range until \"to\" itself\n",
    "# for day \"to\" for each url_batch the data is refitted (prevoius days data from range + all batches up to current)\n",
    "# and predicticed for the succesive batch of urls\n",
    "# returns the cumulative error rate for day \"to\"\n",
    "# batch_size determines the size of url_batches for which data is predicted and fitted on the \"to\" day\n",
    "def train_and_evaluate(start, to, clf, batch_size = 1):\n",
    "    \n",
    "    \n",
    "    prev_x = X[0][0,:] #random row for initialization purposes, spliced off later before classifying\n",
    "    \n",
    "    prev_y = []\n",
    "    for prev_day in range(start, to):\n",
    "        \n",
    "        #print(\"prev_x:\")\n",
    "        #print(prev_x.shape)\n",
    "        #print(X[prev_day].shape)\n",
    "        prev_x = vstack((prev_x, X[prev_day])) # stack up all matrices to previous day\n",
    "        prev_y = np.concatenate((prev_y, Y[prev_day])) # stack up all labels to previous day\n",
    "        #print(prev_x.shape)\n",
    "        \n",
    "    # immediately splice off the first initial url used to initiate the matrix outside of the loop\n",
    "    url_indexes_without_initial = np.arange(1, prev_x.shape[0])\n",
    "    prev_x = prev_x.tocsr()[url_indexes_without_initial,:]\n",
    "    #print(prev_x.shape)\n",
    "    \n",
    "    # change X to row format for faster slicing row-wise.\n",
    "    curr_day_x = X[to].tocsr()\n",
    "    \n",
    "    # split the data in slices of batch_size\n",
    "    batches_amount = int(curr_day_x.shape[0] / batch_size)\n",
    "    curr_day_y = np.array_split(Y[to], batches_amount)\n",
    "    \n",
    "    err = 0\n",
    "    x_batches = X[0][0,:] #random row for initialization purposes, spliced off later before classifying\n",
    "    y_batches = []\n",
    "    for j in range(batches_amount): # looping through individual url-batches\n",
    "       \n",
    "        # Combine previous days data and all batches up until current\n",
    "        #print(\"parts:\")\n",
    "        #print(\"current batches: {}\".format(x_batches.shape))\n",
    "        #print(\"previous: {}\".format(prev_x.shape))\n",
    "        x_combined = vstack((prev_x, x_batches))\n",
    "        #y_combined = prev_y.extend(y_batches.ravel())\n",
    "        y_combined = np.append(prev_y, y_batches)\n",
    "        #print(\"unsliced comb:  {}\".format(x_combined.shape))\n",
    "        \n",
    "        if (j == 0):\n",
    "            # immediately splice off the trailing url used to initiate the matrix outside of the loop\n",
    "            url_indexes_without_trailing = np.arange(0, prev_x.shape[0])\n",
    "            x_combined = x_combined.tocsr()[url_indexes_without_trailing,:]\n",
    "            \n",
    "            \n",
    "        #print(\"sliced comb:  {}\".format(x_combined.shape))\n",
    "        #print(\"y-sliced comb:  {}\".format(len(y_combined)))\n",
    "        \n",
    "        \n",
    "        # Train for cumulated data excluding current batch\n",
    "        if (x_combined.shape[0] != 0):\n",
    "            clf.fit(x_combined, y_combined)\n",
    "    \n",
    "        # splice current batch off\n",
    "        select_ind = np.arange(j * batch_size, (j+1) * batch_size)\n",
    "        curr_x_batch, curr_y_batch = curr_day_x[select_ind,:], curr_day_y[j] \n",
    "        \n",
    "        # Add current batch to cumulated list of batches\n",
    "        x_batches = vstack((x_batches, curr_x_batch))\n",
    "        if (j == 0):\n",
    "            # immediately splice off the first initial url used to initiate the matrix outside of the loop\n",
    "            url_indexes_without_initial = np.arange(1, x_batches.shape[0])\n",
    "            x_batches = x_batches.tocsr()[url_indexes_without_initial,:]\n",
    "            \n",
    "        y_batches.extend(curr_y_batch)\n",
    "        \n",
    "        # Predict for current batch\n",
    "        if (x_combined.shape[0] != 0):\n",
    "            Y_preds = clf.predict(curr_x_batch)\n",
    "           \n",
    "            # Collect errors\n",
    "            # todo replace with accuracy score\n",
    "            for k in range(batch_size):\n",
    "                if(Y_preds[k] != curr_y_batch[k]):\n",
    "                    err = err + 1\n",
    "        \n",
    "    return err / curr_day_x.shape[0] # Return cumulative error rate"
   ]
  },
  {
   "cell_type": "markdown",
   "id": "c688528a",
   "metadata": {},
   "source": [
    "### Batch-size and other global variables and imports:"
   ]
  },
  {
   "cell_type": "code",
   "execution_count": 62,
   "id": "4dae7fa3",
   "metadata": {},
   "outputs": [],
   "source": [
    "from sklearn.metrics import accuracy_score\n",
    "from sklearn.svm import LinearSVC\n",
    "\n",
    "batch_size = 4000\n",
    "train_set_size = 17 # Determines on data of how many days training is performed for SVM-multi and SVM-multi-once\n",
    "\n",
    "# The error rates of the different classifiers\n",
    "error_rates_pa = None\n",
    "error_rates_svm_once = None\n",
    "error_rates_svm_daily = None\n",
    "error_rates_svm_multi_once = None\n",
    "error_rates_svm_multi = None"
   ]
  },
  {
   "cell_type": "code",
   "execution_count": 1,
   "id": "ed3c0efb",
   "metadata": {},
   "outputs": [
    {
     "ename": "NameError",
     "evalue": "name 'LinearSVC' is not defined",
     "output_type": "error",
     "traceback": [
      "\u001b[0;31m---------------------------------------------------------------------------\u001b[0m",
      "\u001b[0;31mNameError\u001b[0m                                 Traceback (most recent call last)",
      "Input \u001b[0;32mIn [1]\u001b[0m, in \u001b[0;36m<cell line: 2>\u001b[0;34m()\u001b[0m\n\u001b[1;32m      1\u001b[0m \u001b[38;5;66;03m#svm mult-once\u001b[39;00m\n\u001b[0;32m----> 2\u001b[0m clf \u001b[38;5;241m=\u001b[39m \u001b[43mLinearSVC\u001b[49m(C\u001b[38;5;241m=\u001b[39m\u001b[38;5;241m0.01\u001b[39m)\n\u001b[1;32m      3\u001b[0m error_rates_svm_multi_once \u001b[38;5;241m=\u001b[39m  []\n\u001b[1;32m      5\u001b[0m \u001b[38;5;28;01mfor\u001b[39;00m i \u001b[38;5;129;01min\u001b[39;00m \u001b[38;5;28mrange\u001b[39m(train_set_size):\n",
      "\u001b[0;31mNameError\u001b[0m: name 'LinearSVC' is not defined"
     ]
    }
   ],
   "source": [
    "#svm mult-once\n",
    "clf = LinearSVC(C=0.01)\n",
    "error_rates_svm_multi_once =  []\n",
    "\n",
    "for i in range(train_set_size):\n",
    "    rate = train_and_evaluate(0, i, clf, batch_size)\n",
    "    error_rates_svm_multi_once.append(rate)\n",
    "    print(\"Error-rate Day {}   : {}\".format(i, rate))"
   ]
  },
  {
   "cell_type": "markdown",
   "id": "7cfe60b6",
   "metadata": {},
   "source": [
    "### SVM-once\n",
    "**Evaluate for all days**"
   ]
  },
  {
   "cell_type": "code",
   "execution_count": null,
   "id": "9a178617",
   "metadata": {},
   "outputs": [],
   "source": [
    "error_rates_svm_once = []\n",
    "rate = train_and_evaluate(0, 0, clf, batch_size)\n",
    "print(\"Error-rate Day {}   : {}\".format(0, rate))\n",
    "error_rates_svm_once.append(rate)\n",
    "\n",
    "for i in range(1, num_of_days):\n",
    "    Y_preds = clf.predict(X[i])\n",
    "    rate = 1 - accuracy_score(Y[i], Y_preds)\n",
    "    error_rates_svm_once.append(rate)\n",
    "    print(\"Error-rate Day {}   : {}\".format(i,rate))"
   ]
  },
  {
   "cell_type": "markdown",
   "id": "8ee9b257",
   "metadata": {},
   "source": [
    "### SVM-daily\n",
    "**Train on data of previous day and predict of successive day**"
   ]
  },
  {
   "cell_type": "code",
   "execution_count": null,
   "id": "f5e4c94d",
   "metadata": {},
   "outputs": [],
   "source": [
    "clf = LinearSVC(C=0.01)\n",
    "\n",
    "error_rates_svm_daily = []\n",
    "error_rates_svm_daily.append(train_and_evaluate(0, 0, clf, batch_size))\n",
    "print(\"Error-rate Day {}   : {}\".format(0, error_rates_svm_daily[0]))\n",
    "for i in range(1, num_of_days - 1):\n",
    "    # i being the current day.\n",
    "    clf.fit(X[i], Y[i])\n",
    "    \n",
    "    # i + 1 being the next day on which the model is being tested on. \n",
    "    Y_preds = clf.predict(X[i + 1])\n",
    "    rate = 1 - accuracy_score(Y[i + 1], Y_preds)\n",
    "    error_rates_svm_daily.append(rate)\n",
    "    print(\"Error-rate Day {}   : {}\".format(i + 1, rate))"
   ]
  },
  {
   "cell_type": "markdown",
   "id": "36f0db3e",
   "metadata": {},
   "source": [
    "### SVM-multi-once"
   ]
  },
  {
   "cell_type": "markdown",
   "id": "a393457c",
   "metadata": {},
   "source": [
    "**Train once on data for days 0-16 (train_set_size) and (evaluate for those days)**"
   ]
  },
  {
   "cell_type": "markdown",
   "id": "f86ed412",
   "metadata": {},
   "source": [
    "**Evaluate for the remaining days**"
   ]
  },
  {
   "cell_type": "code",
   "execution_count": null,
   "id": "2701199c",
   "metadata": {},
   "outputs": [],
   "source": [
    "for i in range(train_set_size, num_of_days):\n",
    "    Y_preds = clf.predict(X[i])\n",
    "    rate = 1 - accuracy_score(Y[i], Y_preds)\n",
    "    error_rates_svm_multi_once.append(rate)\n",
    "    print(\"Error-rate Day {}   : {}\".format(i,rate))"
   ]
  },
  {
   "cell_type": "markdown",
   "id": "c19a3e3f",
   "metadata": {},
   "source": [
    "### SVM-multi\n",
    "**Train on data of previous 0-16 days (train_set_size) and predict of successive day**"
   ]
  },
  {
   "cell_type": "code",
   "execution_count": null,
   "id": "c4c5432c",
   "metadata": {
    "scrolled": true
   },
   "outputs": [],
   "source": [
    "clf = LinearSVC(C=0.01)\n",
    "error_rates_svm_multi = []\n",
    "for curr_day in range(0, num_of_days):\n",
    "    \n",
    "    lower_bound = max(0, ((curr_day - 1) - train_set_size))\n",
    "    upper_bound = curr_dayclf = LinearSVC(C=0.01)\n",
    "error_rates_svm_multi = []\n",
    "for curr_day in range(0, num_of_days):\n",
    "    \n",
    "    lower_bound = max(0, ((curr_day - 1) - train_set_size))\n",
    "    upper_bound = curr_day\n",
    "    rate = train_and_evaluate(lower_bound, curr_day, clf, batch_size)\n",
    "    error_rates_svm_multi.append(rate)\n",
    "    print(\"Error-rate Day {}   : {}\".format(curr_day, rate))\n",
    "    rate = train_and_evaluate(lower_bound, curr_day, clf, batch_size)\n",
    "    error_rates_svm_multi.append(rate)\n",
    "    print(\"Error-rate Day {}   : {}\".format(curr_day, rate))"
   ]
  },
  {
   "cell_type": "markdown",
   "id": "63ed9da3",
   "metadata": {},
   "source": [
    "### Passive Aggressive"
   ]
  },
  {
   "cell_type": "code",
   "execution_count": null,
   "id": "3973eb1a",
   "metadata": {},
   "outputs": [],
   "source": [
    "from sklearn.linear_model import PassiveAggressiveClassifier\n",
    "\n",
    "clf = PassiveAggressiveClassifier(C=0.001, random_state = 123)\n",
    "\n",
    "error_rates_pa = learn_incremental(clf, batch_size)\n",
    "\n",
    "cnt = 0\n",
    "for x in error_rates_pa:    \n",
    "    print(\"Error-rate Day {}   : {}\".format(cnt, x))\n",
    "    cnt = cnt + 1"
   ]
  },
  {
   "cell_type": "code",
   "execution_count": null,
   "id": "abd33c36",
   "metadata": {},
   "outputs": [],
   "source": [
    "def _calc_line(x, y):\n",
    "    \n",
    "    # create polynomial equation and calculate line\n",
    "    theta = np.polyfit(x, y, 5)\n",
    "    return theta[5] + theta[4] * pow(x, 1) + theta[3] * pow(x, 2) + theta[2] * pow(x, 3) + theta[1] * pow(x, 4) + theta[0] * pow(x, 5)"
   ]
  },
  {
   "cell_type": "code",
   "execution_count": null,
   "id": "83ca59e0",
   "metadata": {},
   "outputs": [],
   "source": [
    "def _plot(y, color, scatter):\n",
    "    \n",
    "    # Set up the day_indexes with the missing 45th day in mind\n",
    "    x = np.arange(0, 120) \n",
    "    \n",
    "    if (y.shape[0] < x.shape[0]):\n",
    "        #x = np.delete(x, 46)\n",
    "        y = np.append(y, 0.02) # add dummy point : this is ugly\n",
    "    y = y * 100\n",
    "    y = _calc_line(x, y)\n",
    "    \n",
    "    plt.plot(x, y, color)\n",
    "    \n",
    "    if (scatter):\n",
    "        plt.scatter(x, y, color)"
   ]
  },
  {
   "cell_type": "code",
   "execution_count": null,
   "id": "3b4cce5b",
   "metadata": {},
   "outputs": [],
   "source": [
    "import matplotlib.pyplot as plt\n",
    "\n",
    "def plot5degree(error_rates_pa, error_rates_svm_once, error_rates_svm_daily,\n",
    "                error_rates_svm_multi_once, error_rates_svm_multi\n",
    "                batch_size, scatter = False):\n",
    "\n",
    "    \n",
    "    if (error_rates_pa is not None):\n",
    "        _plot(np.array(error_rates_pa), 'r', scatter)\n",
    "        \n",
    "    if (error_rates_svm_once is not None):\n",
    "        _plot(np.array(error_rates_svm_once), 'k', scatter)\n",
    "        \n",
    "    if (error_rates_svm_daily is not None):\n",
    "        _plot(np.array(error_rates_svm_daily), 'm'', scatter)\n",
    "    \n",
    "    if (error_rates_svm_multi_once is not None):\n",
    "        _plot(np.array(error_rates_svm_multi_once), 'b', scatter)\n",
    "\n",
    "    if (error_rates_svm_multi is not None):\n",
    "        _plot(np.array(error_rates_svm_multi), 'g', scatter)\n",
    "        \n",
    "    plt.title('Experiment 1 with batch size {}'.format(batch_size))\n",
    "    plt.xlabel('Days')\n",
    "    plt.ylabel('Cumulative error rate')\n",
    "    plt.ylim([0,4])\n",
    "    plt.show()"
   ]
  },
  {
   "cell_type": "code",
   "execution_count": null,
   "id": "4d910a9b",
   "metadata": {},
   "outputs": [],
   "source": [
    "plot5degree(error_rates, batch_size, True)"
   ]
  },
  {
   "cell_type": "code",
   "execution_count": null,
   "id": "335b89d9",
   "metadata": {},
   "outputs": [],
   "source": [
    "import matplotlib.pyplot as plt\n",
    "\n",
    "def plot8degree(error_rates, batch_size, scatter = False):\n",
    "    \n",
    "    # Set up the day_indexes with the missing 45th day in mind\n",
    "    x = np.arange(0, 120)\n",
    "    y = np.array(error_rates)\n",
    "    \n",
    "    if (y.shape[0] < x.shape[0]):\n",
    "        x = np.delete(x, 46)\n",
    "    y = y * 100\n",
    "\n",
    "    # create polynomial equation and calculate line\n",
    "    theta = np.polyfit(x, y, 8)\n",
    "    y_line = theta[8] + theta[7] * pow(x, 1) + theta[6] * pow(x, 2) + theta[5] * pow(x, 3) + theta[4] * pow(x, 4) + theta[3] * pow(x, 5) + theta[2] * pow(x, 6) + theta[1] * pow(x, 7) + theta[0] * pow(x, 8)\n",
    "\n",
    "    if (scatter):\n",
    "        plt.scatter(x, y)\n",
    "    \n",
    "    plt.plot(x, y_line, 'r')\n",
    "    plt.title('Experiment 1 with batch size {}'.format(batch_size))\n",
    "    plt.xlabel('Days')\n",
    "    plt.ylabel('Cumulative error rate')\n",
    "    plt.ylim([0,4])\n",
    "    plt.show()"
   ]
  },
  {
   "cell_type": "code",
   "execution_count": null,
   "id": "1a590501",
   "metadata": {},
   "outputs": [],
   "source": [
    "plot8degree(error_rates, batch_size, True)"
   ]
  }
 ],
 "metadata": {
  "kernelspec": {
   "display_name": "Python 3 (ipykernel)",
   "language": "python",
   "name": "python3"
  },
  "language_info": {
   "codemirror_mode": {
    "name": "ipython",
    "version": 3
   },
   "file_extension": ".py",
   "mimetype": "text/x-python",
   "name": "python",
   "nbconvert_exporter": "python",
   "pygments_lexer": "ipython3",
   "version": "3.9.2"
  }
 },
 "nbformat": 4,
 "nbformat_minor": 5
}
