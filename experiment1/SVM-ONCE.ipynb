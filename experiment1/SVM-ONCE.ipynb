{
 "cells": [
  {
   "cell_type": "code",
   "execution_count": 1,
   "id": "9e33345b",
   "metadata": {
    "scrolled": true
   },
   "outputs": [],
   "source": [
    "import scipy.io\n",
    "data = scipy.io.loadmat('../../data/url.mat')"
   ]
  },
  {
   "cell_type": "markdown",
   "id": "7b9fc2f1",
   "metadata": {},
   "source": [
    "**create list for labels and data, where one entry is the data for the day with this index**"
   ]
  },
  {
   "cell_type": "code",
   "execution_count": 2,
   "id": "77e4fb3a",
   "metadata": {},
   "outputs": [],
   "source": [
    "import numpy as np\n",
    "\n",
    "num_of_days = 120\n",
    "X, Y = [], []\n",
    "\n",
    "for i in range(num_of_days):\n",
    "    day_data = data[\"Day\" + str(i)]\n",
    "    X.append(day_data[0][0][0])\n",
    "    Y.append(day_data[0][0][1])"
   ]
  },
  {
   "cell_type": "markdown",
   "id": "d7dd6d9c",
   "metadata": {},
   "source": [
    "**flatten y to not be a nested array**"
   ]
  },
  {
   "cell_type": "code",
   "execution_count": 3,
   "id": "c247aaac",
   "metadata": {},
   "outputs": [],
   "source": [
    "# y-data are lists of numpy-arrays\n",
    "\n",
    "for i in range(len(Y)):\n",
    "    Y[i] = [element for sublist in Y[i] for element in sublist]\n",
    "   \n",
    "# y-data becomes a list of lists"
   ]
  },
  {
   "cell_type": "markdown",
   "id": "3124a360",
   "metadata": {},
   "source": [
    "### Train once on data for day 0"
   ]
  },
  {
   "cell_type": "code",
   "execution_count": 4,
   "id": "1942485d",
   "metadata": {},
   "outputs": [
    {
     "data": {
      "text/plain": [
       "LinearSVC(C=0.01)"
      ]
     },
     "execution_count": 4,
     "metadata": {},
     "output_type": "execute_result"
    }
   ],
   "source": [
    "from sklearn.svm import LinearSVC\n",
    "\n",
    "clf = LinearSVC(C=0.01)\n",
    "\n",
    "clf.fit(X[0], Y[0])"
   ]
  },
  {
   "cell_type": "code",
   "execution_count": 5,
   "id": "237bd468",
   "metadata": {},
   "outputs": [],
   "source": [
    "from scipy.sparse import vstack\n",
    "from scipy.sparse import csr_matrix\n",
    "import numpy as np\n",
    "\n",
    "# takes a range of days (start until to)\n",
    "# fits the model with the data from the range until \"to\" itself\n",
    "# for day \"to\" for each url_batch the data is refitted (prevoius days data from range + all batches up to current)\n",
    "# and predicticed for the succesive batch of urls\n",
    "# returns the cumulative error rate for day \"to\"\n",
    "# batch_size determines the size of url_batches for which data is predicted and fitted on the \"to\" day\n",
    "def train_and_evaluate(start, to, clf, batch_size = 1):\n",
    "    \n",
    "    prev_x = X[0][0,:] #random row for initialization purposes, spliced off later before classifying\n",
    "    \n",
    "    prev_y = []\n",
    "    for prev_day in range(start, to):\n",
    "        \n",
    "        #print(\"prev_x:\")\n",
    "        #print(prev_x.shape)\n",
    "        #print(X[prev_day].shape)\n",
    "        prev_x = vstack((prev_x, X[prev_day])) # stack up all matrices to previous day\n",
    "        prev_y = np.concatenate((prev_y, Y[prev_day])) # stack up all labels to previous day\n",
    "        #print(prev_x.shape)\n",
    "        \n",
    "    # immediately splice off the first initial url used to initiate the matrix outside of the loop\n",
    "    url_indexes_without_initial = np.arange(1, prev_x.shape[0])\n",
    "    prev_x = prev_x.tocsr()[url_indexes_without_initial,:]\n",
    "    #print(prev_x.shape)\n",
    "    \n",
    "    # change X to row format for faster slicing row-wise.\n",
    "    curr_day_x = X[to].tocsr()\n",
    "    \n",
    "    # split the data in slices of batch_size\n",
    "    batches_amount = int(curr_day_x.shape[0] / batch_size)\n",
    "    curr_day_y = np.array_split(Y[to], batches_amount)\n",
    "    \n",
    "    err = 0\n",
    "    x_batches = X[0][0,:] #random row for initialization purposes, spliced off later before classifying\n",
    "    y_batches = []\n",
    "    for j in range(batches_amount): # looping through individual url-batches\n",
    "       \n",
    "        # Combine previous days data and all batches up until current\n",
    "        #print(\"parts:\")\n",
    "        #print(\"current batches: {}\".format(x_batches.shape))\n",
    "        #print(\"previous: {}\".format(prev_x.shape))\n",
    "        x_combined = vstack((prev_x, x_batches))\n",
    "        #y_combined = prev_y.extend(y_batches.ravel())\n",
    "        y_combined = np.append(prev_y, y_batches)\n",
    "        #print(\"unsliced comb:  {}\".format(x_combined.shape))\n",
    "        \n",
    "        if (j == 0):\n",
    "            # immediately splice off the trailing url used to initiate the matrix outside of the loop\n",
    "            url_indexes_without_trailing = np.arange(0, prev_x.shape[0])\n",
    "            x_combined = x_combined.tocsr()[url_indexes_without_trailing,:]\n",
    "            \n",
    "            \n",
    "        #print(\"sliced comb:  {}\".format(x_combined.shape))\n",
    "        #print(\"y-sliced comb:  {}\".format(len(y_combined)))\n",
    "        \n",
    "        \n",
    "        # Train for cumulated data excluding current batch\n",
    "        if (x_combined.shape[0] != 0):\n",
    "            clf.fit(x_combined, y_combined)\n",
    "    \n",
    "        # splice current batch off\n",
    "        select_ind = np.arange(j * batch_size, (j+1) * batch_size)\n",
    "        curr_x_batch, curr_y_batch = curr_day_x[select_ind,:], curr_day_y[j] \n",
    "        \n",
    "        # Add current batch to cumulated list of batches\n",
    "        x_batches = vstack((x_batches, curr_x_batch))\n",
    "        if (j == 0):\n",
    "            # immediately splice off the first initial url used to initiate the matrix outside of the loop\n",
    "            url_indexes_without_initial = np.arange(1, x_batches.shape[0])\n",
    "            x_batches = x_batches.tocsr()[url_indexes_without_initial,:]\n",
    "            \n",
    "        y_batches.extend(curr_y_batch)\n",
    "        \n",
    "        # Predict for current batch\n",
    "        if (x_combined.shape[0] != 0):\n",
    "            Y_preds = clf.predict(curr_x_batch)\n",
    "           \n",
    "            # Collect errors\n",
    "            # todo replace with accuracy score\n",
    "            for k in range(batch_size):\n",
    "                if(Y_preds[k] != curr_y_batch[k]):\n",
    "                    err = err + 1\n",
    "        \n",
    "    return err / curr_day_x.shape[0] # Return cumulative error rate"
   ]
  },
  {
   "cell_type": "markdown",
   "id": "9518013e",
   "metadata": {},
   "source": [
    "### Evaluate for all days"
   ]
  },
  {
   "cell_type": "code",
   "execution_count": 6,
   "id": "57040706",
   "metadata": {},
   "outputs": [
    {
     "name": "stdout",
     "output_type": "stream",
     "text": [
      "Error-rate Day 0   : 0.02625\n",
      "Error-rate Day 1   : 0.027000000000000024\n",
      "Error-rate Day 2   : 0.022050000000000014\n",
      "Error-rate Day 3   : 0.022199999999999998\n",
      "Error-rate Day 4   : 0.024700000000000055\n",
      "Error-rate Day 5   : 0.027100000000000013\n",
      "Error-rate Day 6   : 0.030200000000000005\n",
      "Error-rate Day 7   : 0.03444999999999998\n",
      "Error-rate Day 8   : 0.033499999999999974\n",
      "Error-rate Day 9   : 0.037250000000000005\n",
      "Error-rate Day 10   : 0.033950000000000036\n",
      "Error-rate Day 11   : 0.03259999999999996\n",
      "Error-rate Day 12   : 0.027750000000000052\n",
      "Error-rate Day 13   : 0.022399999999999975\n",
      "Error-rate Day 14   : 0.030299999999999994\n",
      "Error-rate Day 15   : 0.02664999999999995\n",
      "Error-rate Day 16   : 0.029349999999999987\n",
      "Error-rate Day 17   : 0.024950000000000028\n",
      "Error-rate Day 18   : 0.024950000000000028\n",
      "Error-rate Day 19   : 0.02510000000000001\n",
      "Error-rate Day 20   : 0.031850000000000045\n",
      "Error-rate Day 21   : 0.03939999999999999\n",
      "Error-rate Day 22   : 0.03854999999999997\n",
      "Error-rate Day 23   : 0.0363\n",
      "Error-rate Day 24   : 0.03774999999999995\n",
      "Error-rate Day 25   : 0.036599999999999966\n",
      "Error-rate Day 26   : 0.031749999999999945\n",
      "Error-rate Day 27   : 0.031000000000000028\n",
      "Error-rate Day 28   : 0.028800000000000048\n",
      "Error-rate Day 29   : 0.029200000000000004\n",
      "Error-rate Day 30   : 0.03759999999999997\n",
      "Error-rate Day 31   : 0.03885000000000005\n",
      "Error-rate Day 32   : 0.03664999999999996\n",
      "Error-rate Day 33   : 0.03705000000000003\n",
      "Error-rate Day 34   : 0.039000000000000035\n",
      "Error-rate Day 35   : 0.046599999999999975\n",
      "Error-rate Day 36   : 0.03859999999999997\n",
      "Error-rate Day 37   : 0.037150000000000016\n",
      "Error-rate Day 38   : 0.056499999999999995\n",
      "Error-rate Day 39   : 0.05945\n",
      "Error-rate Day 40   : 0.04039999999999999\n",
      "Error-rate Day 41   : 0.03134999999999999\n",
      "Error-rate Day 42   : 0.039000000000000035\n",
      "Error-rate Day 43   : 0.037900000000000045\n",
      "Error-rate Day 44   : 0.028100000000000014\n",
      "Error-rate Day 45   : 0.023076923076923106\n",
      "Error-rate Day 46   : 0.033050000000000024\n",
      "Error-rate Day 47   : 0.035699999999999954\n",
      "Error-rate Day 48   : 0.05900000000000005\n",
      "Error-rate Day 49   : 0.051899999999999946\n",
      "Error-rate Day 50   : 0.045499999999999985\n",
      "Error-rate Day 51   : 0.03874999999999995\n",
      "Error-rate Day 52   : 0.035499999999999976\n",
      "Error-rate Day 53   : 0.041749999999999954\n",
      "Error-rate Day 54   : 0.03639999999999999\n",
      "Error-rate Day 55   : 0.028449999999999975\n",
      "Error-rate Day 56   : 0.030299999999999994\n",
      "Error-rate Day 57   : 0.028900000000000037\n",
      "Error-rate Day 58   : 0.03069999999999995\n",
      "Error-rate Day 59   : 0.03115000000000001\n",
      "Error-rate Day 60   : 0.035150000000000015\n",
      "Error-rate Day 61   : 0.03885000000000005\n",
      "Error-rate Day 62   : 0.047699999999999965\n",
      "Error-rate Day 63   : 0.04530000000000001\n",
      "Error-rate Day 64   : 0.036699999999999955\n",
      "Error-rate Day 65   : 0.04085000000000005\n",
      "Error-rate Day 66   : 0.03654999999999997\n",
      "Error-rate Day 67   : 0.040449999999999986\n",
      "Error-rate Day 68   : 0.040649999999999964\n",
      "Error-rate Day 69   : 0.030100000000000016\n",
      "Error-rate Day 70   : 0.036050000000000026\n",
      "Error-rate Day 71   : 0.03385000000000005\n",
      "Error-rate Day 72   : 0.03225\n",
      "Error-rate Day 73   : 0.03369999999999995\n",
      "Error-rate Day 74   : 0.032399999999999984\n",
      "Error-rate Day 75   : 0.037900000000000045\n",
      "Error-rate Day 76   : 0.04200000000000004\n",
      "Error-rate Day 77   : 0.03115000000000001\n",
      "Error-rate Day 78   : 0.04025000000000001\n",
      "Error-rate Day 79   : 0.03785000000000005\n",
      "Error-rate Day 80   : 0.03849999999999998\n",
      "Error-rate Day 81   : 0.03359999999999996\n",
      "Error-rate Day 82   : 0.02905000000000002\n",
      "Error-rate Day 83   : 0.029349999999999987\n",
      "Error-rate Day 84   : 0.027449999999999974\n",
      "Error-rate Day 85   : 0.031850000000000045\n",
      "Error-rate Day 86   : 0.02959999999999996\n",
      "Error-rate Day 87   : 0.03134999999999999\n",
      "Error-rate Day 88   : 0.030950000000000033\n",
      "Error-rate Day 89   : 0.030950000000000033\n",
      "Error-rate Day 90   : 0.029900000000000038\n",
      "Error-rate Day 91   : 0.028249999999999997\n",
      "Error-rate Day 92   : 0.032850000000000046\n",
      "Error-rate Day 93   : 0.03259999999999996\n",
      "Error-rate Day 94   : 0.03115000000000001\n",
      "Error-rate Day 95   : 0.01805000000000001\n",
      "Error-rate Day 96   : 0.029100000000000015\n",
      "Error-rate Day 97   : 0.03639999999999999\n",
      "Error-rate Day 98   : 0.03869999999999996\n",
      "Error-rate Day 99   : 0.03915000000000002\n",
      "Error-rate Day 100   : 0.04359999999999997\n",
      "Error-rate Day 101   : 0.04015000000000002\n",
      "Error-rate Day 102   : 0.041200000000000014\n",
      "Error-rate Day 103   : 0.03534999999999999\n",
      "Error-rate Day 104   : 0.023299999999999987\n",
      "Error-rate Day 105   : 0.026900000000000035\n",
      "Error-rate Day 106   : 0.025800000000000045\n",
      "Error-rate Day 107   : 0.024599999999999955\n",
      "Error-rate Day 108   : 0.04190000000000005\n",
      "Error-rate Day 109   : 0.023900000000000032\n",
      "Error-rate Day 110   : 0.03259999999999996\n",
      "Error-rate Day 111   : 0.03749999999999998\n",
      "Error-rate Day 112   : 0.03590000000000004\n",
      "Error-rate Day 113   : 0.037150000000000016\n",
      "Error-rate Day 114   : 0.03810000000000002\n",
      "Error-rate Day 115   : 0.035050000000000026\n",
      "Error-rate Day 116   : 0.045950000000000046\n",
      "Error-rate Day 117   : 0.0383\n",
      "Error-rate Day 118   : 0.028800000000000048\n",
      "Error-rate Day 119   : 0.029349999999999987\n"
     ]
    }
   ],
   "source": [
    "from sklearn.metrics import accuracy_score\n",
    "\n",
    "error_rates = []\n",
    "batch_size = 50\n",
    "rate = train_and_evaluate(0, 0, clf, batch_size)\n",
    "print(\"Error-rate Day {}   : {}\".format(0, rate))\n",
    "error_rates.append(rate)\n",
    "\n",
    "for i in range(1, num_of_days):\n",
    "    Y_preds = clf.predict(X[i])\n",
    "    rate = 1 - accuracy_score(Y[i], Y_preds)\n",
    "    error_rates.append(rate)\n",
    "    print(\"Error-rate Day {}   : {}\".format(i,rate))\n",
    "    "
   ]
  },
  {
   "cell_type": "code",
   "execution_count": 9,
   "id": "73bbbacb",
   "metadata": {},
   "outputs": [],
   "source": [
    "import matplotlib.pyplot as plt\n",
    "\n",
    "def plot5degree(error_rates, batch_size, scatter = False):\n",
    "    \n",
    "    # Set up the day_indexes with the missing 45th day in mind\n",
    "    y_indexes = np.arange(0, 120)\n",
    "    #y_indexes = np.delete(y_indexes, 46)\n",
    "    \n",
    "    y = np.array(error_rates)\n",
    "    y = y * 100\n",
    "    x = y_indexes\n",
    "    \n",
    "    # create polynomial equation and calculate line\n",
    "    theta = np.polyfit(x, y, 5)\n",
    "    y_line = theta[5] + theta[4] * pow(x, 1) + theta[3] * pow(x, 2) + theta[2] * pow(x, 3) + theta[1] * pow(x, 4) + theta[0] * pow(x, 5)\n",
    "\n",
    "    if (scatter):\n",
    "        plt.scatter(x, y)\n",
    "    \n",
    "    plt.plot(x, y_line, 'r')\n",
    "    plt.title('SVM-ONCE with batch size {}'.format(batch_size))\n",
    "    plt.xlabel('Days')\n",
    "    plt.ylabel('Cumulative error rate')\n",
    "    plt.ylim([0,6])\n",
    "    plt.show()"
   ]
  },
  {
   "cell_type": "code",
   "execution_count": 10,
   "id": "c46db1e2",
   "metadata": {},
   "outputs": [
    {
     "name": "stdout",
     "output_type": "stream",
     "text": [
      "120\n",
      "120\n"
     ]
    },
    {
     "data": {
      "image/png": "[encoded data removed]",
      "text/plain": [
       "<Figure size 432x288 with 1 Axes>"
      ]
     },
     "metadata": {
      "needs_background": "light"
     },
     "output_type": "display_data"
    }
   ],
   "source": [
    "plot5degree(error_rates, batch_size, True)"
   ]
  },
  {
   "cell_type": "code",
   "execution_count": null,
   "id": "345df3e8",
   "metadata": {},
   "outputs": [],
   "source": []
  }
 ],
 "metadata": {
  "kernelspec": {
   "display_name": "Python 3 (ipykernel)",
   "language": "python",
   "name": "python3"
  },
  "language_info": {
   "codemirror_mode": {
    "name": "ipython",
    "version": 3
   },
   "file_extension": ".py",
   "mimetype": "text/x-python",
   "name": "python",
   "nbconvert_exporter": "python",
   "pygments_lexer": "ipython3",
   "version": "3.9.2"
  }
 },
 "nbformat": 4,
 "nbformat_minor": 5
}
