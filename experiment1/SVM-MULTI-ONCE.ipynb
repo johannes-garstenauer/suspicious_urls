{
 "cells": [
  {
   "cell_type": "code",
   "execution_count": 2,
   "id": "9e33345b",
   "metadata": {
    "scrolled": true
   },
   "outputs": [],
   "source": [
    "import scipy.io\n",
    "data = scipy.io.loadmat('../../data/url.mat')"
   ]
  },
  {
   "cell_type": "markdown",
   "id": "7b9fc2f1",
   "metadata": {},
   "source": [
    "**create list for labels and data, where one entry is the data for the day with this index**"
   ]
  },
  {
   "cell_type": "code",
   "execution_count": 3,
   "id": "77e4fb3a",
   "metadata": {},
   "outputs": [],
   "source": [
    "import numpy as np\n",
    "\n",
    "num_of_days = 120\n",
    "X, Y = [], []\n",
    "\n",
    "for i in range(num_of_days):\n",
    "    day_data = data[\"Day\" + str(i)]\n",
    "    X.append(day_data[0][0][0])\n",
    "    Y.append(day_data[0][0][1])"
   ]
  },
  {
   "cell_type": "markdown",
   "id": "d7dd6d9c",
   "metadata": {},
   "source": [
    "**flatten y to not be a nested array**"
   ]
  },
  {
   "cell_type": "code",
   "execution_count": 4,
   "id": "c247aaac",
   "metadata": {},
   "outputs": [],
   "source": [
    "# y-data are lists of numpy-arrays\n",
    "\n",
    "for i in range(len(Y)):\n",
    "    Y[i] = [element for sublist in Y[i] for element in sublist]\n",
    "   \n",
    "# y-data becomes a list of lists"
   ]
  },
  {
   "cell_type": "markdown",
   "id": "d25e6a29",
   "metadata": {},
   "source": [
    "from scipy.sparse import csc_matrix\n",
    "\n",
    "def concatenate_csc_matrices_by_columns(matrix1, matrix2):\n",
    "    new_data = np.concatenate((matrix1.data, matrix2.data))\n",
    "    \n",
    "    \n",
    "    new_indices = np.concatenate((matrix1.indices, matrix2.indices))\n",
    "    \n",
    "    new_ind_ptr = matrix2.indptr + len(matrix1.data)\n",
    "    new_ind_ptr = new_ind_ptr[1:]\n",
    "    new_ind_ptr = np.concatenate((matrix1.indptr, new_ind_ptr))\n",
    "\n",
    "    return csc_matrix((new_data, new_indices, new_ind_ptr))\n",
    "\n",
    "\n",
    "x = concatenate_csc_matrices_by_columns(X[1], X[2])\n",
    "print(x.shape)"
   ]
  },
  {
   "cell_type": "markdown",
   "id": "2ea9c511",
   "metadata": {},
   "source": [
    "### Combine data and value vectors of days 0- 16"
   ]
  },
  {
   "cell_type": "code",
   "execution_count": 5,
   "id": "44ab9669",
   "metadata": {},
   "outputs": [],
   "source": [
    "from scipy.sparse import vstack\n",
    "\n",
    "train_set_size = 17\n",
    "\n",
    "X_combined = vstack((X[0], X[1], X[2], X[3], X[4], X[5], X[6], X[7], X[8], X[9], X[10], X[11], X[12], X[13],\n",
    "                     X[14], X[15], X[16]))\n",
    "\n",
    "Y_combined = np.concatenate((Y[0], Y[1], Y[2], Y[3], Y[4], Y[5], Y[6], Y[7], Y[8], Y[9], Y[10], Y[11], Y[12],\n",
    "                             Y[13], Y[14], Y[15], Y[16]))"
   ]
  },
  {
   "cell_type": "code",
   "execution_count": 6,
   "id": "a66f377c",
   "metadata": {},
   "outputs": [],
   "source": [
    "from scipy.sparse import vstack\n",
    "from scipy.sparse import csr_matrix\n",
    "import numpy as np\n",
    "\n",
    "# takes a range of days (start until to)\n",
    "# fits the model with the data from the range until \"to\" itself\n",
    "# for day \"to\" for each url_batch the data is refitted (prevoius days data from range + all batches up to current)\n",
    "# and predicticed for the succesive batch of urls\n",
    "# returns the cumulative error rate for day \"to\"\n",
    "# batch_size determines the size of url_batches for which data is predicted and fitted on the \"to\" day\n",
    "def train_and_evaluate(start, to, clf, batch_size = 1):\n",
    "    \n",
    "    prev_x = X[0][0,:] #random row for initialization purposes, spliced off later before classifying\n",
    "    \n",
    "    prev_y = []\n",
    "    for prev_day in range(start, to):\n",
    "        \n",
    "        prev_x = vstack((prev_x, X[prev_day])) # stack up all matrices to previous day\n",
    "        prev_y = np.concatenate((prev_y, Y[prev_day])) # stack up all labels to previous day\n",
    "        \n",
    "    # immediately splice off the first initial url used to initiate the matrix outside of the loop\n",
    "    url_indexes_without_initial = np.arange(1, prev_x.shape[0])\n",
    "    prev_x = prev_x.tocsr()[url_indexes_without_initial,:]\n",
    "    \n",
    "    # change X to row format for faster slicing row-wise.\n",
    "    curr_day_x = X[to].tocsr()\n",
    "    \n",
    "    # split the data in slices of batch_size\n",
    "    batches_amount = int(curr_day_x.shape[0] / batch_size)\n",
    "    curr_day_y = np.array_split(Y[to], batches_amount)\n",
    "    \n",
    "    err = 0\n",
    "    x_batches = X[0][0,:] #random row for initialization purposes, spliced off later before classifying\n",
    "    y_batches = []\n",
    "    for j in range(batches_amount): # looping through individual url-batches\n",
    "       \n",
    "        # Combine previous days data and all batches up until current\n",
    "        x_combined = vstack((prev_x, x_batches))\n",
    "        y_combined = np.append(prev_y, y_batches)\n",
    "        \n",
    "        if (j == 0):\n",
    "            # immediately splice off the trailing url used to initiate the matrix outside of the loop\n",
    "            url_indexes_without_trailing = np.arange(0, prev_x.shape[0])\n",
    "            x_combined = x_combined.tocsr()[url_indexes_without_trailing,:]\n",
    "        \n",
    "        # Train for cumulated data excluding current batch\n",
    "        if (x_combined.shape[0] != 0):\n",
    "            clf.fit(x_combined, y_combined)\n",
    "    \n",
    "        # splice current batch off\n",
    "        select_ind = np.arange(j * batch_size, (j+1) * batch_size)\n",
    "        curr_x_batch, curr_y_batch = curr_day_x[select_ind,:], curr_day_y[j] \n",
    "        \n",
    "        # Add current batch to cumulated list of batches\n",
    "        x_batches = vstack((x_batches, curr_x_batch))\n",
    "        if (j == 0):\n",
    "            # immediately splice off the first initial url used to initiate the matrix outside of the loop\n",
    "            url_indexes_without_initial = np.arange(1, x_batches.shape[0])\n",
    "            x_batches = x_batches.tocsr()[url_indexes_without_initial,:]\n",
    "            \n",
    "        y_batches.extend(curr_y_batch)\n",
    "        \n",
    "        # Predict for current batch\n",
    "        if (x_combined.shape[0] != 0):\n",
    "            Y_preds = clf.predict(curr_x_batch)\n",
    "           \n",
    "            # Collect errors\n",
    "            for k in range(batch_size):\n",
    "                if(Y_preds[k] != curr_y_batch[k]):\n",
    "                    err = err + 1\n",
    "        \n",
    "    return err / curr_day_x.shape[0] # Return cumulative error rate"
   ]
  },
  {
   "cell_type": "markdown",
   "id": "7235e401",
   "metadata": {},
   "source": [
    "### Train once on data for days 0-16 and (evaluate for those days)"
   ]
  },
  {
   "cell_type": "code",
   "execution_count": 7,
   "id": "1942485d",
   "metadata": {},
   "outputs": [
    {
     "ename": "KeyboardInterrupt",
     "evalue": "",
     "output_type": "error",
     "traceback": [
      "\u001b[0;31m---------------------------------------------------------------------------\u001b[0m",
      "\u001b[0;31mKeyboardInterrupt\u001b[0m                         Traceback (most recent call last)",
      "Input \u001b[0;32mIn [7]\u001b[0m, in \u001b[0;36m<cell line: 6>\u001b[0;34m()\u001b[0m\n\u001b[1;32m      5\u001b[0m error_rates \u001b[38;5;241m=\u001b[39m  []\n\u001b[1;32m      6\u001b[0m \u001b[38;5;28;01mfor\u001b[39;00m i \u001b[38;5;129;01min\u001b[39;00m \u001b[38;5;28mrange\u001b[39m(train_set_size):\n\u001b[0;32m----> 7\u001b[0m     rate \u001b[38;5;241m=\u001b[39m \u001b[43mtrain_and_evaluate\u001b[49m\u001b[43m(\u001b[49m\u001b[38;5;241;43m0\u001b[39;49m\u001b[43m,\u001b[49m\u001b[43m \u001b[49m\u001b[43mi\u001b[49m\u001b[43m,\u001b[49m\u001b[43m \u001b[49m\u001b[43mclf\u001b[49m\u001b[43m,\u001b[49m\u001b[43m \u001b[49m\u001b[43mbatch_size\u001b[49m\u001b[43m)\u001b[49m\n\u001b[1;32m      8\u001b[0m     error_rates\u001b[38;5;241m.\u001b[39mappend(rate)\n\u001b[1;32m      9\u001b[0m     \u001b[38;5;28mprint\u001b[39m(\u001b[38;5;124m\"\u001b[39m\u001b[38;5;124mError-rate Day \u001b[39m\u001b[38;5;132;01m{}\u001b[39;00m\u001b[38;5;124m   : \u001b[39m\u001b[38;5;132;01m{}\u001b[39;00m\u001b[38;5;124m\"\u001b[39m\u001b[38;5;241m.\u001b[39mformat(i, rate))\n",
      "Input \u001b[0;32mIn [6]\u001b[0m, in \u001b[0;36mtrain_and_evaluate\u001b[0;34m(start, to, clf, batch_size)\u001b[0m\n\u001b[1;32m     46\u001b[0m \u001b[38;5;66;03m# Train for cumulated data excluding current batch\u001b[39;00m\n\u001b[1;32m     47\u001b[0m \u001b[38;5;28;01mif\u001b[39;00m (x_combined\u001b[38;5;241m.\u001b[39mshape[\u001b[38;5;241m0\u001b[39m] \u001b[38;5;241m!=\u001b[39m \u001b[38;5;241m0\u001b[39m):\n\u001b[0;32m---> 48\u001b[0m     \u001b[43mclf\u001b[49m\u001b[38;5;241;43m.\u001b[39;49m\u001b[43mfit\u001b[49m\u001b[43m(\u001b[49m\u001b[43mx_combined\u001b[49m\u001b[43m,\u001b[49m\u001b[43m \u001b[49m\u001b[43my_combined\u001b[49m\u001b[43m)\u001b[49m\n\u001b[1;32m     50\u001b[0m \u001b[38;5;66;03m# splice current batch off\u001b[39;00m\n\u001b[1;32m     51\u001b[0m select_ind \u001b[38;5;241m=\u001b[39m np\u001b[38;5;241m.\u001b[39marange(j \u001b[38;5;241m*\u001b[39m batch_size, (j\u001b[38;5;241m+\u001b[39m\u001b[38;5;241m1\u001b[39m) \u001b[38;5;241m*\u001b[39m batch_size)\n",
      "File \u001b[0;32m/usr/local/lib/python3.9/dist-packages/sklearn/svm/_classes.py:257\u001b[0m, in \u001b[0;36mLinearSVC.fit\u001b[0;34m(self, X, y, sample_weight)\u001b[0m\n\u001b[1;32m    254\u001b[0m check_classification_targets(y)\n\u001b[1;32m    255\u001b[0m \u001b[38;5;28mself\u001b[39m\u001b[38;5;241m.\u001b[39mclasses_ \u001b[38;5;241m=\u001b[39m np\u001b[38;5;241m.\u001b[39munique(y)\n\u001b[0;32m--> 257\u001b[0m \u001b[38;5;28mself\u001b[39m\u001b[38;5;241m.\u001b[39mcoef_, \u001b[38;5;28mself\u001b[39m\u001b[38;5;241m.\u001b[39mintercept_, \u001b[38;5;28mself\u001b[39m\u001b[38;5;241m.\u001b[39mn_iter_ \u001b[38;5;241m=\u001b[39m \u001b[43m_fit_liblinear\u001b[49m\u001b[43m(\u001b[49m\n\u001b[1;32m    258\u001b[0m \u001b[43m    \u001b[49m\u001b[43mX\u001b[49m\u001b[43m,\u001b[49m\n\u001b[1;32m    259\u001b[0m \u001b[43m    \u001b[49m\u001b[43my\u001b[49m\u001b[43m,\u001b[49m\n\u001b[1;32m    260\u001b[0m \u001b[43m    \u001b[49m\u001b[38;5;28;43mself\u001b[39;49m\u001b[38;5;241;43m.\u001b[39;49m\u001b[43mC\u001b[49m\u001b[43m,\u001b[49m\n\u001b[1;32m    261\u001b[0m \u001b[43m    \u001b[49m\u001b[38;5;28;43mself\u001b[39;49m\u001b[38;5;241;43m.\u001b[39;49m\u001b[43mfit_intercept\u001b[49m\u001b[43m,\u001b[49m\n\u001b[1;32m    262\u001b[0m \u001b[43m    \u001b[49m\u001b[38;5;28;43mself\u001b[39;49m\u001b[38;5;241;43m.\u001b[39;49m\u001b[43mintercept_scaling\u001b[49m\u001b[43m,\u001b[49m\n\u001b[1;32m    263\u001b[0m \u001b[43m    \u001b[49m\u001b[38;5;28;43mself\u001b[39;49m\u001b[38;5;241;43m.\u001b[39;49m\u001b[43mclass_weight\u001b[49m\u001b[43m,\u001b[49m\n\u001b[1;32m    264\u001b[0m \u001b[43m    \u001b[49m\u001b[38;5;28;43mself\u001b[39;49m\u001b[38;5;241;43m.\u001b[39;49m\u001b[43mpenalty\u001b[49m\u001b[43m,\u001b[49m\n\u001b[1;32m    265\u001b[0m \u001b[43m    \u001b[49m\u001b[38;5;28;43mself\u001b[39;49m\u001b[38;5;241;43m.\u001b[39;49m\u001b[43mdual\u001b[49m\u001b[43m,\u001b[49m\n\u001b[1;32m    266\u001b[0m \u001b[43m    \u001b[49m\u001b[38;5;28;43mself\u001b[39;49m\u001b[38;5;241;43m.\u001b[39;49m\u001b[43mverbose\u001b[49m\u001b[43m,\u001b[49m\n\u001b[1;32m    267\u001b[0m \u001b[43m    \u001b[49m\u001b[38;5;28;43mself\u001b[39;49m\u001b[38;5;241;43m.\u001b[39;49m\u001b[43mmax_iter\u001b[49m\u001b[43m,\u001b[49m\n\u001b[1;32m    268\u001b[0m \u001b[43m    \u001b[49m\u001b[38;5;28;43mself\u001b[39;49m\u001b[38;5;241;43m.\u001b[39;49m\u001b[43mtol\u001b[49m\u001b[43m,\u001b[49m\n\u001b[1;32m    269\u001b[0m \u001b[43m    \u001b[49m\u001b[38;5;28;43mself\u001b[39;49m\u001b[38;5;241;43m.\u001b[39;49m\u001b[43mrandom_state\u001b[49m\u001b[43m,\u001b[49m\n\u001b[1;32m    270\u001b[0m \u001b[43m    \u001b[49m\u001b[38;5;28;43mself\u001b[39;49m\u001b[38;5;241;43m.\u001b[39;49m\u001b[43mmulti_class\u001b[49m\u001b[43m,\u001b[49m\n\u001b[1;32m    271\u001b[0m \u001b[43m    \u001b[49m\u001b[38;5;28;43mself\u001b[39;49m\u001b[38;5;241;43m.\u001b[39;49m\u001b[43mloss\u001b[49m\u001b[43m,\u001b[49m\n\u001b[1;32m    272\u001b[0m \u001b[43m    \u001b[49m\u001b[43msample_weight\u001b[49m\u001b[38;5;241;43m=\u001b[39;49m\u001b[43msample_weight\u001b[49m\u001b[43m,\u001b[49m\n\u001b[1;32m    273\u001b[0m \u001b[43m\u001b[49m\u001b[43m)\u001b[49m\n\u001b[1;32m    275\u001b[0m \u001b[38;5;28;01mif\u001b[39;00m \u001b[38;5;28mself\u001b[39m\u001b[38;5;241m.\u001b[39mmulti_class \u001b[38;5;241m==\u001b[39m \u001b[38;5;124m\"\u001b[39m\u001b[38;5;124mcrammer_singer\u001b[39m\u001b[38;5;124m\"\u001b[39m \u001b[38;5;129;01mand\u001b[39;00m \u001b[38;5;28mlen\u001b[39m(\u001b[38;5;28mself\u001b[39m\u001b[38;5;241m.\u001b[39mclasses_) \u001b[38;5;241m==\u001b[39m \u001b[38;5;241m2\u001b[39m:\n\u001b[1;32m    276\u001b[0m     \u001b[38;5;28mself\u001b[39m\u001b[38;5;241m.\u001b[39mcoef_ \u001b[38;5;241m=\u001b[39m (\u001b[38;5;28mself\u001b[39m\u001b[38;5;241m.\u001b[39mcoef_[\u001b[38;5;241m1\u001b[39m] \u001b[38;5;241m-\u001b[39m \u001b[38;5;28mself\u001b[39m\u001b[38;5;241m.\u001b[39mcoef_[\u001b[38;5;241m0\u001b[39m])\u001b[38;5;241m.\u001b[39mreshape(\u001b[38;5;241m1\u001b[39m, \u001b[38;5;241m-\u001b[39m\u001b[38;5;241m1\u001b[39m)\n",
      "File \u001b[0;32m/usr/local/lib/python3.9/dist-packages/sklearn/svm/_base.py:1186\u001b[0m, in \u001b[0;36m_fit_liblinear\u001b[0;34m(X, y, C, fit_intercept, intercept_scaling, class_weight, penalty, dual, verbose, max_iter, tol, random_state, multi_class, loss, epsilon, sample_weight)\u001b[0m\n\u001b[1;32m   1183\u001b[0m sample_weight \u001b[38;5;241m=\u001b[39m _check_sample_weight(sample_weight, X, dtype\u001b[38;5;241m=\u001b[39mnp\u001b[38;5;241m.\u001b[39mfloat64)\n\u001b[1;32m   1185\u001b[0m solver_type \u001b[38;5;241m=\u001b[39m _get_liblinear_solver_type(multi_class, penalty, loss, dual)\n\u001b[0;32m-> 1186\u001b[0m raw_coef_, n_iter_ \u001b[38;5;241m=\u001b[39m \u001b[43mliblinear\u001b[49m\u001b[38;5;241;43m.\u001b[39;49m\u001b[43mtrain_wrap\u001b[49m\u001b[43m(\u001b[49m\n\u001b[1;32m   1187\u001b[0m \u001b[43m    \u001b[49m\u001b[43mX\u001b[49m\u001b[43m,\u001b[49m\n\u001b[1;32m   1188\u001b[0m \u001b[43m    \u001b[49m\u001b[43my_ind\u001b[49m\u001b[43m,\u001b[49m\n\u001b[1;32m   1189\u001b[0m \u001b[43m    \u001b[49m\u001b[43msp\u001b[49m\u001b[38;5;241;43m.\u001b[39;49m\u001b[43misspmatrix\u001b[49m\u001b[43m(\u001b[49m\u001b[43mX\u001b[49m\u001b[43m)\u001b[49m\u001b[43m,\u001b[49m\n\u001b[1;32m   1190\u001b[0m \u001b[43m    \u001b[49m\u001b[43msolver_type\u001b[49m\u001b[43m,\u001b[49m\n\u001b[1;32m   1191\u001b[0m \u001b[43m    \u001b[49m\u001b[43mtol\u001b[49m\u001b[43m,\u001b[49m\n\u001b[1;32m   1192\u001b[0m \u001b[43m    \u001b[49m\u001b[43mbias\u001b[49m\u001b[43m,\u001b[49m\n\u001b[1;32m   1193\u001b[0m \u001b[43m    \u001b[49m\u001b[43mC\u001b[49m\u001b[43m,\u001b[49m\n\u001b[1;32m   1194\u001b[0m \u001b[43m    \u001b[49m\u001b[43mclass_weight_\u001b[49m\u001b[43m,\u001b[49m\n\u001b[1;32m   1195\u001b[0m \u001b[43m    \u001b[49m\u001b[43mmax_iter\u001b[49m\u001b[43m,\u001b[49m\n\u001b[1;32m   1196\u001b[0m \u001b[43m    \u001b[49m\u001b[43mrnd\u001b[49m\u001b[38;5;241;43m.\u001b[39;49m\u001b[43mrandint\u001b[49m\u001b[43m(\u001b[49m\u001b[43mnp\u001b[49m\u001b[38;5;241;43m.\u001b[39;49m\u001b[43miinfo\u001b[49m\u001b[43m(\u001b[49m\u001b[38;5;124;43m\"\u001b[39;49m\u001b[38;5;124;43mi\u001b[39;49m\u001b[38;5;124;43m\"\u001b[39;49m\u001b[43m)\u001b[49m\u001b[38;5;241;43m.\u001b[39;49m\u001b[43mmax\u001b[49m\u001b[43m)\u001b[49m\u001b[43m,\u001b[49m\n\u001b[1;32m   1197\u001b[0m \u001b[43m    \u001b[49m\u001b[43mepsilon\u001b[49m\u001b[43m,\u001b[49m\n\u001b[1;32m   1198\u001b[0m \u001b[43m    \u001b[49m\u001b[43msample_weight\u001b[49m\u001b[43m,\u001b[49m\n\u001b[1;32m   1199\u001b[0m \u001b[43m\u001b[49m\u001b[43m)\u001b[49m\n\u001b[1;32m   1200\u001b[0m \u001b[38;5;66;03m# Regarding rnd.randint(..) in the above signature:\u001b[39;00m\n\u001b[1;32m   1201\u001b[0m \u001b[38;5;66;03m# seed for srand in range [0..INT_MAX); due to limitations in Numpy\u001b[39;00m\n\u001b[1;32m   1202\u001b[0m \u001b[38;5;66;03m# on 32-bit platforms, we can't get to the UINT_MAX limit that\u001b[39;00m\n\u001b[1;32m   1203\u001b[0m \u001b[38;5;66;03m# srand supports\u001b[39;00m\n\u001b[1;32m   1204\u001b[0m n_iter_ \u001b[38;5;241m=\u001b[39m \u001b[38;5;28mmax\u001b[39m(n_iter_)\n",
      "\u001b[0;31mKeyboardInterrupt\u001b[0m: "
     ]
    }
   ],
   "source": [
    "from sklearn.svm import LinearSVC\n",
    "\n",
    "clf = LinearSVC(C=0.01)\n",
    "batch_size = 4000\n",
    "error_rates =  []\n",
    "for i in range(train_set_size):\n",
    "    rate = train_and_evaluate(0, i, clf, batch_size)\n",
    "    error_rates.append(rate)\n",
    "    print(\"Error-rate Day {}   : {}\".format(i, rate))"
   ]
  },
  {
   "cell_type": "markdown",
   "id": "3e417c26",
   "metadata": {},
   "source": [
    "### Evaluate for all days"
   ]
  },
  {
   "cell_type": "code",
   "execution_count": null,
   "id": "57040706",
   "metadata": {
    "scrolled": false
   },
   "outputs": [],
   "source": [
    "from sklearn.metrics import accuracy_score\n",
    "\n",
    "\n",
    "for i in range(train_set_size - 1, num_of_days):\n",
    "    Y_preds = clf.predict(X[i])\n",
    "    rate = 1 - accuracy_score(Y[i], Y_preds)\n",
    "    error_rates.append(rate)\n",
    "    print(\"Error-rate Day {}   : {}\".format(i,rate))"
   ]
  },
  {
   "cell_type": "code",
   "execution_count": null,
   "id": "20498211",
   "metadata": {},
   "outputs": [],
   "source": [
    "import matplotlib.pyplot as plt\n",
    "\n",
    "def plot5degree(error_rates, batch_size, scatter = False):\n",
    "    \n",
    "    # Set up the day_indexes with the missing 45th day in mind\n",
    "    y_indexes = np.arange(0, 120)\n",
    "    y_indexes = np.delete(y_indexes, 46)\n",
    "    \n",
    "    y = np.array(error_rates)\n",
    "    y = y * 100\n",
    "    x = y_indexes\n",
    "\n",
    "    # create polynomial equation and calculate line\n",
    "    theta = np.polyfit(x, y, 5)\n",
    "    y_line = theta[5] + theta[4] * pow(x, 1) + theta[3] * pow(x, 2) + theta[2] * pow(x, 3) + theta[1] * pow(x, 4) + theta[0] * pow(x, 5)\n",
    "\n",
    "    if (scatter):\n",
    "        plt.scatter(x, y)\n",
    "    \n",
    "    plt.plot(x, y_line, 'r')\n",
    "    plt.title('SVM-MULTI-Once with batch size {}'.format(batch_size))\n",
    "    plt.xlabel('Days')\n",
    "    plt.ylabel('Cumulative error rate')\n",
    "    plt.ylim([0,6])\n",
    "    plt.show()"
   ]
  },
  {
   "cell_type": "code",
   "execution_count": null,
   "id": "12883a6e",
   "metadata": {},
   "outputs": [],
   "source": [
    "plot5degree(error_rates, batch_size, True)"
   ]
  },
  {
   "cell_type": "markdown",
   "id": "688173eb",
   "metadata": {},
   "source": [
    "### Alternative to eliminate 0 results"
   ]
  },
  {
   "cell_type": "markdown",
   "id": "14fd6bd6",
   "metadata": {},
   "source": [
    "from scipy.sparse import vstack\n",
    "from sklearn.svm import LinearSVC\n",
    "from sklearn.metrics import accuracy_score\n",
    "\n",
    "train_set_size = 17\n",
    "\n",
    "for curr_day in range (1, train_set_size + 1): # for each day of the training set\n",
    "    \n",
    "    #for u in range(X[0].shape[0]): # for each url\n",
    "    # do same for all urls!\n",
    "    \n",
    "    # leaving out day 0 for now\n",
    "    prev_x = X[0]\n",
    "    prev_y = Y[0]\n",
    "        \n",
    "    for j in range(1, curr_day):\n",
    "        prev_x = vstack((prev_x, X[j])) # stack up all matrices to previous day\n",
    "        prev_y = np.concatenate((prev_y, Y[j]))\n",
    "    \n",
    "    clf = LinearSVC()\n",
    "    clf.fit(prev_x, prev_y)\n",
    "    \n",
    "    Y_preds = clf.predict(X[curr_day])\n",
    "    print(\"Error-rate Day {}   : {}\".format(curr_day,1 - accuracy_score(Y[curr_day], Y_preds)))\n",
    "        # split off until current url\n",
    "        #prev_x =\n",
    "        #prev_y =\n",
    "        #curr_url_x =\n",
    "        \n",
    "        \n",
    "        \n",
    "# for all following days\n",
    "for i in range(18, num_of_days):\n",
    "    Y_preds = clf.predict(X[i])\n",
    "    print(\"Error-rate Day {}   : {}\".format(i,1 - accuracy_score(Y[i], Y_preds)))\n"
   ]
  },
  {
   "cell_type": "code",
   "execution_count": null,
   "id": "7a89b966",
   "metadata": {},
   "outputs": [],
   "source": []
  }
 ],
 "metadata": {
  "kernelspec": {
   "display_name": "Python 3 (ipykernel)",
   "language": "python",
   "name": "python3"
  },
  "language_info": {
   "codemirror_mode": {
    "name": "ipython",
    "version": 3
   },
   "file_extension": ".py",
   "mimetype": "text/x-python",
   "name": "python",
   "nbconvert_exporter": "python",
   "pygments_lexer": "ipython3",
   "version": "3.9.2"
  }
 },
 "nbformat": 4,
 "nbformat_minor": 5
}
