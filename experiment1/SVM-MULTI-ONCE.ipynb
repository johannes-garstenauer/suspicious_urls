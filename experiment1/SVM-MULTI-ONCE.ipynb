{
 "cells": [
  {
   "cell_type": "code",
   "execution_count": 3,
   "id": "9e33345b",
   "metadata": {
    "scrolled": true
   },
   "outputs": [],
   "source": [
    "import scipy.io\n",
    "data = scipy.io.loadmat('data/url.mat')"
   ]
  },
  {
   "cell_type": "markdown",
   "id": "7b9fc2f1",
   "metadata": {},
   "source": [
    "**create list for labels and data, where one entry is the data for the day with this index**"
   ]
  },
  {
   "cell_type": "code",
   "execution_count": 4,
   "id": "77e4fb3a",
   "metadata": {},
   "outputs": [],
   "source": [
    "import numpy as np\n",
    "\n",
    "num_of_days = 120\n",
    "X, Y = [], []\n",
    "\n",
    "for i in range(num_of_days):\n",
    "    day_data = data[\"Day\" + str(i)]\n",
    "    X.append(day_data[0][0][0])\n",
    "    Y.append(day_data[0][0][1])"
   ]
  },
  {
   "cell_type": "markdown",
   "id": "d7dd6d9c",
   "metadata": {},
   "source": [
    "**flatten y to not be a nested array**"
   ]
  },
  {
   "cell_type": "code",
   "execution_count": 5,
   "id": "c247aaac",
   "metadata": {},
   "outputs": [],
   "source": [
    "# y-data are lists of numpy-arrays\n",
    "\n",
    "for i in range(len(Y)):\n",
    "    Y[i] = [element for sublist in Y[i] for element in sublist]\n",
    "   \n",
    "# y-data becomes a list of lists"
   ]
  },
  {
   "cell_type": "code",
   "execution_count": 25,
   "id": "197df2a6",
   "metadata": {},
   "outputs": [
    {
     "name": "stdout",
     "output_type": "stream",
     "text": [
      "(20000, 6463922)\n"
     ]
    }
   ],
   "source": [
    "from scipy.sparse import csc_matrix\n",
    "\n",
    "def concatenate_csc_matrices_by_columns(matrix1, matrix2):\n",
    "    new_data = np.concatenate((matrix1.data, matrix2.data))\n",
    "    \n",
    "    \n",
    "    new_indices = np.concatenate((matrix1.indices, matrix2.indices))\n",
    "    \n",
    "    new_ind_ptr = matrix2.indptr + len(matrix1.data)\n",
    "    new_ind_ptr = new_ind_ptr[1:]\n",
    "    new_ind_ptr = np.concatenate((matrix1.indptr, new_ind_ptr))\n",
    "\n",
    "    return csc_matrix((new_data, new_indices, new_ind_ptr))\n",
    "\n",
    "\n",
    "x = concatenate_csc_matrices_by_columns(X[1], X[2])\n",
    "print(x.shape)"
   ]
  },
  {
   "cell_type": "markdown",
   "id": "2ea9c511",
   "metadata": {},
   "source": [
    "### Combine data and value vectors of days 0- 16"
   ]
  },
  {
   "cell_type": "code",
   "execution_count": 30,
   "id": "9c3f17bd",
   "metadata": {
    "scrolled": true
   },
   "outputs": [
    {
     "name": "stdout",
     "output_type": "stream",
     "text": [
      "(16000, 3231961)\n",
      "(20000, 3231961)\n",
      "(2, 1)\n",
      "[[<20000x3231961 sparse matrix of type '<class 'numpy.float64'>'\n",
      "\twith 2304202 stored elements in Compressed Sparse Column format>]\n",
      " [<20000x3231961 sparse matrix of type '<class 'numpy.float64'>'\n",
      "\twith 2300129 stored elements in Compressed Sparse Column format>]]\n"
     ]
    }
   ],
   "source": [
    "from numpy import vstack\n",
    "\n",
    "print(X[0].shape)\n",
    "print(X[1].shape)\n",
    "x2 = vstack((X[1], X[2]))\n",
    "            \n",
    "print(x2.shape)\n",
    "print(x2)\n",
    "\n",
    "## So what now:\n",
    "# try to stack the data \n",
    "#(find other way, redo the function aboce to fit my needs, workaround for the error from scipy.vstack)\n",
    "# try to do fit with array like [X[1], X[2], X[3] ..], [Y[1], Y[2], Y[3] ..], \n",
    "\n",
    "##print(type(Y[0]))"
   ]
  },
  {
   "cell_type": "markdown",
   "id": "7235e401",
   "metadata": {},
   "source": [
    "### Train once on data for days 0-16"
   ]
  },
  {
   "cell_type": "code",
   "execution_count": 6,
   "id": "1942485d",
   "metadata": {},
   "outputs": [
    {
     "ename": "AttributeError",
     "evalue": "'LinearSVC' object has no attribute 'partial_fit'",
     "output_type": "error",
     "traceback": [
      "\u001b[0;31m---------------------------------------------------------------------------\u001b[0m",
      "\u001b[0;31mAttributeError\u001b[0m                            Traceback (most recent call last)",
      "Input \u001b[0;32mIn [6]\u001b[0m, in \u001b[0;36m<cell line: 5>\u001b[0;34m()\u001b[0m\n\u001b[1;32m      3\u001b[0m clf \u001b[38;5;241m=\u001b[39m LinearSVC()\n\u001b[1;32m      5\u001b[0m \u001b[38;5;28;01mfor\u001b[39;00m i \u001b[38;5;129;01min\u001b[39;00m \u001b[38;5;28mrange\u001b[39m(\u001b[38;5;241m17\u001b[39m):\n\u001b[0;32m----> 6\u001b[0m     \u001b[43mclf\u001b[49m\u001b[38;5;241;43m.\u001b[39;49m\u001b[43mpartial_fit\u001b[49m(X[i], Y[i])\n",
      "\u001b[0;31mAttributeError\u001b[0m: 'LinearSVC' object has no attribute 'partial_fit'"
     ]
    }
   ],
   "source": [
    "from sklearn.svm import LinearSVC\n",
    "\n",
    "clf = LinearSVC()\n",
    "\n",
    "for i in range(17):\n",
    "    clf.fit(x2, Y[i])"
   ]
  },
  {
   "cell_type": "markdown",
   "id": "3e417c26",
   "metadata": {},
   "source": [
    "### Evaluate for all days"
   ]
  },
  {
   "cell_type": "code",
   "execution_count": null,
   "id": "57040706",
   "metadata": {},
   "outputs": [],
   "source": [
    "from sklearn.metrics import accuracy_score\n",
    "\n",
    "Y_test_preds = []\n",
    "\n",
    "for i in range(0, num_of_days):\n",
    "    Y_preds = clf.predict(X[i])\n",
    "    print(\"Error-rate Day {}   : {}\".format(i,1 - accuracy_score(Y[i], Y_preds)))"
   ]
  },
  {
   "cell_type": "code",
   "execution_count": null,
   "id": "72a59a09",
   "metadata": {},
   "outputs": [],
   "source": []
  }
 ],
 "metadata": {
  "kernelspec": {
   "display_name": "Python 3 (ipykernel)",
   "language": "python",
   "name": "python3"
  },
  "language_info": {
   "codemirror_mode": {
    "name": "ipython",
    "version": 3
   },
   "file_extension": ".py",
   "mimetype": "text/x-python",
   "name": "python",
   "nbconvert_exporter": "python",
   "pygments_lexer": "ipython3",
   "version": "3.9.2"
  }
 },
 "nbformat": 4,
 "nbformat_minor": 5
}
