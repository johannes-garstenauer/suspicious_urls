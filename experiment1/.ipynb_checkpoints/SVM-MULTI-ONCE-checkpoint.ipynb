{
 "cells": [
  {
   "cell_type": "code",
   "execution_count": 42,
   "id": "9e33345b",
   "metadata": {
    "scrolled": true
   },
   "outputs": [],
   "source": [
    "import scipy.io\n",
    "data = scipy.io.loadmat('../../data/url.mat')"
   ]
  },
  {
   "cell_type": "markdown",
   "id": "7b9fc2f1",
   "metadata": {},
   "source": [
    "**create list for labels and data, where one entry is the data for the day with this index**"
   ]
  },
  {
   "cell_type": "code",
   "execution_count": 43,
   "id": "77e4fb3a",
   "metadata": {},
   "outputs": [],
   "source": [
    "import numpy as np\n",
    "\n",
    "num_of_days = 120\n",
    "X, Y = [], []\n",
    "\n",
    "for i in range(num_of_days):\n",
    "    day_data = data[\"Day\" + str(i)]\n",
    "    X.append(day_data[0][0][0])\n",
    "    Y.append(day_data[0][0][1])"
   ]
  },
  {
   "cell_type": "markdown",
   "id": "d7dd6d9c",
   "metadata": {},
   "source": [
    "**flatten y to not be a nested array**"
   ]
  },
  {
   "cell_type": "code",
   "execution_count": 44,
   "id": "c247aaac",
   "metadata": {},
   "outputs": [],
   "source": [
    "# y-data are lists of numpy-arrays\n",
    "\n",
    "for i in range(len(Y)):\n",
    "    Y[i] = [element for sublist in Y[i] for element in sublist]\n",
    "   \n",
    "# y-data becomes a list of lists"
   ]
  },
  {
   "cell_type": "markdown",
   "id": "d25e6a29",
   "metadata": {},
   "source": [
    "from scipy.sparse import csc_matrix\n",
    "\n",
    "def concatenate_csc_matrices_by_columns(matrix1, matrix2):\n",
    "    new_data = np.concatenate((matrix1.data, matrix2.data))\n",
    "    \n",
    "    \n",
    "    new_indices = np.concatenate((matrix1.indices, matrix2.indices))\n",
    "    \n",
    "    new_ind_ptr = matrix2.indptr + len(matrix1.data)\n",
    "    new_ind_ptr = new_ind_ptr[1:]\n",
    "    new_ind_ptr = np.concatenate((matrix1.indptr, new_ind_ptr))\n",
    "\n",
    "    return csc_matrix((new_data, new_indices, new_ind_ptr))\n",
    "\n",
    "\n",
    "x = concatenate_csc_matrices_by_columns(X[1], X[2])\n",
    "print(x.shape)"
   ]
  },
  {
   "cell_type": "markdown",
   "id": "2ea9c511",
   "metadata": {},
   "source": [
    "### Combine data and value vectors of days 0- 16"
   ]
  },
  {
   "cell_type": "code",
   "execution_count": null,
   "id": "44ab9669",
   "metadata": {},
   "outputs": [],
   "source": [
    "from scipy.sparse import vstack\n",
    "\n",
    "train_set_size = 17\n",
    "\n",
    "X_combined = vstack((X[0], X[1], X[2], X[3], X[4], X[5], X[6], X[7], X[8], X[9], X[10], X[11], X[12], X[13],\n",
    "                     X[14], X[15], X[16]))\n",
    "\n",
    "Y_combined = np.concatenate((Y[0], Y[1], Y[2], Y[3], Y[4], Y[5], Y[6], Y[7], Y[8], Y[9], Y[10], Y[11], Y[12],\n",
    "                             Y[13], Y[14], Y[15], Y[16]))\n",
    "\n",
    "print(len(Y_combined))\n",
    "print(Y_combined)\n",
    "\n",
    "## So what now:\n",
    "# try to stack the data \n",
    "#(find other way, redo the function aboce to fit my needs, workaround for the error from scipy.vstack)\n",
    "# try to do fit with array like [X[1], X[2], X[3] ..], [Y[1], Y[2], Y[3] ..], \n",
    "\n",
    "##print(type(Y[0]))"
   ]
  },
  {
   "cell_type": "markdown",
   "id": "7235e401",
   "metadata": {},
   "source": [
    "### Train once on data for days 0-16 and (evaluate for those days)"
   ]
  },
  {
   "cell_type": "code",
   "execution_count": 46,
   "id": "1942485d",
   "metadata": {},
   "outputs": [
    {
     "name": "stderr",
     "output_type": "stream",
     "text": [
      "/usr/local/lib/python3.9/dist-packages/sklearn/svm/_base.py:1206: ConvergenceWarning: Liblinear failed to converge, increase the number of iterations.\n",
      "  warnings.warn(\n"
     ]
    },
    {
     "data": {
      "text/plain": [
       "LinearSVC()"
      ]
     },
     "execution_count": 46,
     "metadata": {},
     "output_type": "execute_result"
    }
   ],
   "source": [
    "from sklearn.svm import LinearSVC\n",
    "\n",
    "clf = LinearSVC()\n",
    "\n",
    "clf.fit(X_combined, Y_combined)"
   ]
  },
  {
   "cell_type": "markdown",
   "id": "3e417c26",
   "metadata": {},
   "source": [
    "### Evaluate for all days"
   ]
  },
  {
   "cell_type": "code",
   "execution_count": 47,
   "id": "57040706",
   "metadata": {
    "scrolled": false
   },
   "outputs": [
    {
     "name": "stdout",
     "output_type": "stream",
     "text": [
      "Error-rate Day 0   : 0.0\n",
      "Error-rate Day 1   : 0.0\n",
      "Error-rate Day 2   : 0.0\n",
      "Error-rate Day 3   : 0.0\n",
      "Error-rate Day 4   : 0.0\n",
      "Error-rate Day 5   : 0.0\n",
      "Error-rate Day 6   : 0.0\n",
      "Error-rate Day 7   : 0.0\n",
      "Error-rate Day 8   : 4.999999999999449e-05\n",
      "Error-rate Day 9   : 0.0\n",
      "Error-rate Day 10   : 4.999999999999449e-05\n",
      "Error-rate Day 11   : 0.0\n",
      "Error-rate Day 12   : 0.0\n",
      "Error-rate Day 13   : 0.0\n",
      "Error-rate Day 14   : 0.0\n",
      "Error-rate Day 15   : 0.0\n",
      "Error-rate Day 16   : 0.0\n",
      "Error-rate Day 17   : 0.01200000000000001\n",
      "Error-rate Day 18   : 0.011750000000000038\n",
      "Error-rate Day 19   : 0.010000000000000009\n",
      "Error-rate Day 20   : 0.01034999999999997\n",
      "Error-rate Day 21   : 0.014549999999999952\n",
      "Error-rate Day 22   : 0.01090000000000002\n",
      "Error-rate Day 23   : 0.01529999999999998\n",
      "Error-rate Day 24   : 0.018399999999999972\n",
      "Error-rate Day 25   : 0.017900000000000027\n",
      "Error-rate Day 26   : 0.012199999999999989\n",
      "Error-rate Day 27   : 0.015199999999999991\n",
      "Error-rate Day 28   : 0.01605000000000001\n",
      "Error-rate Day 29   : 0.018100000000000005\n",
      "Error-rate Day 30   : 0.024399999999999977\n",
      "Error-rate Day 31   : 0.02354999999999996\n",
      "Error-rate Day 32   : 0.02210000000000001\n",
      "Error-rate Day 33   : 0.02080000000000004\n",
      "Error-rate Day 34   : 0.010650000000000048\n",
      "Error-rate Day 35   : 0.021850000000000036\n",
      "Error-rate Day 36   : 0.009499999999999953\n",
      "Error-rate Day 37   : 0.00934999999999997\n",
      "Error-rate Day 38   : 0.02849999999999997\n",
      "Error-rate Day 39   : 0.030399999999999983\n",
      "Error-rate Day 40   : 0.01990000000000003\n",
      "Error-rate Day 41   : 0.012800000000000034\n",
      "Error-rate Day 42   : 0.01980000000000004\n",
      "Error-rate Day 43   : 0.018549999999999955\n",
      "Error-rate Day 44   : 0.0121\n",
      "Error-rate Day 45   : 0.03076923076923077\n",
      "Error-rate Day 46   : 0.015149999999999997\n",
      "Error-rate Day 47   : 0.013800000000000034\n",
      "Error-rate Day 48   : 0.02080000000000004\n",
      "Error-rate Day 49   : 0.020449999999999968\n",
      "Error-rate Day 50   : 0.01934999999999998\n",
      "Error-rate Day 51   : 0.017000000000000015\n",
      "Error-rate Day 52   : 0.017249999999999988\n",
      "Error-rate Day 53   : 0.025050000000000017\n",
      "Error-rate Day 54   : 0.013449999999999962\n",
      "Error-rate Day 55   : 0.021100000000000008\n",
      "Error-rate Day 56   : 0.017549999999999955\n",
      "Error-rate Day 57   : 0.014499999999999957\n",
      "Error-rate Day 58   : 0.017850000000000033\n",
      "Error-rate Day 59   : 0.01685000000000003\n",
      "Error-rate Day 60   : 0.017800000000000038\n",
      "Error-rate Day 61   : 0.02080000000000004\n",
      "Error-rate Day 62   : 0.019549999999999956\n",
      "Error-rate Day 63   : 0.023900000000000032\n",
      "Error-rate Day 64   : 0.023700000000000054\n",
      "Error-rate Day 65   : 0.02180000000000004\n",
      "Error-rate Day 66   : 0.013950000000000018\n",
      "Error-rate Day 67   : 0.01539999999999997\n",
      "Error-rate Day 68   : 0.012299999999999978\n",
      "Error-rate Day 69   : 0.011950000000000016\n",
      "Error-rate Day 70   : 0.014549999999999952\n",
      "Error-rate Day 71   : 0.01639999999999997\n",
      "Error-rate Day 72   : 0.01695000000000002\n",
      "Error-rate Day 73   : 0.017000000000000015\n",
      "Error-rate Day 74   : 0.012149999999999994\n",
      "Error-rate Day 75   : 0.016599999999999948\n",
      "Error-rate Day 76   : 0.022499999999999964\n",
      "Error-rate Day 77   : 0.016349999999999976\n",
      "Error-rate Day 78   : 0.024449999999999972\n",
      "Error-rate Day 79   : 0.031050000000000022\n",
      "Error-rate Day 80   : 0.025449999999999973\n",
      "Error-rate Day 81   : 0.020549999999999957\n",
      "Error-rate Day 82   : 0.0262\n",
      "Error-rate Day 83   : 0.020750000000000046\n",
      "Error-rate Day 84   : 0.022299999999999986\n",
      "Error-rate Day 85   : 0.034399999999999986\n",
      "Error-rate Day 86   : 0.02080000000000004\n",
      "Error-rate Day 87   : 0.024800000000000044\n",
      "Error-rate Day 88   : 0.020299999999999985\n",
      "Error-rate Day 89   : 0.035250000000000004\n",
      "Error-rate Day 90   : 0.028649999999999953\n",
      "Error-rate Day 91   : 0.022599999999999953\n",
      "Error-rate Day 92   : 0.03269999999999995\n",
      "Error-rate Day 93   : 0.028249999999999997\n",
      "Error-rate Day 94   : 0.029449999999999976\n",
      "Error-rate Day 95   : 0.038250000000000006\n",
      "Error-rate Day 96   : 0.021150000000000002\n",
      "Error-rate Day 97   : 0.01475000000000004\n",
      "Error-rate Day 98   : 0.03720000000000001\n",
      "Error-rate Day 99   : 0.028449999999999975\n",
      "Error-rate Day 100   : 0.04564999999999997\n",
      "Error-rate Day 101   : 0.04910000000000003\n",
      "Error-rate Day 102   : 0.04225000000000001\n",
      "Error-rate Day 103   : 0.021549999999999958\n",
      "Error-rate Day 104   : 0.01200000000000001\n",
      "Error-rate Day 105   : 0.023599999999999954\n",
      "Error-rate Day 106   : 0.052749999999999964\n",
      "Error-rate Day 107   : 0.02364999999999995\n",
      "Error-rate Day 108   : 0.02190000000000003\n",
      "Error-rate Day 109   : 0.020000000000000018\n",
      "Error-rate Day 110   : 0.012399999999999967\n",
      "Error-rate Day 111   : 0.011600000000000055\n",
      "Error-rate Day 112   : 0.013349999999999973\n",
      "Error-rate Day 113   : 0.015050000000000008\n",
      "Error-rate Day 114   : 0.01419999999999999\n",
      "Error-rate Day 115   : 0.016199999999999992\n",
      "Error-rate Day 116   : 0.022750000000000048\n",
      "Error-rate Day 117   : 0.013149999999999995\n",
      "Error-rate Day 118   : 0.015499999999999958\n",
      "Error-rate Day 119   : 0.014000000000000012\n"
     ]
    }
   ],
   "source": [
    "from sklearn.metrics import accuracy_score\n",
    "\n",
    "Y_test_preds = []\n",
    "\n",
    "for i in range(0, num_of_days):\n",
    "    Y_preds = clf.predict(X[i])\n",
    "    print(\"Error-rate Day {}   : {}\".format(i,1 - accuracy_score(Y[i], Y_preds)))"
   ]
  },
  {
   "cell_type": "markdown",
   "id": "688173eb",
   "metadata": {},
   "source": [
    "### Alternative to eliminate 0 results"
   ]
  },
  {
   "cell_type": "code",
   "execution_count": 48,
   "id": "72a59a09",
   "metadata": {},
   "outputs": [
    {
     "name": "stderr",
     "output_type": "stream",
     "text": [
      "/usr/local/lib/python3.9/dist-packages/sklearn/svm/_base.py:1206: ConvergenceWarning: Liblinear failed to converge, increase the number of iterations.\n",
      "  warnings.warn(\n"
     ]
    },
    {
     "name": "stdout",
     "output_type": "stream",
     "text": [
      "Error-rate Day 1   : 0.02554999999999996\n"
     ]
    },
    {
     "name": "stderr",
     "output_type": "stream",
     "text": [
      "/usr/local/lib/python3.9/dist-packages/sklearn/svm/_base.py:1206: ConvergenceWarning: Liblinear failed to converge, increase the number of iterations.\n",
      "  warnings.warn(\n"
     ]
    },
    {
     "name": "stdout",
     "output_type": "stream",
     "text": [
      "Error-rate Day 2   : 0.017349999999999977\n"
     ]
    },
    {
     "name": "stderr",
     "output_type": "stream",
     "text": [
      "/usr/local/lib/python3.9/dist-packages/sklearn/svm/_base.py:1206: ConvergenceWarning: Liblinear failed to converge, increase the number of iterations.\n",
      "  warnings.warn(\n"
     ]
    },
    {
     "name": "stdout",
     "output_type": "stream",
     "text": [
      "Error-rate Day 3   : 0.015499999999999958\n"
     ]
    },
    {
     "name": "stderr",
     "output_type": "stream",
     "text": [
      "/usr/local/lib/python3.9/dist-packages/sklearn/svm/_base.py:1206: ConvergenceWarning: Liblinear failed to converge, increase the number of iterations.\n",
      "  warnings.warn(\n"
     ]
    },
    {
     "name": "stdout",
     "output_type": "stream",
     "text": [
      "Error-rate Day 4   : 0.018299999999999983\n"
     ]
    },
    {
     "name": "stderr",
     "output_type": "stream",
     "text": [
      "/usr/local/lib/python3.9/dist-packages/sklearn/svm/_base.py:1206: ConvergenceWarning: Liblinear failed to converge, increase the number of iterations.\n",
      "  warnings.warn(\n"
     ]
    },
    {
     "name": "stdout",
     "output_type": "stream",
     "text": [
      "Error-rate Day 5   : 0.017549999999999955\n"
     ]
    },
    {
     "name": "stderr",
     "output_type": "stream",
     "text": [
      "/usr/local/lib/python3.9/dist-packages/sklearn/svm/_base.py:1206: ConvergenceWarning: Liblinear failed to converge, increase the number of iterations.\n",
      "  warnings.warn(\n"
     ]
    },
    {
     "name": "stdout",
     "output_type": "stream",
     "text": [
      "Error-rate Day 6   : 0.015449999999999964\n"
     ]
    },
    {
     "name": "stderr",
     "output_type": "stream",
     "text": [
      "/usr/local/lib/python3.9/dist-packages/sklearn/svm/_base.py:1206: ConvergenceWarning: Liblinear failed to converge, increase the number of iterations.\n",
      "  warnings.warn(\n"
     ]
    },
    {
     "name": "stdout",
     "output_type": "stream",
     "text": [
      "Error-rate Day 7   : 0.018549999999999955\n"
     ]
    },
    {
     "name": "stderr",
     "output_type": "stream",
     "text": [
      "/usr/local/lib/python3.9/dist-packages/sklearn/svm/_base.py:1206: ConvergenceWarning: Liblinear failed to converge, increase the number of iterations.\n",
      "  warnings.warn(\n"
     ]
    },
    {
     "name": "stdout",
     "output_type": "stream",
     "text": [
      "Error-rate Day 8   : 0.015499999999999958\n"
     ]
    },
    {
     "name": "stderr",
     "output_type": "stream",
     "text": [
      "/usr/local/lib/python3.9/dist-packages/sklearn/svm/_base.py:1206: ConvergenceWarning: Liblinear failed to converge, increase the number of iterations.\n",
      "  warnings.warn(\n"
     ]
    },
    {
     "name": "stdout",
     "output_type": "stream",
     "text": [
      "Error-rate Day 9   : 0.01849999999999996\n"
     ]
    },
    {
     "name": "stderr",
     "output_type": "stream",
     "text": [
      "/usr/local/lib/python3.9/dist-packages/sklearn/svm/_base.py:1206: ConvergenceWarning: Liblinear failed to converge, increase the number of iterations.\n",
      "  warnings.warn(\n"
     ]
    },
    {
     "name": "stdout",
     "output_type": "stream",
     "text": [
      "Error-rate Day 10   : 0.01970000000000005\n"
     ]
    },
    {
     "name": "stderr",
     "output_type": "stream",
     "text": [
      "/usr/local/lib/python3.9/dist-packages/sklearn/svm/_base.py:1206: ConvergenceWarning: Liblinear failed to converge, increase the number of iterations.\n",
      "  warnings.warn(\n"
     ]
    },
    {
     "name": "stdout",
     "output_type": "stream",
     "text": [
      "Error-rate Day 11   : 0.01695000000000002\n"
     ]
    },
    {
     "name": "stderr",
     "output_type": "stream",
     "text": [
      "/usr/local/lib/python3.9/dist-packages/sklearn/svm/_base.py:1206: ConvergenceWarning: Liblinear failed to converge, increase the number of iterations.\n",
      "  warnings.warn(\n"
     ]
    },
    {
     "name": "stdout",
     "output_type": "stream",
     "text": [
      "Error-rate Day 12   : 0.01375000000000004\n"
     ]
    },
    {
     "name": "stderr",
     "output_type": "stream",
     "text": [
      "/usr/local/lib/python3.9/dist-packages/sklearn/svm/_base.py:1206: ConvergenceWarning: Liblinear failed to converge, increase the number of iterations.\n",
      "  warnings.warn(\n"
     ]
    },
    {
     "name": "stdout",
     "output_type": "stream",
     "text": [
      "Error-rate Day 13   : 0.010050000000000003\n"
     ]
    },
    {
     "name": "stderr",
     "output_type": "stream",
     "text": [
      "/usr/local/lib/python3.9/dist-packages/sklearn/svm/_base.py:1206: ConvergenceWarning: Liblinear failed to converge, increase the number of iterations.\n",
      "  warnings.warn(\n"
     ]
    },
    {
     "name": "stdout",
     "output_type": "stream",
     "text": [
      "Error-rate Day 14   : 0.01639999999999997\n"
     ]
    },
    {
     "name": "stderr",
     "output_type": "stream",
     "text": [
      "/usr/local/lib/python3.9/dist-packages/sklearn/svm/_base.py:1206: ConvergenceWarning: Liblinear failed to converge, increase the number of iterations.\n",
      "  warnings.warn(\n"
     ]
    },
    {
     "name": "stdout",
     "output_type": "stream",
     "text": [
      "Error-rate Day 15   : 0.011499999999999955\n"
     ]
    },
    {
     "name": "stderr",
     "output_type": "stream",
     "text": [
      "/usr/local/lib/python3.9/dist-packages/sklearn/svm/_base.py:1206: ConvergenceWarning: Liblinear failed to converge, increase the number of iterations.\n",
      "  warnings.warn(\n"
     ]
    },
    {
     "name": "stdout",
     "output_type": "stream",
     "text": [
      "Error-rate Day 16   : 0.01154999999999995\n"
     ]
    },
    {
     "name": "stderr",
     "output_type": "stream",
     "text": [
      "/usr/local/lib/python3.9/dist-packages/sklearn/svm/_base.py:1206: ConvergenceWarning: Liblinear failed to converge, increase the number of iterations.\n",
      "  warnings.warn(\n"
     ]
    },
    {
     "name": "stdout",
     "output_type": "stream",
     "text": [
      "Error-rate Day 17   : 0.011950000000000016\n",
      "Error-rate Day 18   : 0.011750000000000038\n",
      "Error-rate Day 19   : 0.010000000000000009\n",
      "Error-rate Day 20   : 0.01034999999999997\n",
      "Error-rate Day 21   : 0.014549999999999952\n",
      "Error-rate Day 22   : 0.01090000000000002\n",
      "Error-rate Day 23   : 0.01529999999999998\n",
      "Error-rate Day 24   : 0.018399999999999972\n",
      "Error-rate Day 25   : 0.017900000000000027\n",
      "Error-rate Day 26   : 0.012199999999999989\n",
      "Error-rate Day 27   : 0.015199999999999991\n",
      "Error-rate Day 28   : 0.01605000000000001\n",
      "Error-rate Day 29   : 0.018100000000000005\n",
      "Error-rate Day 30   : 0.024399999999999977\n",
      "Error-rate Day 31   : 0.02354999999999996\n",
      "Error-rate Day 32   : 0.02210000000000001\n",
      "Error-rate Day 33   : 0.02080000000000004\n",
      "Error-rate Day 34   : 0.010650000000000048\n",
      "Error-rate Day 35   : 0.021850000000000036\n",
      "Error-rate Day 36   : 0.009499999999999953\n",
      "Error-rate Day 37   : 0.00934999999999997\n",
      "Error-rate Day 38   : 0.02849999999999997\n",
      "Error-rate Day 39   : 0.030399999999999983\n",
      "Error-rate Day 40   : 0.01990000000000003\n",
      "Error-rate Day 41   : 0.012800000000000034\n",
      "Error-rate Day 42   : 0.01980000000000004\n",
      "Error-rate Day 43   : 0.018549999999999955\n",
      "Error-rate Day 44   : 0.0121\n",
      "Error-rate Day 45   : 0.03076923076923077\n",
      "Error-rate Day 46   : 0.015149999999999997\n",
      "Error-rate Day 47   : 0.013800000000000034\n",
      "Error-rate Day 48   : 0.02080000000000004\n",
      "Error-rate Day 49   : 0.020449999999999968\n",
      "Error-rate Day 50   : 0.01934999999999998\n",
      "Error-rate Day 51   : 0.017000000000000015\n",
      "Error-rate Day 52   : 0.017199999999999993\n",
      "Error-rate Day 53   : 0.025050000000000017\n",
      "Error-rate Day 54   : 0.013449999999999962\n",
      "Error-rate Day 55   : 0.021100000000000008\n",
      "Error-rate Day 56   : 0.01759999999999995\n",
      "Error-rate Day 57   : 0.014499999999999957\n",
      "Error-rate Day 58   : 0.017850000000000033\n",
      "Error-rate Day 59   : 0.01685000000000003\n",
      "Error-rate Day 60   : 0.017750000000000044\n",
      "Error-rate Day 61   : 0.02080000000000004\n",
      "Error-rate Day 62   : 0.019549999999999956\n",
      "Error-rate Day 63   : 0.023900000000000032\n",
      "Error-rate Day 64   : 0.02375000000000005\n",
      "Error-rate Day 65   : 0.02180000000000004\n",
      "Error-rate Day 66   : 0.013950000000000018\n",
      "Error-rate Day 67   : 0.01539999999999997\n",
      "Error-rate Day 68   : 0.012299999999999978\n",
      "Error-rate Day 69   : 0.011950000000000016\n",
      "Error-rate Day 70   : 0.014549999999999952\n",
      "Error-rate Day 71   : 0.016349999999999976\n",
      "Error-rate Day 72   : 0.01695000000000002\n",
      "Error-rate Day 73   : 0.017000000000000015\n",
      "Error-rate Day 74   : 0.012149999999999994\n",
      "Error-rate Day 75   : 0.016599999999999948\n",
      "Error-rate Day 76   : 0.022499999999999964\n",
      "Error-rate Day 77   : 0.016349999999999976\n",
      "Error-rate Day 78   : 0.024449999999999972\n",
      "Error-rate Day 79   : 0.031050000000000022\n",
      "Error-rate Day 80   : 0.025449999999999973\n",
      "Error-rate Day 81   : 0.020499999999999963\n",
      "Error-rate Day 82   : 0.0262\n",
      "Error-rate Day 83   : 0.020750000000000046\n",
      "Error-rate Day 84   : 0.022299999999999986\n",
      "Error-rate Day 85   : 0.034399999999999986\n",
      "Error-rate Day 86   : 0.02080000000000004\n",
      "Error-rate Day 87   : 0.024800000000000044\n",
      "Error-rate Day 88   : 0.020299999999999985\n",
      "Error-rate Day 89   : 0.03534999999999999\n",
      "Error-rate Day 90   : 0.028649999999999953\n",
      "Error-rate Day 91   : 0.022599999999999953\n",
      "Error-rate Day 92   : 0.03269999999999995\n",
      "Error-rate Day 93   : 0.028249999999999997\n",
      "Error-rate Day 94   : 0.029449999999999976\n",
      "Error-rate Day 95   : 0.03820000000000001\n",
      "Error-rate Day 96   : 0.021150000000000002\n",
      "Error-rate Day 97   : 0.01475000000000004\n",
      "Error-rate Day 98   : 0.03720000000000001\n",
      "Error-rate Day 99   : 0.028449999999999975\n",
      "Error-rate Day 100   : 0.04564999999999997\n",
      "Error-rate Day 101   : 0.04910000000000003\n",
      "Error-rate Day 102   : 0.04225000000000001\n",
      "Error-rate Day 103   : 0.021549999999999958\n",
      "Error-rate Day 104   : 0.01200000000000001\n",
      "Error-rate Day 105   : 0.023599999999999954\n",
      "Error-rate Day 106   : 0.052749999999999964\n",
      "Error-rate Day 107   : 0.023700000000000054\n",
      "Error-rate Day 108   : 0.021950000000000025\n",
      "Error-rate Day 109   : 0.019950000000000023\n",
      "Error-rate Day 110   : 0.012399999999999967\n",
      "Error-rate Day 111   : 0.011600000000000055\n",
      "Error-rate Day 112   : 0.013349999999999973\n",
      "Error-rate Day 113   : 0.015050000000000008\n",
      "Error-rate Day 114   : 0.01419999999999999\n",
      "Error-rate Day 115   : 0.016199999999999992\n",
      "Error-rate Day 116   : 0.022800000000000042\n",
      "Error-rate Day 117   : 0.013149999999999995\n",
      "Error-rate Day 118   : 0.015499999999999958\n",
      "Error-rate Day 119   : 0.014050000000000007\n"
     ]
    }
   ],
   "source": [
    "from scipy.sparse import vstack\n",
    "from sklearn.svm import LinearSVC\n",
    "from sklearn.metrics import accuracy_score\n",
    "\n",
    "train_set_size = 17\n",
    "\n",
    "for curr_day in range (1, train_set_size + 1): # for each day of the training set\n",
    "    \n",
    "    #for u in range(X[0].shape[0]): # for each url\n",
    "    # do same for all urls!\n",
    "    \n",
    "    # leaving out day 0 for now\n",
    "    prev_x = X[0]\n",
    "    prev_y = Y[0]\n",
    "        \n",
    "    for j in range(1, curr_day):\n",
    "        prev_x = vstack((prev_x, X[j])) # stack up all matrices to previous day\n",
    "        prev_y = np.concatenate((prev_y, Y[j]))\n",
    "    \n",
    "    clf = LinearSVC()\n",
    "    clf.fit(prev_x, prev_y)\n",
    "    \n",
    "    Y_preds = clf.predict(X[curr_day])\n",
    "    print(\"Error-rate Day {}   : {}\".format(curr_day,1 - accuracy_score(Y[curr_day], Y_preds)))\n",
    "        # split off until current url\n",
    "        #prev_x =\n",
    "        #prev_y =\n",
    "        #curr_url_x =\n",
    "        \n",
    "        \n",
    "        \n",
    "# for all following days\n",
    "for i in range(18, num_of_days):\n",
    "    Y_preds = clf.predict(X[i])\n",
    "    print(\"Error-rate Day {}   : {}\".format(i,1 - accuracy_score(Y[i], Y_preds)))\n"
   ]
  },
  {
   "cell_type": "code",
   "execution_count": null,
   "id": "7a89b966",
   "metadata": {},
   "outputs": [],
   "source": []
  }
 ],
 "metadata": {
  "kernelspec": {
   "display_name": "Python 3 (ipykernel)",
   "language": "python",
   "name": "python3"
  },
  "language_info": {
   "codemirror_mode": {
    "name": "ipython",
    "version": 3
   },
   "file_extension": ".py",
   "mimetype": "text/x-python",
   "name": "python",
   "nbconvert_exporter": "python",
   "pygments_lexer": "ipython3",
   "version": "3.9.2"
  }
 },
 "nbformat": 4,
 "nbformat_minor": 5
}
