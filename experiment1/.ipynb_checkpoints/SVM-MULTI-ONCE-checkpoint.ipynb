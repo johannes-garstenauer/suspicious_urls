{
 "cells": [
  {
   "cell_type": "code",
   "execution_count": 1,
   "id": "9e33345b",
   "metadata": {
    "scrolled": true
   },
   "outputs": [],
   "source": [
    "import scipy.io\n",
    "data = scipy.io.loadmat('../../data/url.mat')"
   ]
  },
  {
   "cell_type": "markdown",
   "id": "7b9fc2f1",
   "metadata": {},
   "source": [
    "**create list for labels and data, where one entry is the data for the day with this index**"
   ]
  },
  {
   "cell_type": "code",
   "execution_count": 2,
   "id": "77e4fb3a",
   "metadata": {},
   "outputs": [],
   "source": [
    "import numpy as np\n",
    "\n",
    "num_of_days = 120\n",
    "X, Y = [], []\n",
    "\n",
    "for i in range(num_of_days):\n",
    "    day_data = data[\"Day\" + str(i)]\n",
    "    X.append(day_data[0][0][0])\n",
    "    Y.append(day_data[0][0][1])"
   ]
  },
  {
   "cell_type": "markdown",
   "id": "d7dd6d9c",
   "metadata": {},
   "source": [
    "**flatten y to not be a nested array**"
   ]
  },
  {
   "cell_type": "code",
   "execution_count": 3,
   "id": "c247aaac",
   "metadata": {},
   "outputs": [],
   "source": [
    "# y-data are lists of numpy-arrays\n",
    "\n",
    "for i in range(len(Y)):\n",
    "    Y[i] = [element for sublist in Y[i] for element in sublist]\n",
    "   \n",
    "# y-data becomes a list of lists"
   ]
  },
  {
   "cell_type": "markdown",
   "id": "d25e6a29",
   "metadata": {},
   "source": [
    "from scipy.sparse import csc_matrix\n",
    "\n",
    "def concatenate_csc_matrices_by_columns(matrix1, matrix2):\n",
    "    new_data = np.concatenate((matrix1.data, matrix2.data))\n",
    "    \n",
    "    \n",
    "    new_indices = np.concatenate((matrix1.indices, matrix2.indices))\n",
    "    \n",
    "    new_ind_ptr = matrix2.indptr + len(matrix1.data)\n",
    "    new_ind_ptr = new_ind_ptr[1:]\n",
    "    new_ind_ptr = np.concatenate((matrix1.indptr, new_ind_ptr))\n",
    "\n",
    "    return csc_matrix((new_data, new_indices, new_ind_ptr))\n",
    "\n",
    "\n",
    "x = concatenate_csc_matrices_by_columns(X[1], X[2])\n",
    "print(x.shape)"
   ]
  },
  {
   "cell_type": "markdown",
   "id": "2ea9c511",
   "metadata": {},
   "source": [
    "### Combine data and value vectors of days 0- 16"
   ]
  },
  {
   "cell_type": "code",
   "execution_count": 4,
   "id": "44ab9669",
   "metadata": {},
   "outputs": [],
   "source": [
    "from scipy.sparse import vstack\n",
    "\n",
    "train_set_size = 17\n",
    "\n",
    "X_combined = vstack((X[0], X[1], X[2], X[3], X[4], X[5], X[6], X[7], X[8], X[9], X[10], X[11], X[12], X[13],\n",
    "                     X[14], X[15], X[16]))\n",
    "\n",
    "Y_combined = np.concatenate((Y[0], Y[1], Y[2], Y[3], Y[4], Y[5], Y[6], Y[7], Y[8], Y[9], Y[10], Y[11], Y[12],\n",
    "                             Y[13], Y[14], Y[15], Y[16]))"
   ]
  },
  {
   "cell_type": "code",
   "execution_count": 5,
   "id": "a66f377c",
   "metadata": {},
   "outputs": [],
   "source": [
    "from scipy.sparse import vstack\n",
    "from scipy.sparse import csr_matrix\n",
    "import numpy as np\n",
    "\n",
    "# takes a range of days (start until to)\n",
    "# fits the model with the data from the range until \"to\" itself\n",
    "# for day \"to\" for each url_batch the data is refitted (prevoius days data from range + all batches up to current)\n",
    "# and predicticed for the succesive batch of urls\n",
    "# returns the cumulative error rate for day \"to\"\n",
    "# batch_size determines the size of url_batches for which data is predicted and fitted on the \"to\" day\n",
    "def train_and_evaluate(start, to, clf, batch_size = 1):\n",
    "    \n",
    "    prev_x = X[0][0,:] #random row for initialization purposes, spliced off later before classifying\n",
    "    \n",
    "    prev_y = []\n",
    "    for prev_day in range(start, to):\n",
    "        \n",
    "        prev_x = vstack((prev_x, X[prev_day])) # stack up all matrices to previous day\n",
    "        prev_y = np.concatenate((prev_y, Y[prev_day])) # stack up all labels to previous day\n",
    "        \n",
    "    # immediately splice off the first initial url used to initiate the matrix outside of the loop\n",
    "    url_indexes_without_initial = np.arange(1, prev_x.shape[0])\n",
    "    prev_x = prev_x.tocsr()[url_indexes_without_initial,:]\n",
    "    \n",
    "    # change X to row format for faster slicing row-wise.\n",
    "    curr_day_x = X[to].tocsr()\n",
    "    \n",
    "    # split the data in slices of batch_size\n",
    "    batches_amount = int(curr_day_x.shape[0] / batch_size)\n",
    "    curr_day_y = np.array_split(Y[to], batches_amount)\n",
    "    \n",
    "    err = 0\n",
    "    x_batches = X[0][0,:] #random row for initialization purposes, spliced off later before classifying\n",
    "    y_batches = []\n",
    "    for j in range(batches_amount): # looping through individual url-batches\n",
    "       \n",
    "        # Combine previous days data and all batches up until current\n",
    "        x_combined = vstack((prev_x, x_batches))\n",
    "        y_combined = np.append(prev_y, y_batches)\n",
    "        \n",
    "        if (j == 0):\n",
    "            # immediately splice off the trailing url used to initiate the matrix outside of the loop\n",
    "            url_indexes_without_trailing = np.arange(0, prev_x.shape[0])\n",
    "            x_combined = x_combined.tocsr()[url_indexes_without_trailing,:]\n",
    "        \n",
    "        # Train for cumulated data excluding current batch\n",
    "        if (x_combined.shape[0] != 0):\n",
    "            clf.fit(x_combined, y_combined)\n",
    "    \n",
    "        # splice current batch off\n",
    "        select_ind = np.arange(j * batch_size, (j+1) * batch_size)\n",
    "        curr_x_batch, curr_y_batch = curr_day_x[select_ind,:], curr_day_y[j] \n",
    "        \n",
    "        # Add current batch to cumulated list of batches\n",
    "        x_batches = vstack((x_batches, curr_x_batch))\n",
    "        if (j == 0):\n",
    "            # immediately splice off the first initial url used to initiate the matrix outside of the loop\n",
    "            url_indexes_without_initial = np.arange(1, x_batches.shape[0])\n",
    "            x_batches = x_batches.tocsr()[url_indexes_without_initial,:]\n",
    "            \n",
    "        y_batches.extend(curr_y_batch)\n",
    "        \n",
    "        # Predict for current batch\n",
    "        if (x_combined.shape[0] != 0):\n",
    "            Y_preds = clf.predict(curr_x_batch)\n",
    "           \n",
    "            # Collect errors\n",
    "            for k in range(batch_size):\n",
    "                if(Y_preds[k] != curr_y_batch[k]):\n",
    "                    err = err + 1\n",
    "        \n",
    "    return err / curr_day_x.shape[0] # Return cumulative error rate"
   ]
  },
  {
   "cell_type": "markdown",
   "id": "7235e401",
   "metadata": {},
   "source": [
    "### Train once on data for days 0-16 and (evaluate for those days)"
   ]
  },
  {
   "cell_type": "code",
   "execution_count": 13,
   "id": "1942485d",
   "metadata": {},
   "outputs": [
    {
     "name": "stdout",
     "output_type": "stream",
     "text": [
      "Error-rate Day 0   : 0.0211875\n",
      "Error-rate Day 1   : 0.02485\n",
      "Error-rate Day 2   : 0.0178\n",
      "Error-rate Day 3   : 0.0177\n",
      "Error-rate Day 4   : 0.01945\n",
      "Error-rate Day 5   : 0.0193\n",
      "Error-rate Day 6   : 0.017\n",
      "Error-rate Day 7   : 0.02075\n",
      "Error-rate Day 8   : 0.0178\n",
      "Error-rate Day 9   : 0.0206\n",
      "Error-rate Day 10   : 0.017\n",
      "Error-rate Day 11   : 0.0165\n",
      "Error-rate Day 12   : 0.01675\n",
      "Error-rate Day 13   : 0.013\n",
      "Error-rate Day 14   : 0.0181\n",
      "Error-rate Day 15   : 0.01385\n",
      "Error-rate Day 16   : 0.01355\n"
     ]
    }
   ],
   "source": [
    "from sklearn.svm import LinearSVC\n",
    "\n",
    "clf = LinearSVC(C=0.01)\n",
    "batch_size = 4000\n",
    "error_rates =  []\n",
    "for i in range(train_set_size):\n",
    "    rate = train_and_evaluate(0, i, clf, batch_size)\n",
    "    error_rates.append(rate)\n",
    "    print(\"Error-rate Day {}   : {}\".format(i, rate))"
   ]
  },
  {
   "cell_type": "markdown",
   "id": "3e417c26",
   "metadata": {},
   "source": [
    "### Evaluate for all days"
   ]
  },
  {
   "cell_type": "code",
   "execution_count": 14,
   "id": "57040706",
   "metadata": {
    "scrolled": false
   },
   "outputs": [
    {
     "name": "stdout",
     "output_type": "stream",
     "text": [
      "Error-rate Day 17   : 0.01375000000000004\n",
      "Error-rate Day 18   : 0.014499999999999957\n",
      "Error-rate Day 19   : 0.013000000000000012\n",
      "Error-rate Day 20   : 0.014249999999999985\n",
      "Error-rate Day 21   : 0.019000000000000017\n",
      "Error-rate Day 22   : 0.01419999999999999\n",
      "Error-rate Day 23   : 0.018399999999999972\n",
      "Error-rate Day 24   : 0.021549999999999958\n",
      "Error-rate Day 25   : 0.021599999999999953\n",
      "Error-rate Day 26   : 0.01649999999999996\n",
      "Error-rate Day 27   : 0.017900000000000027\n",
      "Error-rate Day 28   : 0.017449999999999966\n",
      "Error-rate Day 29   : 0.02034999999999998\n",
      "Error-rate Day 30   : 0.02805000000000002\n",
      "Error-rate Day 31   : 0.026549999999999963\n",
      "Error-rate Day 32   : 0.02739999999999998\n",
      "Error-rate Day 33   : 0.02429999999999999\n",
      "Error-rate Day 34   : 0.015549999999999953\n",
      "Error-rate Day 35   : 0.026100000000000012\n",
      "Error-rate Day 36   : 0.015000000000000013\n",
      "Error-rate Day 37   : 0.014349999999999974\n",
      "Error-rate Day 38   : 0.031200000000000006\n",
      "Error-rate Day 39   : 0.03315000000000001\n",
      "Error-rate Day 40   : 0.0242\n",
      "Error-rate Day 41   : 0.01824999999999999\n",
      "Error-rate Day 42   : 0.02485000000000004\n",
      "Error-rate Day 43   : 0.021499999999999964\n",
      "Error-rate Day 44   : 0.015700000000000047\n",
      "Error-rate Day 45   : 0.01538461538461533\n",
      "Error-rate Day 46   : 0.016800000000000037\n",
      "Error-rate Day 47   : 0.018000000000000016\n",
      "Error-rate Day 48   : 0.024700000000000055\n",
      "Error-rate Day 49   : 0.027649999999999952\n",
      "Error-rate Day 50   : 0.02375000000000005\n",
      "Error-rate Day 51   : 0.020000000000000018\n",
      "Error-rate Day 52   : 0.020050000000000012\n",
      "Error-rate Day 53   : 0.02554999999999996\n",
      "Error-rate Day 54   : 0.01605000000000001\n",
      "Error-rate Day 55   : 0.016449999999999965\n",
      "Error-rate Day 56   : 0.01805000000000001\n",
      "Error-rate Day 57   : 0.015449999999999964\n",
      "Error-rate Day 58   : 0.018399999999999972\n",
      "Error-rate Day 59   : 0.01715\n",
      "Error-rate Day 60   : 0.018549999999999955\n",
      "Error-rate Day 61   : 0.019750000000000045\n",
      "Error-rate Day 62   : 0.019299999999999984\n",
      "Error-rate Day 63   : 0.024249999999999994\n",
      "Error-rate Day 64   : 0.019199999999999995\n",
      "Error-rate Day 65   : 0.021649999999999947\n",
      "Error-rate Day 66   : 0.017199999999999993\n",
      "Error-rate Day 67   : 0.01880000000000004\n",
      "Error-rate Day 68   : 0.016549999999999954\n",
      "Error-rate Day 69   : 0.014149999999999996\n",
      "Error-rate Day 70   : 0.017650000000000055\n",
      "Error-rate Day 71   : 0.016900000000000026\n",
      "Error-rate Day 72   : 0.016900000000000026\n",
      "Error-rate Day 73   : 0.017249999999999988\n",
      "Error-rate Day 74   : 0.01475000000000004\n",
      "Error-rate Day 75   : 0.019449999999999967\n",
      "Error-rate Day 76   : 0.02749999999999997\n",
      "Error-rate Day 77   : 0.017549999999999955\n",
      "Error-rate Day 78   : 0.028299999999999992\n",
      "Error-rate Day 79   : 0.031299999999999994\n",
      "Error-rate Day 80   : 0.027150000000000007\n",
      "Error-rate Day 81   : 0.020649999999999946\n",
      "Error-rate Day 82   : 0.023850000000000038\n",
      "Error-rate Day 83   : 0.022800000000000042\n",
      "Error-rate Day 84   : 0.02234999999999998\n",
      "Error-rate Day 85   : 0.031000000000000028\n",
      "Error-rate Day 86   : 0.02134999999999998\n",
      "Error-rate Day 87   : 0.02190000000000003\n",
      "Error-rate Day 88   : 0.021549999999999958\n",
      "Error-rate Day 89   : 0.030200000000000005\n",
      "Error-rate Day 90   : 0.025499999999999967\n",
      "Error-rate Day 91   : 0.02124999999999999\n",
      "Error-rate Day 92   : 0.02485000000000004\n",
      "Error-rate Day 93   : 0.02410000000000001\n",
      "Error-rate Day 94   : 0.02210000000000001\n",
      "Error-rate Day 95   : 0.009800000000000031\n",
      "Error-rate Day 96   : 0.016900000000000026\n",
      "Error-rate Day 97   : 0.017349999999999977\n",
      "Error-rate Day 98   : 0.03500000000000003\n",
      "Error-rate Day 99   : 0.026449999999999974\n",
      "Error-rate Day 100   : 0.023299999999999987\n",
      "Error-rate Day 101   : 0.022299999999999986\n",
      "Error-rate Day 102   : 0.023050000000000015\n",
      "Error-rate Day 103   : 0.016199999999999992\n",
      "Error-rate Day 104   : 0.013249999999999984\n",
      "Error-rate Day 105   : 0.01815\n",
      "Error-rate Day 106   : 0.01585000000000003\n",
      "Error-rate Day 107   : 0.014399999999999968\n",
      "Error-rate Day 108   : 0.02244999999999997\n",
      "Error-rate Day 109   : 0.01529999999999998\n",
      "Error-rate Day 110   : 0.013650000000000051\n",
      "Error-rate Day 111   : 0.014449999999999963\n",
      "Error-rate Day 112   : 0.015599999999999947\n",
      "Error-rate Day 113   : 0.016900000000000026\n",
      "Error-rate Day 114   : 0.01585000000000003\n",
      "Error-rate Day 115   : 0.017299999999999982\n",
      "Error-rate Day 116   : 0.02705000000000002\n",
      "Error-rate Day 117   : 0.02080000000000004\n",
      "Error-rate Day 118   : 0.01924999999999999\n",
      "Error-rate Day 119   : 0.017100000000000004\n"
     ]
    }
   ],
   "source": [
    "from sklearn.metrics import accuracy_score\n",
    "\n",
    "\n",
    "for i in range(train_set_size, num_of_days):\n",
    "    Y_preds = clf.predict(X[i])\n",
    "    rate = 1 - accuracy_score(Y[i], Y_preds)\n",
    "    error_rates.append(rate)\n",
    "    print(\"Error-rate Day {}   : {}\".format(i,rate))"
   ]
  },
  {
   "cell_type": "code",
   "execution_count": 15,
   "id": "be69c77f",
   "metadata": {},
   "outputs": [
    {
     "name": "stdout",
     "output_type": "stream",
     "text": [
      "120\n"
     ]
    }
   ],
   "source": [
    "print(len(error_rates))"
   ]
  },
  {
   "cell_type": "code",
   "execution_count": 20,
   "id": "20498211",
   "metadata": {},
   "outputs": [],
   "source": [
    "import matplotlib.pyplot as plt\n",
    "\n",
    "def plot5degree(error_rates, batch_size, scatter = False):\n",
    "    \n",
    "    # Set up the day_indexes with the missing 45th day in mind\n",
    "    y_indexes = np.arange(0, 120)\n",
    "    \n",
    "    y = np.array(error_rates)\n",
    "    y = y * 100\n",
    "    x = y_indexes\n",
    "    \n",
    "    # create polynomial equation and calculate line\n",
    "    theta = np.polyfit(x, y, 5)\n",
    "    y_line = theta[5] + theta[4] * pow(x, 1) + theta[3] * pow(x, 2) + theta[2] * pow(x, 3) + theta[1] * pow(x, 4) + theta[0] * pow(x, 5)\n",
    "\n",
    "    if (scatter):\n",
    "        plt.scatter(x, y)\n",
    "    \n",
    "    plt.plot(x, y_line, 'r')\n",
    "    plt.title('SVM-MULTI-Once with batch size {}'.format(batch_size))\n",
    "    plt.xlabel('Days')\n",
    "    plt.ylabel('Cumulative error rate')\n",
    "    plt.ylim([0,6])\n",
    "    plt.show()"
   ]
  },
  {
   "cell_type": "code",
   "execution_count": 21,
   "id": "12883a6e",
   "metadata": {},
   "outputs": [
    {
     "name": "stdout",
     "output_type": "stream",
     "text": [
      "120\n",
      "120\n"
     ]
    },
    {
     "data": {
      "image/png": "[encoded data removed]",
      "text/plain": [
       "<Figure size 432x288 with 1 Axes>"
      ]
     },
     "metadata": {
      "needs_background": "light"
     },
     "output_type": "display_data"
    }
   ],
   "source": [
    "plot5degree(error_rates, batch_size, True)"
   ]
  },
  {
   "cell_type": "markdown",
   "id": "688173eb",
   "metadata": {},
   "source": [
    "### Alternative to eliminate 0 results"
   ]
  },
  {
   "cell_type": "markdown",
   "id": "14fd6bd6",
   "metadata": {},
   "source": [
    "from scipy.sparse import vstack\n",
    "from sklearn.svm import LinearSVC\n",
    "from sklearn.metrics import accuracy_score\n",
    "\n",
    "train_set_size = 17\n",
    "\n",
    "for curr_day in range (1, train_set_size + 1): # for each day of the training set\n",
    "    \n",
    "    #for u in range(X[0].shape[0]): # for each url\n",
    "    # do same for all urls!\n",
    "    \n",
    "    # leaving out day 0 for now\n",
    "    prev_x = X[0]\n",
    "    prev_y = Y[0]\n",
    "        \n",
    "    for j in range(1, curr_day):\n",
    "        prev_x = vstack((prev_x, X[j])) # stack up all matrices to previous day\n",
    "        prev_y = np.concatenate((prev_y, Y[j]))\n",
    "    \n",
    "    clf = LinearSVC()\n",
    "    clf.fit(prev_x, prev_y)\n",
    "    \n",
    "    Y_preds = clf.predict(X[curr_day])\n",
    "    print(\"Error-rate Day {}   : {}\".format(curr_day,1 - accuracy_score(Y[curr_day], Y_preds)))\n",
    "        # split off until current url\n",
    "        #prev_x =\n",
    "        #prev_y =\n",
    "        #curr_url_x =\n",
    "        \n",
    "        \n",
    "        \n",
    "# for all following days\n",
    "for i in range(18, num_of_days):\n",
    "    Y_preds = clf.predict(X[i])\n",
    "    print(\"Error-rate Day {}   : {}\".format(i,1 - accuracy_score(Y[i], Y_preds)))\n"
   ]
  },
  {
   "cell_type": "code",
   "execution_count": null,
   "id": "7a89b966",
   "metadata": {},
   "outputs": [],
   "source": []
  }
 ],
 "metadata": {
  "kernelspec": {
   "display_name": "Python 3 (ipykernel)",
   "language": "python",
   "name": "python3"
  },
  "language_info": {
   "codemirror_mode": {
    "name": "ipython",
    "version": 3
   },
   "file_extension": ".py",
   "mimetype": "text/x-python",
   "name": "python",
   "nbconvert_exporter": "python",
   "pygments_lexer": "ipython3",
   "version": "3.9.2"
  }
 },
 "nbformat": 4,
 "nbformat_minor": 5
}
