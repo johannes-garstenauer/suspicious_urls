{
 "cells": [
  {
   "cell_type": "code",
   "execution_count": 3,
   "id": "9e33345b",
   "metadata": {
    "scrolled": true
   },
   "outputs": [],
   "source": [
    "import scipy.io\n",
    "data = scipy.io.loadmat('../../data/url.mat')"
   ]
  },
  {
   "cell_type": "markdown",
   "id": "7b9fc2f1",
   "metadata": {},
   "source": [
    "**create list for labels and data, where one entry is the data for the day with this index**"
   ]
  },
  {
   "cell_type": "code",
   "execution_count": 4,
   "id": "77e4fb3a",
   "metadata": {},
   "outputs": [],
   "source": [
    "import numpy as np\n",
    "\n",
    "num_of_days = 120\n",
    "X, Y = [], []\n",
    "\n",
    "for i in range(num_of_days):\n",
    "    day_data = data[\"Day\" + str(i)]\n",
    "    X.append(day_data[0][0][0])\n",
    "    Y.append(day_data[0][0][1])"
   ]
  },
  {
   "cell_type": "markdown",
   "id": "d7dd6d9c",
   "metadata": {},
   "source": [
    "**flatten y to not be a nested array**"
   ]
  },
  {
   "cell_type": "code",
   "execution_count": 6,
   "id": "c247aaac",
   "metadata": {},
   "outputs": [],
   "source": [
    "# y-data are lists of numpy-arrays\n",
    "\n",
    "for i in range(len(Y)):\n",
    "    Y[i] = [element for sublist in Y[i] for element in sublist]\n",
    "   \n",
    "# y-data becomes a list of lists"
   ]
  },
  {
   "cell_type": "markdown",
   "id": "3124a360",
   "metadata": {},
   "source": [
    "### Train once on data for day 0"
   ]
  },
  {
   "cell_type": "code",
   "execution_count": 9,
   "id": "1942485d",
   "metadata": {},
   "outputs": [
    {
     "name": "stderr",
     "output_type": "stream",
     "text": [
      "/usr/local/lib/python3.9/dist-packages/sklearn/svm/_base.py:1225: ConvergenceWarning: Liblinear failed to converge, increase the number of iterations.\n",
      "  warnings.warn(\n"
     ]
    },
    {
     "data": {
      "text/html": [
       "<style>#sk-container-id-2 {color: black;background-color: white;}#sk-container-id-2 pre{padding: 0;}#sk-container-id-2 div.sk-toggleable {background-color: white;}#sk-container-id-2 label.sk-toggleable__label {cursor: pointer;display: block;width: 100%;margin-bottom: 0;padding: 0.3em;box-sizing: border-box;text-align: center;}#sk-container-id-2 label.sk-toggleable__label-arrow:before {content: \"▸\";float: left;margin-right: 0.25em;color: #696969;}#sk-container-id-2 label.sk-toggleable__label-arrow:hover:before {color: black;}#sk-container-id-2 div.sk-estimator:hover label.sk-toggleable__label-arrow:before {color: black;}#sk-container-id-2 div.sk-toggleable__content {max-height: 0;max-width: 0;overflow: hidden;text-align: left;background-color: #f0f8ff;}#sk-container-id-2 div.sk-toggleable__content pre {margin: 0.2em;color: black;border-radius: 0.25em;background-color: #f0f8ff;}#sk-container-id-2 input.sk-toggleable__control:checked~div.sk-toggleable__content {max-height: 200px;max-width: 100%;overflow: auto;}#sk-container-id-2 input.sk-toggleable__control:checked~label.sk-toggleable__label-arrow:before {content: \"▾\";}#sk-container-id-2 div.sk-estimator input.sk-toggleable__control:checked~label.sk-toggleable__label {background-color: #d4ebff;}#sk-container-id-2 div.sk-label input.sk-toggleable__control:checked~label.sk-toggleable__label {background-color: #d4ebff;}#sk-container-id-2 input.sk-hidden--visually {border: 0;clip: rect(1px 1px 1px 1px);clip: rect(1px, 1px, 1px, 1px);height: 1px;margin: -1px;overflow: hidden;padding: 0;position: absolute;width: 1px;}#sk-container-id-2 div.sk-estimator {font-family: monospace;background-color: #f0f8ff;border: 1px dotted black;border-radius: 0.25em;box-sizing: border-box;margin-bottom: 0.5em;}#sk-container-id-2 div.sk-estimator:hover {background-color: #d4ebff;}#sk-container-id-2 div.sk-parallel-item::after {content: \"\";width: 100%;border-bottom: 1px solid gray;flex-grow: 1;}#sk-container-id-2 div.sk-label:hover label.sk-toggleable__label {background-color: #d4ebff;}#sk-container-id-2 div.sk-serial::before {content: \"\";position: absolute;border-left: 1px solid gray;box-sizing: border-box;top: 0;bottom: 0;left: 50%;z-index: 0;}#sk-container-id-2 div.sk-serial {display: flex;flex-direction: column;align-items: center;background-color: white;padding-right: 0.2em;padding-left: 0.2em;position: relative;}#sk-container-id-2 div.sk-item {position: relative;z-index: 1;}#sk-container-id-2 div.sk-parallel {display: flex;align-items: stretch;justify-content: center;background-color: white;position: relative;}#sk-container-id-2 div.sk-item::before, #sk-container-id-2 div.sk-parallel-item::before {content: \"\";position: absolute;border-left: 1px solid gray;box-sizing: border-box;top: 0;bottom: 0;left: 50%;z-index: -1;}#sk-container-id-2 div.sk-parallel-item {display: flex;flex-direction: column;z-index: 1;position: relative;background-color: white;}#sk-container-id-2 div.sk-parallel-item:first-child::after {align-self: flex-end;width: 50%;}#sk-container-id-2 div.sk-parallel-item:last-child::after {align-self: flex-start;width: 50%;}#sk-container-id-2 div.sk-parallel-item:only-child::after {width: 0;}#sk-container-id-2 div.sk-dashed-wrapped {border: 1px dashed gray;margin: 0 0.4em 0.5em 0.4em;box-sizing: border-box;padding-bottom: 0.4em;background-color: white;}#sk-container-id-2 div.sk-label label {font-family: monospace;font-weight: bold;display: inline-block;line-height: 1.2em;}#sk-container-id-2 div.sk-label-container {text-align: center;}#sk-container-id-2 div.sk-container {/* jupyter's `normalize.less` sets `[hidden] { display: none; }` but bootstrap.min.css set `[hidden] { display: none !important; }` so we also need the `!important` here to be able to override the default hidden behavior on the sphinx rendered scikit-learn.org. See: https://github.com/scikit-learn/scikit-learn/issues/21755 */display: inline-block !important;position: relative;}#sk-container-id-2 div.sk-text-repr-fallback {display: none;}</style><div id=\"sk-container-id-2\" class=\"sk-top-container\"><div class=\"sk-text-repr-fallback\"><pre>LinearSVC()</pre><b>In a Jupyter environment, please rerun this cell to show the HTML representation or trust the notebook. <br />On GitHub, the HTML representation is unable to render, please try loading this page with nbviewer.org.</b></div><div class=\"sk-container\" hidden><div class=\"sk-item\"><div class=\"sk-estimator sk-toggleable\"><input class=\"sk-toggleable__control sk-hidden--visually\" id=\"sk-estimator-id-2\" type=\"checkbox\" checked><label for=\"sk-estimator-id-2\" class=\"sk-toggleable__label sk-toggleable__label-arrow\">LinearSVC</label><div class=\"sk-toggleable__content\"><pre>LinearSVC()</pre></div></div></div></div></div>"
      ],
      "text/plain": [
       "LinearSVC()"
      ]
     },
     "execution_count": 9,
     "metadata": {},
     "output_type": "execute_result"
    }
   ],
   "source": [
    "from sklearn.svm import LinearSVC\n",
    "\n",
    "clf = LinearSVC()\n",
    "\n",
    "clf.fit(X[0], Y[0])"
   ]
  },
  {
   "cell_type": "markdown",
   "id": "9518013e",
   "metadata": {},
   "source": [
    "### Evaluate for all days"
   ]
  },
  {
   "cell_type": "code",
   "execution_count": 12,
   "id": "57040706",
   "metadata": {},
   "outputs": [
    {
     "name": "stdout",
     "output_type": "stream",
     "text": [
      "Error-rate Day 0   : 0.0\n",
      "Error-rate Day 1   : 0.02554999999999996\n",
      "Error-rate Day 2   : 0.019000000000000017\n",
      "Error-rate Day 3   : 0.021649999999999947\n",
      "Error-rate Day 4   : 0.026050000000000018\n",
      "Error-rate Day 5   : 0.023050000000000015\n",
      "Error-rate Day 6   : 0.02510000000000001\n",
      "Error-rate Day 7   : 0.030750000000000055\n",
      "Error-rate Day 8   : 0.028449999999999975\n",
      "Error-rate Day 9   : 0.03354999999999997\n",
      "Error-rate Day 10   : 0.03090000000000004\n",
      "Error-rate Day 11   : 0.02980000000000005\n",
      "Error-rate Day 12   : 0.023850000000000038\n",
      "Error-rate Day 13   : 0.019449999999999967\n",
      "Error-rate Day 14   : 0.026800000000000046\n",
      "Error-rate Day 15   : 0.0242\n",
      "Error-rate Day 16   : 0.027599999999999958\n",
      "Error-rate Day 17   : 0.022750000000000048\n",
      "Error-rate Day 18   : 0.023599999999999954\n",
      "Error-rate Day 19   : 0.021299999999999986\n",
      "Error-rate Day 20   : 0.026549999999999963\n",
      "Error-rate Day 21   : 0.03474999999999995\n",
      "Error-rate Day 22   : 0.03325\n",
      "Error-rate Day 23   : 0.03334999999999999\n",
      "Error-rate Day 24   : 0.03554999999999997\n",
      "Error-rate Day 25   : 0.035250000000000004\n",
      "Error-rate Day 26   : 0.02849999999999997\n",
      "Error-rate Day 27   : 0.030200000000000005\n",
      "Error-rate Day 28   : 0.029750000000000054\n",
      "Error-rate Day 29   : 0.028699999999999948\n",
      "Error-rate Day 30   : 0.03979999999999995\n",
      "Error-rate Day 31   : 0.03810000000000002\n",
      "Error-rate Day 32   : 0.034050000000000025\n",
      "Error-rate Day 33   : 0.03385000000000005\n",
      "Error-rate Day 34   : 0.030000000000000027\n",
      "Error-rate Day 35   : 0.04259999999999997\n",
      "Error-rate Day 36   : 0.03015000000000001\n",
      "Error-rate Day 37   : 0.028249999999999997\n",
      "Error-rate Day 38   : 0.05510000000000004\n",
      "Error-rate Day 39   : 0.05545\n",
      "Error-rate Day 40   : 0.03600000000000003\n",
      "Error-rate Day 41   : 0.028299999999999992\n",
      "Error-rate Day 42   : 0.036599999999999966\n",
      "Error-rate Day 43   : 0.043849999999999945\n",
      "Error-rate Day 44   : 0.02475000000000005\n",
      "Error-rate Day 45   : 0.023076923076923106\n",
      "Error-rate Day 46   : 0.035599999999999965\n",
      "Error-rate Day 47   : 0.03959999999999997\n",
      "Error-rate Day 48   : 0.05974999999999997\n",
      "Error-rate Day 49   : 0.06230000000000002\n",
      "Error-rate Day 50   : 0.044849999999999945\n",
      "Error-rate Day 51   : 0.03595000000000004\n",
      "Error-rate Day 52   : 0.03500000000000003\n",
      "Error-rate Day 53   : 0.04269999999999996\n",
      "Error-rate Day 54   : 0.031749999999999945\n",
      "Error-rate Day 55   : 0.024150000000000005\n",
      "Error-rate Day 56   : 0.025800000000000045\n",
      "Error-rate Day 57   : 0.0353\n",
      "Error-rate Day 58   : 0.029549999999999965\n",
      "Error-rate Day 59   : 0.028900000000000037\n",
      "Error-rate Day 60   : 0.03610000000000002\n",
      "Error-rate Day 61   : 0.03480000000000005\n",
      "Error-rate Day 62   : 0.04159999999999997\n",
      "Error-rate Day 63   : 0.04035\n",
      "Error-rate Day 64   : 0.038449999999999984\n",
      "Error-rate Day 65   : 0.036699999999999955\n",
      "Error-rate Day 66   : 0.03595000000000004\n",
      "Error-rate Day 67   : 0.03595000000000004\n",
      "Error-rate Day 68   : 0.03480000000000005\n",
      "Error-rate Day 69   : 0.02749999999999997\n",
      "Error-rate Day 70   : 0.03310000000000002\n",
      "Error-rate Day 71   : 0.029900000000000038\n",
      "Error-rate Day 72   : 0.029249999999999998\n",
      "Error-rate Day 73   : 0.03080000000000005\n",
      "Error-rate Day 74   : 0.029549999999999965\n",
      "Error-rate Day 75   : 0.03444999999999998\n",
      "Error-rate Day 76   : 0.03744999999999998\n",
      "Error-rate Day 77   : 0.026349999999999985\n",
      "Error-rate Day 78   : 0.03490000000000004\n",
      "Error-rate Day 79   : 0.039449999999999985\n",
      "Error-rate Day 80   : 0.03720000000000001\n",
      "Error-rate Day 81   : 0.03200000000000003\n",
      "Error-rate Day 82   : 0.03649999999999998\n",
      "Error-rate Day 83   : 0.03254999999999997\n",
      "Error-rate Day 84   : 0.033399999999999985\n",
      "Error-rate Day 85   : 0.04784999999999995\n",
      "Error-rate Day 86   : 0.03500000000000003\n",
      "Error-rate Day 87   : 0.03744999999999998\n",
      "Error-rate Day 88   : 0.03359999999999996\n",
      "Error-rate Day 89   : 0.047599999999999976\n",
      "Error-rate Day 90   : 0.04390000000000005\n",
      "Error-rate Day 91   : 0.035599999999999965\n",
      "Error-rate Day 92   : 0.04254999999999998\n",
      "Error-rate Day 93   : 0.04074999999999995\n",
      "Error-rate Day 94   : 0.036150000000000015\n",
      "Error-rate Day 95   : 0.01639999999999997\n",
      "Error-rate Day 96   : 0.02939999999999998\n",
      "Error-rate Day 97   : 0.035150000000000015\n",
      "Error-rate Day 98   : 0.05559999999999998\n",
      "Error-rate Day 99   : 0.04800000000000004\n",
      "Error-rate Day 100   : 0.06810000000000005\n",
      "Error-rate Day 101   : 0.0665\n",
      "Error-rate Day 102   : 0.05784999999999996\n",
      "Error-rate Day 103   : 0.03874999999999995\n",
      "Error-rate Day 104   : 0.019499999999999962\n",
      "Error-rate Day 105   : 0.03354999999999997\n",
      "Error-rate Day 106   : 0.06455\n",
      "Error-rate Day 107   : 0.03354999999999997\n",
      "Error-rate Day 108   : 0.03990000000000005\n",
      "Error-rate Day 109   : 0.024950000000000028\n",
      "Error-rate Day 110   : 0.03200000000000003\n",
      "Error-rate Day 111   : 0.03469999999999995\n",
      "Error-rate Day 112   : 0.03344999999999998\n",
      "Error-rate Day 113   : 0.03380000000000005\n",
      "Error-rate Day 114   : 0.036800000000000055\n",
      "Error-rate Day 115   : 0.03134999999999999\n",
      "Error-rate Day 116   : 0.042100000000000026\n",
      "Error-rate Day 117   : 0.03334999999999999\n",
      "Error-rate Day 118   : 0.026150000000000007\n",
      "Error-rate Day 119   : 0.0262\n"
     ]
    }
   ],
   "source": [
    "from sklearn.metrics import accuracy_score\n",
    "\n",
    "Y_test_preds = []\n",
    "\n",
    "for i in range(1, num_of_days):\n",
    "    Y_preds = clf.predict(X[i])\n",
    "    print(\"Error-rate Day {}   : {}\".format(i,1 - accuracy_score(Y[i], Y_preds)))"
   ]
  },
  {
   "cell_type": "code",
   "execution_count": null,
   "id": "309903ec",
   "metadata": {},
   "outputs": [],
   "source": []
  }
 ],
 "metadata": {
  "kernelspec": {
   "display_name": "Python 3 (ipykernel)",
   "language": "python",
   "name": "python3"
  },
  "language_info": {
   "codemirror_mode": {
    "name": "ipython",
    "version": 3
   },
   "file_extension": ".py",
   "mimetype": "text/x-python",
   "name": "python",
   "nbconvert_exporter": "python",
   "pygments_lexer": "ipython3",
   "version": "3.9.2"
  }
 },
 "nbformat": 4,
 "nbformat_minor": 5
}
