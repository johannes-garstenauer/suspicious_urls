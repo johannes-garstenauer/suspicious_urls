{
 "cells": [
  {
   "cell_type": "code",
   "execution_count": 1,
   "id": "7a6e22c9",
   "metadata": {},
   "outputs": [],
   "source": [
    "import scipy.io\n",
    "data = scipy.io.loadmat('../../data/url.mat')"
   ]
  },
  {
   "cell_type": "markdown",
   "id": "7b9fc2f1",
   "metadata": {},
   "source": [
    "**create list for labels and data, where one entry is the data for the day with this index**"
   ]
  },
  {
   "cell_type": "code",
   "execution_count": 2,
   "id": "d1c361a0",
   "metadata": {
    "scrolled": true
   },
   "outputs": [],
   "source": [
    "import numpy as np\n",
    "\n",
    "num_of_days = 120\n",
    "X, Y = [], []\n",
    "\n",
    "for i in range(num_of_days):\n",
    "    day_data = data[\"Day\" + str(i)]\n",
    "    X.append(day_data[0][0][0])\n",
    "    Y.append(day_data[0][0][1])"
   ]
  },
  {
   "cell_type": "markdown",
   "id": "e482f91d",
   "metadata": {},
   "source": [
    "**continous learn classifier**"
   ]
  },
  {
   "cell_type": "code",
   "execution_count": 3,
   "id": "e07defc1",
   "metadata": {},
   "outputs": [],
   "source": [
    "# incremental learns classifier (must have partial_fit() function)\n",
    "# returns an array of cumulative error rates for each day\n",
    "def learn_incremental(clf, batch_size = 1000):\n",
    "    \n",
    "    error_rates = []\n",
    "    num_of_days = 120\n",
    "    err = 0\n",
    "    cnt = 0\n",
    "    for curr_day in range(num_of_days): # looping through days\n",
    "    \n",
    "        if (curr_day != 45):\n",
    "            X_curr_day = X[curr_day]\n",
    "    \n",
    "            # split the data in slices of batch_size\n",
    "            batches_amount = int(X_curr_day.shape[0] / batch_size)\n",
    "            Y_curr_day = np.array_split(Y[curr_day], batches_amount)\n",
    "    \n",
    "            for j in range(batches_amount): # looping through individual urls\n",
    "                select_ind = np.arange(j * batch_size, (j+1) * batch_size)\n",
    "        \n",
    "                X_curr_url_batch, Y_curr_url_batch = X_curr_day[select_ind,:], Y_curr_day[j] \n",
    "\n",
    "                # flatten y to 1d\n",
    "                Y_curr_url_batch = Y_curr_url_batch.ravel()\n",
    "        \n",
    "                if (j > 0):\n",
    "                    Y_preds = clf.predict(X_curr_url_batch)\n",
    "            \n",
    "                    for k in range(batch_size):\n",
    "                        if(Y_preds[k] != Y_curr_url_batch[k]):\n",
    "                            err = err + 1\n",
    "        \n",
    "                clf.partial_fit(X_curr_url_batch, Y_curr_url_batch, classes=list(range(2))) # Continous fitting of urls and label\n",
    "            \n",
    "            error_rates.append(err / X_curr_day.shape[0])\n",
    "            err = 0\n",
    "    return error_rates"
   ]
  },
  {
   "cell_type": "code",
   "execution_count": 4,
   "id": "4e24b424",
   "metadata": {},
   "outputs": [
    {
     "name": "stdout",
     "output_type": "stream",
     "text": [
      "Error-rate Day 0   : 0.04975\n",
      "Error-rate Day 1   : 0.02985\n",
      "Error-rate Day 2   : 0.021\n",
      "Error-rate Day 3   : 0.02\n",
      "Error-rate Day 4   : 0.024\n",
      "Error-rate Day 5   : 0.0222\n",
      "Error-rate Day 6   : 0.0212\n",
      "Error-rate Day 7   : 0.0242\n",
      "Error-rate Day 8   : 0.02325\n",
      "Error-rate Day 9   : 0.0274\n",
      "Error-rate Day 10   : 0.02535\n",
      "Error-rate Day 11   : 0.02235\n",
      "Error-rate Day 12   : 0.0241\n",
      "Error-rate Day 13   : 0.01925\n",
      "Error-rate Day 14   : 0.02555\n",
      "Error-rate Day 15   : 0.02005\n",
      "Error-rate Day 16   : 0.02175\n",
      "Error-rate Day 17   : 0.0206\n",
      "Error-rate Day 18   : 0.0219\n",
      "Error-rate Day 19   : 0.01955\n",
      "Error-rate Day 20   : 0.02265\n",
      "Error-rate Day 21   : 0.02905\n",
      "Error-rate Day 22   : 0.0275\n",
      "Error-rate Day 23   : 0.02855\n",
      "Error-rate Day 24   : 0.0315\n",
      "Error-rate Day 25   : 0.02975\n",
      "Error-rate Day 26   : 0.02045\n",
      "Error-rate Day 27   : 0.02755\n",
      "Error-rate Day 28   : 0.0256\n",
      "Error-rate Day 29   : 0.02795\n",
      "Error-rate Day 30   : 0.0365\n",
      "Error-rate Day 31   : 0.0314\n",
      "Error-rate Day 32   : 0.0303\n",
      "Error-rate Day 33   : 0.0299\n",
      "Error-rate Day 34   : 0.00095\n",
      "Error-rate Day 35   : 0.03685\n",
      "Error-rate Day 36   : 0.00715\n",
      "Error-rate Day 37   : 0.0026\n",
      "Error-rate Day 38   : 0.04755\n",
      "Error-rate Day 39   : 0.0434\n",
      "Error-rate Day 40   : 0.0325\n",
      "Error-rate Day 41   : 0.02725\n",
      "Error-rate Day 42   : 0.03405\n",
      "Error-rate Day 43   : 0.033\n",
      "Error-rate Day 44   : 0.0209\n",
      "Error-rate Day 45   : 0.02645\n",
      "Error-rate Day 46   : 0.02465\n",
      "Error-rate Day 47   : 0.0352\n",
      "Error-rate Day 48   : 0.0366\n",
      "Error-rate Day 49   : 0.03475\n",
      "Error-rate Day 50   : 0.0281\n",
      "Error-rate Day 51   : 0.0293\n",
      "Error-rate Day 52   : 0.0312\n",
      "Error-rate Day 53   : 0.02615\n",
      "Error-rate Day 54   : 0.02335\n",
      "Error-rate Day 55   : 0.02475\n",
      "Error-rate Day 56   : 0.02455\n",
      "Error-rate Day 57   : 0.02585\n",
      "Error-rate Day 58   : 0.0275\n",
      "Error-rate Day 59   : 0.02855\n",
      "Error-rate Day 60   : 0.02595\n",
      "Error-rate Day 61   : 0.0286\n",
      "Error-rate Day 62   : 0.0321\n",
      "Error-rate Day 63   : 0.0259\n",
      "Error-rate Day 64   : 0.0319\n",
      "Error-rate Day 65   : 0.02655\n",
      "Error-rate Day 66   : 0.02595\n",
      "Error-rate Day 67   : 0.0257\n",
      "Error-rate Day 68   : 0.02035\n",
      "Error-rate Day 69   : 0.0237\n",
      "Error-rate Day 70   : 0.0247\n",
      "Error-rate Day 71   : 0.02175\n",
      "Error-rate Day 72   : 0.02295\n",
      "Error-rate Day 73   : 0.0205\n",
      "Error-rate Day 74   : 0.0275\n",
      "Error-rate Day 75   : 0.0335\n",
      "Error-rate Day 76   : 0.02445\n",
      "Error-rate Day 77   : 0.03175\n",
      "Error-rate Day 78   : 0.03085\n",
      "Error-rate Day 79   : 0.03295\n",
      "Error-rate Day 80   : 0.031\n",
      "Error-rate Day 81   : 0.02025\n",
      "Error-rate Day 82   : 0.0197\n",
      "Error-rate Day 83   : 0.0232\n",
      "Error-rate Day 84   : 0.0282\n",
      "Error-rate Day 85   : 0.02385\n",
      "Error-rate Day 86   : 0.0224\n",
      "Error-rate Day 87   : 0.0219\n",
      "Error-rate Day 88   : 0.01905\n",
      "Error-rate Day 89   : 0.01525\n",
      "Error-rate Day 90   : 0.01905\n",
      "Error-rate Day 91   : 0.02525\n",
      "Error-rate Day 92   : 0.0261\n",
      "Error-rate Day 93   : 0.0235\n",
      "Error-rate Day 94   : 0.01295\n",
      "Error-rate Day 95   : 0.02035\n",
      "Error-rate Day 96   : 0.02335\n",
      "Error-rate Day 97   : 0.02335\n",
      "Error-rate Day 98   : 0.02735\n",
      "Error-rate Day 99   : 0.02915\n",
      "Error-rate Day 100   : 0.02935\n",
      "Error-rate Day 101   : 0.02985\n",
      "Error-rate Day 102   : 0.0219\n",
      "Error-rate Day 103   : 0.0187\n",
      "Error-rate Day 104   : 0.02425\n",
      "Error-rate Day 105   : 0.02025\n",
      "Error-rate Day 106   : 0.02015\n",
      "Error-rate Day 107   : 0.0319\n",
      "Error-rate Day 108   : 0.01945\n",
      "Error-rate Day 109   : 0.0215\n",
      "Error-rate Day 110   : 0.02205\n",
      "Error-rate Day 111   : 0.0251\n",
      "Error-rate Day 112   : 0.02535\n",
      "Error-rate Day 113   : 0.02345\n",
      "Error-rate Day 114   : 0.0256\n",
      "Error-rate Day 115   : 0.0354\n",
      "Error-rate Day 116   : 0.02735\n",
      "Error-rate Day 117   : 0.0257\n",
      "Error-rate Day 118   : 0.0222\n"
     ]
    }
   ],
   "source": [
    "from sklearn.linear_model import SGDClassifier\n",
    "\n",
    "clf = SGDClassifier(loss = 'log', alpha=0.001)\n",
    "#clf = SGDClassifier(loss = 'log_loss')\n",
    "\n",
    "batch_size = 50\n",
    "error_rates = learn_incremental(clf, batch_size)\n",
    "\n",
    "cnt = 0\n",
    "for x in error_rates:    \n",
    "    print(\"Error-rate Day {}   : {}\".format(cnt, x))\n",
    "    cnt = cnt + 1"
   ]
  },
  {
   "cell_type": "code",
   "execution_count": 5,
   "id": "14ef635b",
   "metadata": {},
   "outputs": [],
   "source": [
    "import matplotlib.pyplot as plt\n",
    "\n",
    "def plot5degree(error_rates, batch_size, scatter = False):\n",
    "    \n",
    "    # Set up the day_indexes with the missing 45th day in mind\n",
    "    y_indexes = np.arange(0, 120)\n",
    "    y_indexes = np.delete(y_indexes, 46)\n",
    "    \n",
    "    y = np.array(error_rates)\n",
    "    y = y * 100\n",
    "    x = y_indexes\n",
    "\n",
    "    # create polynomial equation and calculate line\n",
    "    theta = np.polyfit(x, y, 5)\n",
    "    y_line = theta[5] + theta[4] * pow(x, 1) + theta[3] * pow(x, 2) + theta[2] * pow(x, 3) + theta[1] * pow(x, 4) + theta[0] * pow(x, 5)\n",
    "\n",
    "    if (scatter):\n",
    "        plt.scatter(x, y)\n",
    "    \n",
    "    plt.plot(x, y_line, 'r')\n",
    "    plt.title('LrSGD continous with batch size {}'.format(batch_size))\n",
    "    plt.xlabel('Days')\n",
    "    plt.ylabel('Cumulative error rate')\n",
    "    plt.ylim([0,4])\n",
    "    plt.show()"
   ]
  },
  {
   "cell_type": "code",
   "execution_count": 6,
   "id": "17a81be4",
   "metadata": {},
   "outputs": [
    {
     "data": {
      "image/png": "[encoded data removed]",
      "text/plain": [
       "<Figure size 432x288 with 1 Axes>"
      ]
     },
     "metadata": {
      "needs_background": "light"
     },
     "output_type": "display_data"
    }
   ],
   "source": [
    "plot5degree(error_rates, batch_size, True)"
   ]
  },
  {
   "cell_type": "code",
   "execution_count": 7,
   "id": "27efd60b",
   "metadata": {},
   "outputs": [],
   "source": [
    "import matplotlib.pyplot as plt\n",
    "\n",
    "def plot8degree(error_rates, batch_size, scatter = False):\n",
    "    \n",
    "    # Set up the day_indexes with the missing 45th day in mind\n",
    "    y_indexes = np.arange(0, 120)\n",
    "    y_indexes = np.delete(y_indexes, 46)\n",
    "    \n",
    "    y = np.array(error_rates)\n",
    "    y = y * 100\n",
    "    x = y_indexes\n",
    "\n",
    "    # create polynomial equation and calculate line\n",
    "    theta = np.polyfit(x, y, 8)\n",
    "    y_line = theta[8] + theta[7] * pow(x, 1) + theta[6] * pow(x, 2) + theta[5] * pow(x, 3) + theta[4] * pow(x, 4) + theta[3] * pow(x, 5) + theta[2] * pow(x, 6) + theta[1] * pow(x, 7) + theta[0] * pow(x, 8)\n",
    "\n",
    "    if (scatter):\n",
    "        plt.scatter(x, y)\n",
    "    \n",
    "    plt.plot(x, y_line, 'r')\n",
    "    plt.title('LrSGD continous with batch size {}'.format(batch_size))\n",
    "    plt.xlabel('Days')\n",
    "    plt.ylabel('Cumulative error rate')\n",
    "    plt.ylim([0,4])\n",
    "    plt.show()"
   ]
  },
  {
   "cell_type": "code",
   "execution_count": 8,
   "id": "7d37032d",
   "metadata": {},
   "outputs": [
    {
     "data": {
      "image/png": "[encoded data removed]",
      "text/plain": [
       "<Figure size 432x288 with 1 Axes>"
      ]
     },
     "metadata": {
      "needs_background": "light"
     },
     "output_type": "display_data"
    }
   ],
   "source": [
    "plot8degree(error_rates, batch_size, True)"
   ]
  }
 ],
 "metadata": {
  "kernelspec": {
   "display_name": "Python 3 (ipykernel)",
   "language": "python",
   "name": "python3"
  },
  "language_info": {
   "codemirror_mode": {
    "name": "ipython",
    "version": 3
   },
   "file_extension": ".py",
   "mimetype": "text/x-python",
   "name": "python",
   "nbconvert_exporter": "python",
   "pygments_lexer": "ipython3",
   "version": "3.9.2"
  }
 },
 "nbformat": 4,
 "nbformat_minor": 5
}
