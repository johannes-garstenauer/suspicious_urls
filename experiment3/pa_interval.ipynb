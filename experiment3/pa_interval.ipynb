{
 "cells": [
  {
   "cell_type": "code",
   "execution_count": 1,
   "id": "7a6e22c9",
   "metadata": {},
   "outputs": [],
   "source": [
    "import scipy.io\n",
    "data = scipy.io.loadmat('../../data/url.mat')"
   ]
  },
  {
   "cell_type": "markdown",
   "id": "7b9fc2f1",
   "metadata": {},
   "source": [
    "**create list for labels and data, where one entry is the data for the day with this index**"
   ]
  },
  {
   "cell_type": "code",
   "execution_count": 2,
   "id": "d1c361a0",
   "metadata": {
    "scrolled": true
   },
   "outputs": [],
   "source": [
    "import numpy as np\n",
    "\n",
    "num_of_days = 120\n",
    "X, Y = [], []\n",
    "\n",
    "for i in range(num_of_days):\n",
    "    day_data = data[\"Day\" + str(i)]\n",
    "    X.append(day_data[0][0][0])\n",
    "    Y.append(day_data[0][0][1])"
   ]
  },
  {
   "cell_type": "markdown",
   "id": "e482f91d",
   "metadata": {},
   "source": [
    "**continous learn classifier**"
   ]
  },
  {
   "cell_type": "code",
   "execution_count": 3,
   "id": "09f9a070",
   "metadata": {},
   "outputs": [],
   "source": [
    "# incremental learns classifier (must have partial_fit() function)\n",
    "# returns an array of cumulative error rates for each day\n",
    "def learn_interval(clf):\n",
    "    \n",
    "    error_rates = []\n",
    "    num_of_days = 120\n",
    "    err = 0\n",
    "    \n",
    "    for curr_day in range(num_of_days): # looping through days\n",
    "    \n",
    "        if (curr_day != 45):\n",
    "            X_curr_day = X[curr_day]\n",
    "            Y_curr_day = Y[curr_day]\n",
    "        \n",
    "            if (curr_day > 0):\n",
    "                Y_preds = clf.predict(X_curr_day)\n",
    "            \n",
    "                for k in range(len(Y_preds)):\n",
    "                    if(Y_preds[k] != Y_curr_day[k]):\n",
    "                        err = err + 1\n",
    "        \n",
    "            \n",
    "            clf.partial_fit(X_curr_day, Y_curr_day.ravel(), classes=list(range(2))) # Continous fitting of urls and label\n",
    "            \n",
    "            error_rates.append(err / X_curr_day.shape[0])\n",
    "            err = 0\n",
    "    return error_rates"
   ]
  },
  {
   "cell_type": "code",
   "execution_count": 4,
   "id": "546a3c3b",
   "metadata": {},
   "outputs": [
    {
     "name": "stdout",
     "output_type": "stream",
     "text": [
      "Error-rate Day 0   : 0.0\n",
      "Error-rate Day 1   : 0.03425\n",
      "Error-rate Day 2   : 0.0309\n",
      "Error-rate Day 3   : 0.02775\n",
      "Error-rate Day 4   : 0.02805\n",
      "Error-rate Day 5   : 0.0296\n",
      "Error-rate Day 6   : 0.0272\n",
      "Error-rate Day 7   : 0.0277\n",
      "Error-rate Day 8   : 0.0279\n",
      "Error-rate Day 9   : 0.0288\n",
      "Error-rate Day 10   : 0.02815\n",
      "Error-rate Day 11   : 0.02555\n",
      "Error-rate Day 12   : 0.0232\n",
      "Error-rate Day 13   : 0.01995\n",
      "Error-rate Day 14   : 0.0255\n",
      "Error-rate Day 15   : 0.0208\n",
      "Error-rate Day 16   : 0.02065\n",
      "Error-rate Day 17   : 0.0215\n",
      "Error-rate Day 18   : 0.02005\n",
      "Error-rate Day 19   : 0.02015\n",
      "Error-rate Day 20   : 0.02135\n",
      "Error-rate Day 21   : 0.0291\n",
      "Error-rate Day 22   : 0.02935\n",
      "Error-rate Day 23   : 0.0254\n",
      "Error-rate Day 24   : 0.02775\n",
      "Error-rate Day 25   : 0.02845\n",
      "Error-rate Day 26   : 0.02225\n",
      "Error-rate Day 27   : 0.0262\n",
      "Error-rate Day 28   : 0.0224\n",
      "Error-rate Day 29   : 0.0251\n",
      "Error-rate Day 30   : 0.03385\n",
      "Error-rate Day 31   : 0.03355\n",
      "Error-rate Day 32   : 0.0299\n",
      "Error-rate Day 33   : 0.0296\n",
      "Error-rate Day 34   : 0.031\n",
      "Error-rate Day 35   : 0.161\n",
      "Error-rate Day 36   : 0.0257\n",
      "Error-rate Day 37   : 0.0011\n",
      "Error-rate Day 38   : 0.20085\n",
      "Error-rate Day 39   : 0.0409\n",
      "Error-rate Day 40   : 0.02745\n",
      "Error-rate Day 41   : 0.02305\n",
      "Error-rate Day 42   : 0.0279\n",
      "Error-rate Day 43   : 0.02475\n",
      "Error-rate Day 44   : 0.0199\n",
      "Error-rate Day 45   : 0.02055\n",
      "Error-rate Day 46   : 0.02145\n",
      "Error-rate Day 47   : 0.0328\n",
      "Error-rate Day 48   : 0.0268\n",
      "Error-rate Day 49   : 0.027\n",
      "Error-rate Day 50   : 0.02375\n",
      "Error-rate Day 51   : 0.02365\n",
      "Error-rate Day 52   : 0.0268\n",
      "Error-rate Day 53   : 0.0198\n",
      "Error-rate Day 54   : 0.01805\n",
      "Error-rate Day 55   : 0.0214\n",
      "Error-rate Day 56   : 0.0181\n",
      "Error-rate Day 57   : 0.01845\n",
      "Error-rate Day 58   : 0.0215\n",
      "Error-rate Day 59   : 0.02\n",
      "Error-rate Day 60   : 0.0183\n",
      "Error-rate Day 61   : 0.0205\n",
      "Error-rate Day 62   : 0.0239\n",
      "Error-rate Day 63   : 0.01955\n",
      "Error-rate Day 64   : 0.02445\n",
      "Error-rate Day 65   : 0.0229\n",
      "Error-rate Day 66   : 0.01965\n",
      "Error-rate Day 67   : 0.01995\n",
      "Error-rate Day 68   : 0.01665\n",
      "Error-rate Day 69   : 0.01925\n",
      "Error-rate Day 70   : 0.02005\n",
      "Error-rate Day 71   : 0.0181\n",
      "Error-rate Day 72   : 0.0186\n",
      "Error-rate Day 73   : 0.0162\n",
      "Error-rate Day 74   : 0.021\n",
      "Error-rate Day 75   : 0.0289\n",
      "Error-rate Day 76   : 0.0159\n",
      "Error-rate Day 77   : 0.0259\n",
      "Error-rate Day 78   : 0.0287\n",
      "Error-rate Day 79   : 0.0231\n",
      "Error-rate Day 80   : 0.0223\n",
      "Error-rate Day 81   : 0.01915\n",
      "Error-rate Day 82   : 0.01565\n",
      "Error-rate Day 83   : 0.01675\n",
      "Error-rate Day 84   : 0.01905\n",
      "Error-rate Day 85   : 0.01655\n",
      "Error-rate Day 86   : 0.0142\n",
      "Error-rate Day 87   : 0.01585\n",
      "Error-rate Day 88   : 0.0121\n",
      "Error-rate Day 89   : 0.01165\n",
      "Error-rate Day 90   : 0.01375\n",
      "Error-rate Day 91   : 0.019\n",
      "Error-rate Day 92   : 0.01865\n",
      "Error-rate Day 93   : 0.0149\n",
      "Error-rate Day 94   : 0.0083\n",
      "Error-rate Day 95   : 0.0143\n",
      "Error-rate Day 96   : 0.01575\n",
      "Error-rate Day 97   : 0.01615\n",
      "Error-rate Day 98   : 0.01885\n",
      "Error-rate Day 99   : 0.0219\n",
      "Error-rate Day 100   : 0.0199\n",
      "Error-rate Day 101   : 0.0219\n",
      "Error-rate Day 102   : 0.01645\n",
      "Error-rate Day 103   : 0.01415\n",
      "Error-rate Day 104   : 0.01705\n",
      "Error-rate Day 105   : 0.0141\n",
      "Error-rate Day 106   : 0.0137\n",
      "Error-rate Day 107   : 0.0226\n",
      "Error-rate Day 108   : 0.01735\n",
      "Error-rate Day 109   : 0.01535\n",
      "Error-rate Day 110   : 0.01505\n",
      "Error-rate Day 111   : 0.01605\n",
      "Error-rate Day 112   : 0.01665\n",
      "Error-rate Day 113   : 0.01585\n",
      "Error-rate Day 114   : 0.01855\n",
      "Error-rate Day 115   : 0.02555\n",
      "Error-rate Day 116   : 0.01905\n",
      "Error-rate Day 117   : 0.0202\n",
      "Error-rate Day 118   : 0.0155\n"
     ]
    }
   ],
   "source": [
    "from sklearn.linear_model import PassiveAggressiveClassifier\n",
    "\n",
    "clf = PassiveAggressiveClassifier(C=0.001, random_state = 123)\n",
    "\n",
    "error_rates = learn_interval(clf)\n",
    "\n",
    "cnt = 0\n",
    "for x in error_rates:    \n",
    "    print(\"Error-rate Day {}   : {}\".format(cnt, x))\n",
    "    cnt = cnt + 1"
   ]
  },
  {
   "cell_type": "code",
   "execution_count": 5,
   "id": "a9e33c67",
   "metadata": {},
   "outputs": [],
   "source": [
    "import matplotlib.pyplot as plt\n",
    "\n",
    "def plot5degree(error_rates, batch_size, scatter = False):\n",
    "    \n",
    "    # Set up the day_indexes with the missing 45th day in mind\n",
    "    y_indexes = np.arange(0, 120)\n",
    "    y_indexes = np.delete(y_indexes, 46)\n",
    "    \n",
    "    y = np.array(error_rates)\n",
    "    y = y * 100\n",
    "    x = y_indexes\n",
    "\n",
    "    # create polynomial equation and calculate line\n",
    "    theta = np.polyfit(x, y, 5)\n",
    "    y_line = theta[5] + theta[4] * pow(x, 1) + theta[3] * pow(x, 2) + theta[2] * pow(x, 3) + theta[1] * pow(x, 4) + theta[0] * pow(x, 5)\n",
    "\n",
    "    if (scatter):\n",
    "        plt.scatter(x, y)\n",
    "    \n",
    "    plt.plot(x, y_line, 'r')\n",
    "    plt.title('PA-interval with batch size {}'.format(batch_size))\n",
    "    plt.xlabel('Days')\n",
    "    plt.ylabel('Cumulative error rate')\n",
    "    plt.ylim([0,4])\n",
    "    plt.show()"
   ]
  },
  {
   "cell_type": "code",
   "execution_count": 6,
   "id": "04266a25",
   "metadata": {},
   "outputs": [
    {
     "data": {
      "image/png": "[encoded data removed]",
      "text/plain": [
       "<Figure size 432x288 with 1 Axes>"
      ]
     },
     "metadata": {
      "needs_background": "light"
     },
     "output_type": "display_data"
    }
   ],
   "source": [
    "plot5degree(error_rates, \"Days\", True)"
   ]
  },
  {
   "cell_type": "code",
   "execution_count": null,
   "id": "10fb83b9",
   "metadata": {},
   "outputs": [],
   "source": []
  }
 ],
 "metadata": {
  "kernelspec": {
   "display_name": "Python 3 (ipykernel)",
   "language": "python",
   "name": "python3"
  },
  "language_info": {
   "codemirror_mode": {
    "name": "ipython",
    "version": 3
   },
   "file_extension": ".py",
   "mimetype": "text/x-python",
   "name": "python",
   "nbconvert_exporter": "python",
   "pygments_lexer": "ipython3",
   "version": "3.9.12"
  }
 },
 "nbformat": 4,
 "nbformat_minor": 5
}
