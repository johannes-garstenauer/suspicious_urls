{
 "cells": [
  {
   "cell_type": "code",
   "execution_count": 1,
   "id": "7a6e22c9",
   "metadata": {},
   "outputs": [],
   "source": [
    "import scipy.io\n",
    "data = scipy.io.loadmat('../../data/url.mat')"
   ]
  },
  {
   "cell_type": "markdown",
   "id": "7b9fc2f1",
   "metadata": {},
   "source": [
    "**create list for labels and data, where one entry is the data for the day with this index**"
   ]
  },
  {
   "cell_type": "code",
   "execution_count": 2,
   "id": "d1c361a0",
   "metadata": {
    "scrolled": true
   },
   "outputs": [],
   "source": [
    "import numpy as np\n",
    "\n",
    "num_of_days = 120\n",
    "X, Y = [], []\n",
    "\n",
    "for i in range(num_of_days):\n",
    "    day_data = data[\"Day\" + str(i)]\n",
    "    X.append(day_data[0][0][0])\n",
    "    Y.append(day_data[0][0][1])"
   ]
  },
  {
   "cell_type": "markdown",
   "id": "e482f91d",
   "metadata": {},
   "source": [
    "**continous learn classifier**"
   ]
  },
  {
   "cell_type": "code",
   "execution_count": 8,
   "id": "09f9a070",
   "metadata": {},
   "outputs": [],
   "source": [
    "# incremental learns classifier (must have partial_fit() function)\n",
    "# returns an array of cumulative error rates for each day\n",
    "def learn_interval(clf):\n",
    "    \n",
    "    error_rates = []\n",
    "    num_of_days = 120\n",
    "    err = 0\n",
    "    \n",
    "    for curr_day in range(num_of_days): # looping through days\n",
    "    \n",
    "        if (curr_day != 45):\n",
    "            X_curr_day = X[curr_day]\n",
    "            Y_curr_day = Y[curr_day]\n",
    "        \n",
    "            if (curr_day > 0):\n",
    "                Y_preds = clf.predict(X_curr_day)\n",
    "            \n",
    "                for k in range(len(Y_preds)):\n",
    "                    if(Y_preds[k] != Y_curr_day[k]):\n",
    "                        err = err + 1\n",
    "        \n",
    "            \n",
    "            clf.partial_fit(X_curr_day, Y_curr_day.ravel(), classes=list(range(2))) # Continous fitting of urls and label\n",
    "            \n",
    "            error_rates.append(err / X_curr_day.shape[0])\n",
    "            err = 0\n",
    "    return error_rates"
   ]
  },
  {
   "cell_type": "code",
   "execution_count": 9,
   "id": "546a3c3b",
   "metadata": {},
   "outputs": [
    {
     "name": "stdout",
     "output_type": "stream",
     "text": [
      "Error-rate Day 0   : 0.0\n",
      "Error-rate Day 1   : 0.03005\n",
      "Error-rate Day 2   : 0.02035\n",
      "Error-rate Day 3   : 0.02135\n",
      "Error-rate Day 4   : 0.02495\n",
      "Error-rate Day 5   : 0.02115\n",
      "Error-rate Day 6   : 0.01875\n",
      "Error-rate Day 7   : 0.022\n",
      "Error-rate Day 8   : 0.01885\n",
      "Error-rate Day 9   : 0.06155\n",
      "Error-rate Day 10   : 0.06475\n",
      "Error-rate Day 11   : 0.0198\n",
      "Error-rate Day 12   : 0.02005\n",
      "Error-rate Day 13   : 0.01835\n",
      "Error-rate Day 14   : 0.01815\n",
      "Error-rate Day 15   : 0.0168\n",
      "Error-rate Day 16   : 0.01545\n",
      "Error-rate Day 17   : 0.0261\n",
      "Error-rate Day 18   : 0.01515\n",
      "Error-rate Day 19   : 0.0251\n",
      "Error-rate Day 20   : 0.015\n",
      "Error-rate Day 21   : 0.0256\n",
      "Error-rate Day 22   : 0.01755\n",
      "Error-rate Day 23   : 0.0215\n",
      "Error-rate Day 24   : 0.02765\n",
      "Error-rate Day 25   : 0.02275\n",
      "Error-rate Day 26   : 0.02805\n",
      "Error-rate Day 27   : 0.01905\n",
      "Error-rate Day 28   : 0.0288\n",
      "Error-rate Day 29   : 0.0198\n",
      "Error-rate Day 30   : 0.0303\n",
      "Error-rate Day 31   : 0.03175\n",
      "Error-rate Day 32   : 0.03375\n",
      "Error-rate Day 33   : 0.021\n",
      "Error-rate Day 34   : 0.00315\n",
      "Error-rate Day 35   : 0.15405\n",
      "Error-rate Day 36   : 0.0262\n",
      "Error-rate Day 37   : 0.00015\n",
      "Error-rate Day 38   : 0.1796\n",
      "Error-rate Day 39   : 0.0413\n",
      "Error-rate Day 40   : 0.0227\n",
      "Error-rate Day 41   : 0.0159\n",
      "Error-rate Day 42   : 0.0294\n",
      "Error-rate Day 43   : 0.0197\n",
      "Error-rate Day 44   : 0.01775\n",
      "Error-rate Day 45   : 0.0155\n",
      "Error-rate Day 46   : 0.01615\n",
      "Error-rate Day 47   : 0.0316\n",
      "Error-rate Day 48   : 0.0274\n",
      "Error-rate Day 49   : 0.02775\n",
      "Error-rate Day 50   : 0.01905\n",
      "Error-rate Day 51   : 0.0449\n",
      "Error-rate Day 52   : 0.02315\n",
      "Error-rate Day 53   : 0.0213\n",
      "Error-rate Day 54   : 0.03295\n",
      "Error-rate Day 55   : 0.01785\n",
      "Error-rate Day 56   : 0.01635\n",
      "Error-rate Day 57   : 0.0202\n",
      "Error-rate Day 58   : 0.01695\n",
      "Error-rate Day 59   : 0.01665\n",
      "Error-rate Day 60   : 0.0129\n",
      "Error-rate Day 61   : 0.0157\n",
      "Error-rate Day 62   : 0.0184\n",
      "Error-rate Day 63   : 0.01835\n",
      "Error-rate Day 64   : 0.0198\n",
      "Error-rate Day 65   : 0.0215\n",
      "Error-rate Day 66   : 0.02745\n",
      "Error-rate Day 67   : 0.01725\n",
      "Error-rate Day 68   : 0.01335\n",
      "Error-rate Day 69   : 0.0162\n",
      "Error-rate Day 70   : 0.01905\n",
      "Error-rate Day 71   : 0.02035\n",
      "Error-rate Day 72   : 0.0157\n",
      "Error-rate Day 73   : 0.02245\n",
      "Error-rate Day 74   : 0.01695\n",
      "Error-rate Day 75   : 0.034\n",
      "Error-rate Day 76   : 0.01855\n",
      "Error-rate Day 77   : 0.0241\n",
      "Error-rate Day 78   : 0.0495\n",
      "Error-rate Day 79   : 0.0474\n",
      "Error-rate Day 80   : 0.04395\n",
      "Error-rate Day 81   : 0.02325\n",
      "Error-rate Day 82   : 0.0097\n",
      "Error-rate Day 83   : 0.01725\n",
      "Error-rate Day 84   : 0.0148\n",
      "Error-rate Day 85   : 0.0114\n",
      "Error-rate Day 86   : 0.0356\n",
      "Error-rate Day 87   : 0.0108\n",
      "Error-rate Day 88   : 0.00855\n",
      "Error-rate Day 89   : 0.0074\n",
      "Error-rate Day 90   : 0.0096\n",
      "Error-rate Day 91   : 0.02765\n",
      "Error-rate Day 92   : 0.0137\n",
      "Error-rate Day 93   : 0.01055\n",
      "Error-rate Day 94   : 0.02625\n",
      "Error-rate Day 95   : 0.01115\n",
      "Error-rate Day 96   : 0.0119\n",
      "Error-rate Day 97   : 0.01155\n",
      "Error-rate Day 98   : 0.01435\n",
      "Error-rate Day 99   : 0.01445\n",
      "Error-rate Day 100   : 0.01505\n",
      "Error-rate Day 101   : 0.01695\n",
      "Error-rate Day 102   : 0.01945\n",
      "Error-rate Day 103   : 0.0134\n",
      "Error-rate Day 104   : 0.0165\n",
      "Error-rate Day 105   : 0.00985\n",
      "Error-rate Day 106   : 0.01345\n",
      "Error-rate Day 107   : 0.0224\n",
      "Error-rate Day 108   : 0.0303\n",
      "Error-rate Day 109   : 0.0083\n",
      "Error-rate Day 110   : 0.0131\n",
      "Error-rate Day 111   : 0.01295\n",
      "Error-rate Day 112   : 0.0153\n",
      "Error-rate Day 113   : 0.01145\n",
      "Error-rate Day 114   : 0.0163\n",
      "Error-rate Day 115   : 0.01985\n",
      "Error-rate Day 116   : 0.0108\n",
      "Error-rate Day 117   : 0.0166\n",
      "Error-rate Day 118   : 0.01595\n"
     ]
    }
   ],
   "source": [
    "from sklearn.linear_model import PassiveAggressiveClassifier\n",
    "\n",
    "clf = PassiveAggressiveClassifier(random_state = 123)\n",
    "\n",
    "error_rates = learn_interval(clf)\n",
    "\n",
    "cnt = 0\n",
    "for x in error_rates:    \n",
    "    print(\"Error-rate Day {}   : {}\".format(cnt, x))\n",
    "    cnt = cnt + 1"
   ]
  },
  {
   "cell_type": "code",
   "execution_count": 10,
   "id": "a9e33c67",
   "metadata": {},
   "outputs": [
    {
     "data": {
      "image/png": "[encoded data removed]",
      "text/plain": [
       "<Figure size 432x288 with 1 Axes>"
      ]
     },
     "metadata": {
      "needs_background": "light"
     },
     "output_type": "display_data"
    }
   ],
   "source": [
    "import matplotlib.pyplot as plt\n",
    "\n",
    "y_indexes = np.arange(0, 120)\n",
    "y_indexes = np.delete(y_indexes, 46)\n",
    "\n",
    "plt.plot(y_indexes, error_rates, 'o')\n",
    "plt.show()"
   ]
  },
  {
   "cell_type": "code",
   "execution_count": null,
   "id": "04266a25",
   "metadata": {},
   "outputs": [],
   "source": []
  }
 ],
 "metadata": {
  "kernelspec": {
   "display_name": "Python 3 (ipykernel)",
   "language": "python",
   "name": "python3"
  },
  "language_info": {
   "codemirror_mode": {
    "name": "ipython",
    "version": 3
   },
   "file_extension": ".py",
   "mimetype": "text/x-python",
   "name": "python",
   "nbconvert_exporter": "python",
   "pygments_lexer": "ipython3",
   "version": "3.9.2"
  }
 },
 "nbformat": 4,
 "nbformat_minor": 5
}
