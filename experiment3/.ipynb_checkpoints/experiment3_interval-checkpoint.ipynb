{
 "cells": [
  {
   "cell_type": "code",
   "execution_count": 1,
   "id": "7a6e22c9",
   "metadata": {},
   "outputs": [],
   "source": [
    "import scipy.io\n",
    "data = scipy.io.loadmat('../../data/url.mat')\n",
    "#'../../data/url.mat'"
   ]
  },
  {
   "cell_type": "markdown",
   "id": "7b9fc2f1",
   "metadata": {},
   "source": [
    "**create list for labels and data, where one entry is the data for the day with this index**"
   ]
  },
  {
   "cell_type": "code",
   "execution_count": 2,
   "id": "d1c361a0",
   "metadata": {
    "scrolled": true
   },
   "outputs": [],
   "source": [
    "import numpy as np\n",
    "\n",
    "num_of_days = 120\n",
    "X, Y = [], []\n",
    "\n",
    "for i in range(num_of_days):\n",
    "    day_data = data[\"Day\" + str(i)]\n",
    "    X.append(day_data[0][0][0])\n",
    "    Y.append(day_data[0][0][1])"
   ]
  },
  {
   "cell_type": "code",
   "execution_count": 3,
   "id": "a4dae69a",
   "metadata": {},
   "outputs": [],
   "source": [
    "for i in range(len(Y)):\n",
    "    Y[i] = Y[i].ravel()"
   ]
  },
  {
   "cell_type": "markdown",
   "id": "e482f91d",
   "metadata": {},
   "source": [
    "**continous learn classifier**"
   ]
  },
  {
   "cell_type": "code",
   "execution_count": 4,
   "id": "5d324f61",
   "metadata": {},
   "outputs": [],
   "source": [
    "# incremental learns classifier (must have partial_fit() function)\n",
    "# returns an array of cumulative error rates for each day\n",
    "def learn_incremental(clf, batch_size = 1000):\n",
    "    \n",
    "    #print(\"Batch size {}\".format(batch_size))\n",
    "    error_rates = []\n",
    "    num_of_days = 120\n",
    "    err = 0\n",
    "    \n",
    "    for curr_day in range(num_of_days): # looping through days\n",
    "    \n",
    "        if (curr_day != 45):\n",
    "            X_curr_day = X[curr_day]\n",
    "    \n",
    "            # split the data in slices of batch_size\n",
    "            batches_amount = int(X_curr_day.shape[0] / batch_size)\n",
    "            Y_curr_day = np.array_split(Y[curr_day], batches_amount)\n",
    "    \n",
    "            for j in range(batches_amount): # looping through individual urls\n",
    "                select_ind = np.arange(j * batch_size, (j+1) * batch_size)\n",
    "        \n",
    "                X_curr_url_batch, Y_curr_url_batch = X_curr_day[select_ind,:], Y_curr_day[j] \n",
    "        \n",
    "                if (j > 0):\n",
    "                    Y_preds = clf.predict(X_curr_url_batch)\n",
    "            \n",
    "                    for k in range(batch_size):\n",
    "                        if(Y_preds[k] != Y_curr_url_batch[k]):\n",
    "                            err = err + 1\n",
    "        \n",
    "                clf.partial_fit(X_curr_url_batch, Y_curr_url_batch, classes=list(range(2))) # Continous fitting of urls and label\n",
    "            \n",
    "            print(\"Log: Day {}: {}\".format(curr_day ,err / X_curr_day.shape[0]))\n",
    "            error_rates.append(err / X_curr_day.shape[0])\n",
    "            err = 0\n",
    "    return error_rates"
   ]
  },
  {
   "cell_type": "code",
   "execution_count": 5,
   "id": "aba04494",
   "metadata": {},
   "outputs": [],
   "source": [
    "# incremental learns classifier (must have partial_fit() function)\n",
    "# returns an array of cumulative error rates for each day\n",
    "def learn_interval(clf):\n",
    "    \n",
    "    error_rates = []\n",
    "    num_of_days = 120\n",
    "    err = 0\n",
    "    \n",
    "    for curr_day in range(num_of_days): # looping through days\n",
    "    \n",
    "        if (curr_day != 45):\n",
    "            X_curr_day = X[curr_day]\n",
    "            Y_curr_day = Y[curr_day]\n",
    "        \n",
    "            if (curr_day > 0):\n",
    "                Y_preds = clf.predict(X_curr_day)\n",
    "            \n",
    "                for k in range(len(Y_preds)):\n",
    "                    if(Y_preds[k] != Y_curr_day[k]):\n",
    "                        err = err + 1\n",
    "        \n",
    "            \n",
    "            clf.partial_fit(X_curr_day, Y_curr_day.ravel(), classes=list(range(2))) # Continous fitting of urls and label\n",
    "            \n",
    "            error_rates.append(err / X_curr_day.shape[0])\n",
    "            err = 0\n",
    "    return error_rates"
   ]
  },
  {
   "cell_type": "markdown",
   "id": "c688528a",
   "metadata": {},
   "source": [
    "### Batch-size and other global variables and imports:"
   ]
  },
  {
   "cell_type": "code",
   "execution_count": 6,
   "id": "4dae7fa3",
   "metadata": {},
   "outputs": [],
   "source": [
    "from sklearn.metrics import accuracy_score\n",
    "from sklearn.linear_model import Perceptron\n",
    "from sklearn.linear_model import PassiveAggressiveClassifier\n",
    "import matplotlib.pyplot as plt\n",
    "\n",
    "batch_size = 1\n",
    "\n",
    "# Initialize error rates of the different classifiers\n",
    "error_rates_pa = None\n",
    "error_rates_percep = None\n",
    "error_rates_pa_interval = None\n",
    "error_rates_percep_interval = None"
   ]
  },
  {
   "cell_type": "markdown",
   "id": "ebf3e410",
   "metadata": {},
   "source": [
    "### Perceptron"
   ]
  },
  {
   "cell_type": "code",
   "execution_count": null,
   "id": "a8933def",
   "metadata": {},
   "outputs": [
    {
     "name": "stdout",
     "output_type": "stream",
     "text": [
      "Log: Day 0: 0.0479375\n",
      "Log: Day 1: 0.03395\n",
      "Log: Day 2: 0.02455\n",
      "Log: Day 3: 0.02735\n",
      "Log: Day 4: 0.0299\n",
      "Log: Day 5: 0.0235\n",
      "Log: Day 6: 0.0243\n",
      "Log: Day 7: 0.02795\n",
      "Log: Day 8: 0.02835\n",
      "Log: Day 9: 0.0318\n",
      "Log: Day 10: 0.0281\n",
      "Log: Day 11: 0.0236\n",
      "Log: Day 12: 0.0226\n",
      "Log: Day 13: 0.01825\n",
      "Log: Day 14: 0.02335\n",
      "Log: Day 15: 0.01995\n",
      "Log: Day 16: 0.0218\n",
      "Log: Day 17: 0.01975\n",
      "Log: Day 18: 0.0202\n",
      "Log: Day 19: 0.018\n",
      "Log: Day 20: 0.02105\n",
      "Log: Day 21: 0.0254\n",
      "Log: Day 22: 0.0228\n",
      "Log: Day 23: 0.0245\n",
      "Log: Day 24: 0.0264\n",
      "Log: Day 25: 0.0291\n",
      "Log: Day 26: 0.017\n",
      "Log: Day 27: 0.02175\n",
      "Log: Day 28: 0.0234\n",
      "Log: Day 29: 0.0252\n",
      "Log: Day 30: 0.03095\n",
      "Log: Day 31: 0.02455\n",
      "Log: Day 32: 0.0239\n",
      "Log: Day 33: 0.02245\n",
      "Log: Day 34: 0.00045\n",
      "Log: Day 35: 0.02995\n",
      "Log: Day 36: 0.002\n",
      "Log: Day 37: 0.0004\n",
      "Log: Day 38: 0.037\n",
      "Log: Day 39: 0.03075\n",
      "Log: Day 40: 0.02515\n",
      "Log: Day 41: 0.0175\n",
      "Log: Day 42: 0.0263\n",
      "Log: Day 43: 0.0229\n",
      "Log: Day 44: 0.01255\n",
      "Log: Day 46: 0.01995\n",
      "Log: Day 47: 0.0192\n",
      "Log: Day 48: 0.0241\n",
      "Log: Day 49: 0.0292\n",
      "Log: Day 50: 0.02725\n"
     ]
    }
   ],
   "source": [
    "clf = Perceptron(random_state = 123)\n",
    "\n",
    "error_rates_percep = learn_incremental(clf, batch_size)\n",
    "\n",
    "cnt = 0\n",
    "for x in error_rates_percep:    \n",
    "    print(\"Error-rate Day {}   : {}\".format(cnt, x))\n",
    "    cnt = cnt + 1"
   ]
  },
  {
   "cell_type": "markdown",
   "id": "63ed9da3",
   "metadata": {},
   "source": [
    "### Passive Aggressive"
   ]
  },
  {
   "cell_type": "code",
   "execution_count": null,
   "id": "3973eb1a",
   "metadata": {},
   "outputs": [],
   "source": [
    "clf = PassiveAggressiveClassifier(C=0.001, random_state = 123)\n",
    "\n",
    "error_rates_pa = learn_incremental(clf, batch_size)\n",
    "\n",
    "cnt = 0\n",
    "for x in error_rates_pa:    \n",
    "    print(\"Error-rate Day {}   : {}\".format(cnt, x))\n",
    "    cnt = cnt + 1"
   ]
  },
  {
   "cell_type": "markdown",
   "id": "0bdebcca",
   "metadata": {},
   "source": [
    "### Perceptron Interval"
   ]
  },
  {
   "cell_type": "code",
   "execution_count": null,
   "id": "36b83833",
   "metadata": {},
   "outputs": [],
   "source": [
    "clf = Perceptron(random_state = 123)\n",
    "\n",
    "error_rates_percep_interval = learn_interval(clf)\n",
    "\n",
    "cnt = 0\n",
    "for x in error_rates_percep_interval:    \n",
    "    print(\"Error-rate Day {}   : {}\".format(cnt, x))\n",
    "    cnt = cnt + 1"
   ]
  },
  {
   "cell_type": "markdown",
   "id": "1175d649",
   "metadata": {},
   "source": [
    "### Passive Aggressive Interval"
   ]
  },
  {
   "cell_type": "code",
   "execution_count": null,
   "id": "f287b13f",
   "metadata": {},
   "outputs": [],
   "source": [
    "clf = PassiveAggressiveClassifier(C=0.001, random_state = 123)\n",
    "\n",
    "error_rates_pa_interval = learn_interval(clf)\n",
    "\n",
    "cnt = 0\n",
    "for x in error_rates_pa_interval:    \n",
    "    print(\"Error-rate Day {}   : {}\".format(cnt, x))\n",
    "    cnt = cnt + 1"
   ]
  },
  {
   "cell_type": "code",
   "execution_count": null,
   "id": "d2c624d4",
   "metadata": {},
   "outputs": [],
   "source": [
    "def cleanup(x, y):\n",
    "    \n",
    "    # Cleanup outliers in data\n",
    "    outliers = []\n",
    "    for i in range(len(y)):\n",
    "        if (y[i] > 5 or y[i] < 0.5):\n",
    "            outliers = np.append(outliers, i)\n",
    "    \n",
    "    offset = 0\n",
    "    for outl in outliers:\n",
    "        y = np.delete(y, int(outl) - offset)\n",
    "        x = x[:-1]\n",
    "        offset = offset + 1\n",
    "        \n",
    "    return x, y"
   ]
  },
  {
   "cell_type": "code",
   "execution_count": null,
   "id": "abd33c36",
   "metadata": {},
   "outputs": [],
   "source": [
    "def _calc_line(x, y):\n",
    "    \n",
    "    # create polynomial equation and calculate line\n",
    "    theta = np.polyfit(x, y, 8)\n",
    "    return theta[8] + theta[7] * pow(x, 1) + theta[6] * pow(x, 2) + theta[5] * pow(x, 3) + theta[4] * pow(x, 4) + theta[3] * pow(x, 5) + theta[2] * pow(x, 6) + theta[1] * pow(x, 7) + theta[0] * pow(x, 8)"
   ]
  },
  {
   "cell_type": "code",
   "execution_count": null,
   "id": "83ca59e0",
   "metadata": {},
   "outputs": [],
   "source": [
    "def _plot(y, color, marker, linestyle, scatter, label):\n",
    "    \n",
    "    # Set up the day_indexes with the missing 45th day in mind\n",
    "    x = np.arange(0, 120) \n",
    "    \n",
    "    # attend to data size imbalances (day 45 outages)\n",
    "    if (y.shape[0] < x.shape[0]):\n",
    "        x = x[:-1]\n",
    "        \n",
    "    y = y * 100\n",
    "    x, y = cleanup(x, y)\n",
    "    \n",
    "    if (scatter):\n",
    "        plt.scatter(x, y, c=color)\n",
    "    \n",
    "    y = _calc_line(x, y)\n",
    "    plt.plot(x, y, \"{}{}{}\".format(marker, color, linestyle), markevery=5, label=label)"
   ]
  },
  {
   "cell_type": "code",
   "execution_count": null,
   "id": "3b4cce5b",
   "metadata": {},
   "outputs": [],
   "source": [
    "def plot8degree(error_rates_pa, error_rates_percep,\n",
    "                error_rates_pa_interval, error_rates_percep_interval,\n",
    "                batch_size, scatter = False):\n",
    "\n",
    "    if (error_rates_pa is not None):\n",
    "        _plot(np.array(error_rates_pa), 'r', 'v', '-', scatter, \"PA\")\n",
    "        \n",
    "    if (error_rates_percep is not None):\n",
    "        _plot(np.array(error_rates_percep), 'g', 'o', '-', scatter, \"Perceptron\")\n",
    "        \n",
    "    if (error_rates_percep_interval is not None):\n",
    "        _plot(np.array(error_rates_percep_interval), 'b', 'x', '--', scatter, \"Percep. (int.)\")\n",
    "              \n",
    "    if (error_rates_pa_interval is not None):\n",
    "        _plot(np.array(error_rates_pa_interval), 'm', '^', '--',scatter, \"PA (int.)\")\n",
    "        \n",
    "    title = 'Experiment 3 (interval) with batch size {}'.format(batch_size)\n",
    "    plt.title(title)\n",
    "    plt.xlabel('Days')\n",
    "    plt.ylabel('Cumulative error rate (%)')\n",
    "    #plt.ylim([1,4])\n",
    "    plt.xlim([0,100])\n",
    "    plt.legend()\n",
    "    plt.savefig(\"{}.svg\".format(title), format='svg', dpi=1200)"
   ]
  },
  {
   "cell_type": "code",
   "execution_count": null,
   "id": "4d910a9b",
   "metadata": {},
   "outputs": [],
   "source": [
    "plot8degree(error_rates_pa, error_rates_percep,\n",
    "                error_rates_pa_interval, error_rates_percep_interval, batch_size, False)"
   ]
  },
  {
   "cell_type": "code",
   "execution_count": null,
   "id": "67e501f5",
   "metadata": {},
   "outputs": [],
   "source": [
    "## Does benefit from cleanup"
   ]
  }
 ],
 "metadata": {
  "kernelspec": {
   "display_name": "Python 3 (ipykernel)",
   "language": "python",
   "name": "python3"
  },
  "language_info": {
   "codemirror_mode": {
    "name": "ipython",
    "version": 3
   },
   "file_extension": ".py",
   "mimetype": "text/x-python",
   "name": "python",
   "nbconvert_exporter": "python",
   "pygments_lexer": "ipython3",
   "version": "3.9.2"
  }
 },
 "nbformat": 4,
 "nbformat_minor": 5
}
