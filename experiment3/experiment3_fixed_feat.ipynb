{
 "cells": [
  {
   "cell_type": "code",
   "execution_count": 17,
   "id": "7a6e22c9",
   "metadata": {},
   "outputs": [],
   "source": [
    "import scipy.io\n",
    "data = scipy.io.loadmat('../../url.mat')\n",
    "#'../../data/url.mat'"
   ]
  },
  {
   "cell_type": "markdown",
   "id": "7b9fc2f1",
   "metadata": {},
   "source": [
    "**create list for labels and data, where one entry is the data for the day with this index**"
   ]
  },
  {
   "cell_type": "code",
   "execution_count": 18,
   "id": "d1c361a0",
   "metadata": {
    "scrolled": true
   },
   "outputs": [],
   "source": [
    "import numpy as np\n",
    "\n",
    "num_of_days = 120\n",
    "X, Y = [], []\n",
    "\n",
    "for i in range(num_of_days):\n",
    "    day_data = data[\"Day\" + str(i)]\n",
    "    X.append(day_data[0][0][0])\n",
    "    Y.append(day_data[0][0][1])"
   ]
  },
  {
   "cell_type": "code",
   "execution_count": 19,
   "id": "a4dae69a",
   "metadata": {},
   "outputs": [],
   "source": [
    "for i in range(len(Y)):\n",
    "    Y[i] = Y[i].ravel()"
   ]
  },
  {
   "cell_type": "markdown",
   "id": "e482f91d",
   "metadata": {},
   "source": [
    "**continous learn classifier**"
   ]
  },
  {
   "cell_type": "code",
   "execution_count": 20,
   "id": "ead94244",
   "metadata": {},
   "outputs": [],
   "source": [
    "def fix_features(X, fixed_features_amount = 150000):\n",
    "    select_ind = np.arange(0, fixed_features_amount)\n",
    "    return X[:,select_ind]"
   ]
  },
  {
   "cell_type": "code",
   "execution_count": 21,
   "id": "5d324f61",
   "metadata": {},
   "outputs": [],
   "source": [
    "# incremental learns classifier (must have partial_fit() function)\n",
    "# returns an array of cumulative error rates for each day\n",
    "def learn_incremental(clf, is_fixed, batch_size = 1000):\n",
    "    \n",
    "    error_rates = []\n",
    "    num_of_days = 120\n",
    "    err = 0\n",
    "    \n",
    "    for curr_day in range(num_of_days): # looping through days\n",
    "    \n",
    "        if (curr_day != 45):\n",
    "            \n",
    "            if (is_fixed):\n",
    "                X_curr_day = fix_features(X[curr_day])\n",
    "            else:\n",
    "                X_curr_day = X[curr_day]\n",
    "    \n",
    "            # split the data in slices of batch_size\n",
    "            batches_amount = int(X_curr_day.shape[0] / batch_size)\n",
    "            Y_curr_day = np.array_split(Y[curr_day], batches_amount)\n",
    "    \n",
    "            for j in range(batches_amount): # looping through individual urls\n",
    "                select_ind = np.arange(j * batch_size, (j+1) * batch_size)\n",
    "        \n",
    "                X_curr_url_batch, Y_curr_url_batch = X_curr_day[select_ind,:], Y_curr_day[j] \n",
    "        \n",
    "                # flatten y to 1d\n",
    "                Y_curr_url_batch = Y_curr_url_batch.ravel()\n",
    "        \n",
    "                if (j > 0):\n",
    "                    Y_preds = clf.predict(X_curr_url_batch)\n",
    "            \n",
    "                    for k in range(batch_size):\n",
    "                        if(Y_preds[k] != Y_curr_url_batch[k]):\n",
    "                            err = err + 1\n",
    "        \n",
    "                clf.partial_fit(X_curr_url_batch, Y_curr_url_batch, classes=list(range(2))) # Continous fitting of urls and label\n",
    "            \n",
    "            error_rates.append(err / X_curr_day.shape[0])\n",
    "            err = 0\n",
    "    return error_rates"
   ]
  },
  {
   "cell_type": "markdown",
   "id": "c688528a",
   "metadata": {},
   "source": [
    "### Batch-size and other global variables and imports:"
   ]
  },
  {
   "cell_type": "code",
   "execution_count": 22,
   "id": "4dae7fa3",
   "metadata": {},
   "outputs": [],
   "source": [
    "from sklearn.metrics import accuracy_score\n",
    "from sklearn.linear_model import Perceptron\n",
    "from sklearn.linear_model import PassiveAggressiveClassifier\n",
    "import matplotlib.pyplot as plt\n",
    "\n",
    "batch_size = 4\n",
    "\n",
    "# Initialize error rates of the different classifiers\n",
    "error_rates_pa = None\n",
    "error_rates_percep = None\n",
    "error_rates_pa_ff = None\n",
    "error_rates_percep_ff = None"
   ]
  },
  {
   "cell_type": "markdown",
   "id": "ebf3e410",
   "metadata": {},
   "source": [
    "### Perceptron"
   ]
  },
  {
   "cell_type": "code",
   "execution_count": null,
   "id": "a8933def",
   "metadata": {},
   "outputs": [],
   "source": [
    "clf = Perceptron(random_state = 123)\n",
    "\n",
    "error_rates_percep = learn_incremental(clf, False, batch_size)\n",
    "\n",
    "cnt = 0\n",
    "for x in error_rates_percep:    \n",
    "    print(\"Error-rate Day {}   : {}\".format(cnt, x))\n",
    "    cnt = cnt + 1"
   ]
  },
  {
   "cell_type": "markdown",
   "id": "63ed9da3",
   "metadata": {},
   "source": [
    "### Passive Aggressive"
   ]
  },
  {
   "cell_type": "code",
   "execution_count": null,
   "id": "3973eb1a",
   "metadata": {},
   "outputs": [],
   "source": [
    "clf = PassiveAggressiveClassifier(C=0.001, random_state = 123)\n",
    "\n",
    "error_rates_pa = learn_incremental(clf, False, batch_size)\n",
    "\n",
    "cnt = 0\n",
    "for x in error_rates_pa:    \n",
    "    print(\"Error-rate Day {}   : {}\".format(cnt, x))\n",
    "    cnt = cnt + 1"
   ]
  },
  {
   "cell_type": "markdown",
   "id": "94cdad22",
   "metadata": {},
   "source": [
    "### Perceptron fixed features"
   ]
  },
  {
   "cell_type": "code",
   "execution_count": null,
   "id": "e9bb17e0",
   "metadata": {},
   "outputs": [],
   "source": [
    "clf = Perceptron(random_state = 123)\n",
    "error_rates_percep_ff = learn_incremental(clf, True, batch_size)\n",
    "\n",
    "cnt = 0\n",
    "for x in error_rates_percep_ff:    \n",
    "    print(\"Error-rate Day {}   : {}\".format(cnt, x))\n",
    "    cnt = cnt + 1"
   ]
  },
  {
   "cell_type": "markdown",
   "id": "2cd8473e",
   "metadata": {},
   "source": [
    "### Passive Aggressive fixed features"
   ]
  },
  {
   "cell_type": "code",
   "execution_count": null,
   "id": "a1d42c4f",
   "metadata": {},
   "outputs": [],
   "source": [
    "clf = PassiveAggressiveClassifier(C=0.001, random_state = 123)\n",
    "error_rates_pa_ff = learn_incremental(clf, True, batch_size)\n",
    "\n",
    "cnt = 0\n",
    "for x in error_rates_pa_ff:    \n",
    "    print(\"Error-rate Day {}   : {}\".format(cnt, x))\n",
    "    cnt = cnt + 1"
   ]
  },
  {
   "cell_type": "code",
   "execution_count": null,
   "id": "39cecd5b",
   "metadata": {},
   "outputs": [],
   "source": [
    "def cleanup(x, y):\n",
    "    \n",
    "    # Cleanup outliers in data\n",
    "    outliers = []\n",
    "    for i in range(len(y)):\n",
    "        if (y[i] > 3.5 or y[i] < 0.5):\n",
    "            outliers = np.append(outliers, i)\n",
    "    \n",
    "    offset = 0\n",
    "    for outl in outliers:\n",
    "        y = np.delete(y, int(outl) - offset)\n",
    "        x = x[:-1]\n",
    "        offset = offset + 1\n",
    "        \n",
    "    return x, y"
   ]
  },
  {
   "cell_type": "code",
   "execution_count": null,
   "id": "abd33c36",
   "metadata": {},
   "outputs": [],
   "source": [
    "def _calc_line(x, y):\n",
    "    \n",
    "    # create polynomial equation and calculate line\n",
    "    theta = np.polyfit(x, y, 8)\n",
    "    return theta[8] + theta[7] * pow(x, 1) + theta[6] * pow(x, 2) + theta[5] * pow(x, 3) + theta[4] * pow(x, 4) + theta[3] * pow(x, 5) + theta[2] * pow(x, 6) + theta[1] * pow(x, 7) + theta[0] * pow(x, 8)"
   ]
  },
  {
   "cell_type": "code",
   "execution_count": null,
   "id": "83ca59e0",
   "metadata": {},
   "outputs": [],
   "source": [
    "def _plot(y, color, marker, linestyle, scatter, label):\n",
    "    \n",
    "    # Set up the day_indexes with the missing 45th day in mind\n",
    "    x = np.arange(0, 120) \n",
    "    \n",
    "    # attend to data size imbalances (day 45 outages)\n",
    "    if (y.shape[0] < x.shape[0]):\n",
    "        x = x[:-1]\n",
    "    \n",
    "    y = y * 100\n",
    "    #x, y = cleanup(x, y)\n",
    "    \n",
    "    if (scatter):\n",
    "        plt.scatter(x, y)\n",
    "    \n",
    "    y = _calc_line(x, y)\n",
    "    plt.plot(x, y, \"{}{}{}\".format(marker, color, linestyle), markevery=5, label=label)"
   ]
  },
  {
   "cell_type": "code",
   "execution_count": null,
   "id": "3b4cce5b",
   "metadata": {},
   "outputs": [],
   "source": [
    "def plot8degree(error_rates_pa, error_rates_percep, \n",
    "                error_rates_pa_ff, error_rates_percep_ff,\n",
    "                batch_size, scatter = False):\n",
    "\n",
    "    \n",
    "    if (error_rates_pa is not None):\n",
    "        _plot(np.array(error_rates_pa), 'r', 'v', '-', scatter, \"PA\")\n",
    "        \n",
    "    if (error_rates_percep is not None):\n",
    "        _plot(np.array(error_rates_percep), 'g', 'o', '-', scatter, \"Perceptron\")\n",
    "        \n",
    "    if (error_rates_pa_ff is not None):\n",
    "        _plot(np.array(error_rates_pa_ff), 'm', '^', '--',scatter, \"PA (fixed)\")\n",
    "        \n",
    "    if (error_rates_percep_ff is not None):\n",
    "        _plot(np.array(error_rates_percep_ff), 'b', 'x', '--', scatter, \"Percep. (fixed)\") \n",
    "    \n",
    "    title = 'Experiment 3 (fixed-feature) with batch size {}'.format(batch_size)\n",
    "    plt.title(title)\n",
    "    plt.xlabel('Days')\n",
    "    plt.ylabel('Cumulative error rate (%)')\n",
    "    plt.ylim([1,4])\n",
    "    plt.xlim([0,100])\n",
    "    plt.legend()\n",
    "    plt.savefig(\"{}.svg\".format(title), format='svg', dpi=1200)"
   ]
  },
  {
   "cell_type": "code",
   "execution_count": null,
   "id": "4d910a9b",
   "metadata": {},
   "outputs": [],
   "source": [
    "plot8degree(error_rates_pa, error_rates_percep, \n",
    "                error_rates_pa_ff, error_rates_percep_ff, batch_size, False)"
   ]
  },
  {
   "cell_type": "code",
   "execution_count": null,
   "id": "8fa9a790",
   "metadata": {},
   "outputs": [],
   "source": [
    "# Better results without cleanup"
   ]
  }
 ],
 "metadata": {
  "kernelspec": {
   "display_name": "Python 3 (ipykernel)",
   "language": "python",
   "name": "python3"
  },
  "language_info": {
   "codemirror_mode": {
    "name": "ipython",
    "version": 3
   },
   "file_extension": ".py",
   "mimetype": "text/x-python",
   "name": "python",
   "nbconvert_exporter": "python",
   "pygments_lexer": "ipython3",
   "version": "3.9.12"
  }
 },
 "nbformat": 4,
 "nbformat_minor": 5
}
