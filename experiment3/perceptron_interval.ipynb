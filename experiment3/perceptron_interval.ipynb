{
 "cells": [
  {
   "cell_type": "code",
   "execution_count": 1,
   "id": "7a6e22c9",
   "metadata": {},
   "outputs": [],
   "source": [
    "import scipy.io\n",
    "data = scipy.io.loadmat('../../data/url.mat')"
   ]
  },
  {
   "cell_type": "markdown",
   "id": "7b9fc2f1",
   "metadata": {},
   "source": [
    "**create list for labels and data, where one entry is the data for the day with this index**"
   ]
  },
  {
   "cell_type": "code",
   "execution_count": 2,
   "id": "d1c361a0",
   "metadata": {
    "scrolled": true
   },
   "outputs": [],
   "source": [
    "import numpy as np\n",
    "\n",
    "num_of_days = 120\n",
    "X, Y = [], []\n",
    "\n",
    "for i in range(num_of_days):\n",
    "    day_data = data[\"Day\" + str(i)]\n",
    "    X.append(day_data[0][0][0])\n",
    "    Y.append(day_data[0][0][1])"
   ]
  },
  {
   "cell_type": "markdown",
   "id": "e482f91d",
   "metadata": {},
   "source": [
    "**continous learn classifier**"
   ]
  },
  {
   "cell_type": "code",
   "execution_count": 3,
   "id": "09f9a070",
   "metadata": {},
   "outputs": [],
   "source": [
    "# incremental learns classifier (must have partial_fit() function)\n",
    "# returns an array of cumulative error rates for each day\n",
    "def learn_interval(clf):\n",
    "    \n",
    "    error_rates = []\n",
    "    num_of_days = 120\n",
    "    err = 0\n",
    "    \n",
    "    for curr_day in range(num_of_days): # looping through days\n",
    "    \n",
    "        if (curr_day != 45):\n",
    "            X_curr_day = X[curr_day]\n",
    "            Y_curr_day = Y[curr_day]\n",
    "        \n",
    "            if (curr_day > 0):\n",
    "                Y_preds = clf.predict(X_curr_day)\n",
    "            \n",
    "                for k in range(len(Y_preds)):\n",
    "                    if(Y_preds[k] != Y_curr_day[k]):\n",
    "                        err = err + 1\n",
    "        \n",
    "            clf.partial_fit(X_curr_day, Y_curr_day.ravel(), classes=list(range(2))) # Continous fitting of urls and label\n",
    "            \n",
    "            error_rates.append(err / X_curr_day.shape[0])\n",
    "            err = 0\n",
    "    return error_rates"
   ]
  },
  {
   "cell_type": "code",
   "execution_count": 4,
   "id": "546a3c3b",
   "metadata": {},
   "outputs": [
    {
     "name": "stdout",
     "output_type": "stream",
     "text": [
      "Error-rate Day 0   : 0.0\n",
      "Error-rate Day 1   : 0.0306\n",
      "Error-rate Day 2   : 0.0299\n",
      "Error-rate Day 3   : 0.0256\n",
      "Error-rate Day 4   : 0.02635\n",
      "Error-rate Day 5   : 0.02245\n",
      "Error-rate Day 6   : 0.02085\n",
      "Error-rate Day 7   : 0.0287\n",
      "Error-rate Day 8   : 0.02985\n",
      "Error-rate Day 9   : 0.0713\n",
      "Error-rate Day 10   : 0.07985\n",
      "Error-rate Day 11   : 0.02195\n",
      "Error-rate Day 12   : 0.019\n",
      "Error-rate Day 13   : 0.02035\n",
      "Error-rate Day 14   : 0.0184\n",
      "Error-rate Day 15   : 0.0206\n",
      "Error-rate Day 16   : 0.02215\n",
      "Error-rate Day 17   : 0.01715\n",
      "Error-rate Day 18   : 0.0201\n",
      "Error-rate Day 19   : 0.0277\n",
      "Error-rate Day 20   : 0.0198\n",
      "Error-rate Day 21   : 0.02565\n",
      "Error-rate Day 22   : 0.02105\n",
      "Error-rate Day 23   : 0.0195\n",
      "Error-rate Day 24   : 0.0231\n",
      "Error-rate Day 25   : 0.03375\n",
      "Error-rate Day 26   : 0.03065\n",
      "Error-rate Day 27   : 0.03765\n",
      "Error-rate Day 28   : 0.0312\n",
      "Error-rate Day 29   : 0.0383\n",
      "Error-rate Day 30   : 0.0266\n",
      "Error-rate Day 31   : 0.0349\n",
      "Error-rate Day 32   : 0.0542\n",
      "Error-rate Day 33   : 0.02345\n",
      "Error-rate Day 34   : 0.0041\n",
      "Error-rate Day 35   : 0.17585\n",
      "Error-rate Day 36   : 0.0168\n",
      "Error-rate Day 37   : 0.00075\n",
      "Error-rate Day 38   : 0.1981\n",
      "Error-rate Day 39   : 0.03455\n",
      "Error-rate Day 40   : 0.02375\n",
      "Error-rate Day 41   : 0.0244\n",
      "Error-rate Day 42   : 0.0245\n",
      "Error-rate Day 43   : 0.03255\n",
      "Error-rate Day 44   : 0.01455\n",
      "Error-rate Day 45   : 0.017\n",
      "Error-rate Day 46   : 0.01955\n",
      "Error-rate Day 47   : 0.03\n",
      "Error-rate Day 48   : 0.0245\n",
      "Error-rate Day 49   : 0.026\n",
      "Error-rate Day 50   : 0.01915\n",
      "Error-rate Day 51   : 0.03605\n",
      "Error-rate Day 52   : 0.02655\n",
      "Error-rate Day 53   : 0.01755\n",
      "Error-rate Day 54   : 0.0217\n",
      "Error-rate Day 55   : 0.0195\n",
      "Error-rate Day 56   : 0.0148\n",
      "Error-rate Day 57   : 0.0253\n",
      "Error-rate Day 58   : 0.01445\n",
      "Error-rate Day 59   : 0.01585\n",
      "Error-rate Day 60   : 0.0132\n",
      "Error-rate Day 61   : 0.01775\n",
      "Error-rate Day 62   : 0.01855\n",
      "Error-rate Day 63   : 0.01725\n",
      "Error-rate Day 64   : 0.0197\n",
      "Error-rate Day 65   : 0.01605\n",
      "Error-rate Day 66   : 0.0169\n",
      "Error-rate Day 67   : 0.0164\n",
      "Error-rate Day 68   : 0.01575\n",
      "Error-rate Day 69   : 0.0179\n",
      "Error-rate Day 70   : 0.0213\n",
      "Error-rate Day 71   : 0.02165\n",
      "Error-rate Day 72   : 0.0158\n",
      "Error-rate Day 73   : 0.01955\n",
      "Error-rate Day 74   : 0.0201\n",
      "Error-rate Day 75   : 0.02635\n",
      "Error-rate Day 76   : 0.01595\n",
      "Error-rate Day 77   : 0.0354\n",
      "Error-rate Day 78   : 0.0629\n",
      "Error-rate Day 79   : 0.0713\n",
      "Error-rate Day 80   : 0.04745\n",
      "Error-rate Day 81   : 0.01655\n",
      "Error-rate Day 82   : 0.01185\n",
      "Error-rate Day 83   : 0.02455\n",
      "Error-rate Day 84   : 0.0214\n",
      "Error-rate Day 85   : 0.0114\n",
      "Error-rate Day 86   : 0.02415\n",
      "Error-rate Day 87   : 0.0171\n",
      "Error-rate Day 88   : 0.01315\n",
      "Error-rate Day 89   : 0.00995\n",
      "Error-rate Day 90   : 0.0121\n",
      "Error-rate Day 91   : 0.03715\n",
      "Error-rate Day 92   : 0.01825\n",
      "Error-rate Day 93   : 0.0112\n",
      "Error-rate Day 94   : 0.04505\n",
      "Error-rate Day 95   : 0.012\n",
      "Error-rate Day 96   : 0.0108\n",
      "Error-rate Day 97   : 0.0131\n",
      "Error-rate Day 98   : 0.0203\n",
      "Error-rate Day 99   : 0.0178\n",
      "Error-rate Day 100   : 0.0169\n",
      "Error-rate Day 101   : 0.02\n",
      "Error-rate Day 102   : 0.03155\n",
      "Error-rate Day 103   : 0.01205\n",
      "Error-rate Day 104   : 0.0221\n",
      "Error-rate Day 105   : 0.01225\n",
      "Error-rate Day 106   : 0.01775\n",
      "Error-rate Day 107   : 0.02375\n",
      "Error-rate Day 108   : 0.0273\n",
      "Error-rate Day 109   : 0.0084\n",
      "Error-rate Day 110   : 0.0113\n",
      "Error-rate Day 111   : 0.01405\n",
      "Error-rate Day 112   : 0.01645\n",
      "Error-rate Day 113   : 0.01385\n",
      "Error-rate Day 114   : 0.0238\n",
      "Error-rate Day 115   : 0.0198\n",
      "Error-rate Day 116   : 0.01525\n",
      "Error-rate Day 117   : 0.0196\n",
      "Error-rate Day 118   : 0.02935\n"
     ]
    }
   ],
   "source": [
    "from sklearn.linear_model import Perceptron\n",
    "\n",
    "clf = Perceptron(random_state = 123)\n",
    "\n",
    "error_rates = learn_interval(clf)\n",
    "\n",
    "cnt = 0\n",
    "for x in error_rates:    \n",
    "    print(\"Error-rate Day {}   : {}\".format(cnt, x))\n",
    "    cnt = cnt + 1"
   ]
  },
  {
   "cell_type": "code",
   "execution_count": 5,
   "id": "a9e33c67",
   "metadata": {},
   "outputs": [
    {
     "data": {
      "image/png": "[encoded data removed]",
      "text/plain": [
       "<Figure size 432x288 with 1 Axes>"
      ]
     },
     "metadata": {
      "needs_background": "light"
     },
     "output_type": "display_data"
    }
   ],
   "source": [
    "import matplotlib.pyplot as plt\n",
    "\n",
    "def plot5degree(error_rates, batch_size, scatter = False):\n",
    "    \n",
    "    # Set up the day_indexes with the missing 45th day in mind\n",
    "    y_indexes = np.arange(0, 120)\n",
    "    y_indexes = np.delete(y_indexes, 46)\n",
    "    \n",
    "    y = np.array(error_rates)\n",
    "    y = y * 100\n",
    "    x = y_indexes\n",
    "\n",
    "    # create polynomial equation and calculate line\n",
    "    theta = np.polyfit(x, y, 5)\n",
    "    y_line = theta[5] + theta[4] * pow(x, 1) + theta[3] * pow(x, 2) + theta[2] * pow(x, 3) + theta[1] * pow(x, 4) + theta[0] * pow(x, 5)\n",
    "\n",
    "    if (scatter):\n",
    "        plt.scatter(x, y)\n",
    "    \n",
    "    plt.plot(x, y_line, 'r')\n",
    "    plt.title('Perceptron-interval with batch size {}'.format(batch_size))\n",
    "    plt.xlabel('Days')\n",
    "    plt.ylabel('Cumulative error rate')\n",
    "    plt.ylim([0,4])\n",
    "    plt.show()\n",
    "\n",
    "plot5degree(error_rates, \"Days\", True)"
   ]
  },
  {
   "cell_type": "code",
   "execution_count": null,
   "id": "62bb4391",
   "metadata": {},
   "outputs": [],
   "source": []
  }
 ],
 "metadata": {
  "kernelspec": {
   "display_name": "Python 3 (ipykernel)",
   "language": "python",
   "name": "python3"
  },
  "language_info": {
   "codemirror_mode": {
    "name": "ipython",
    "version": 3
   },
   "file_extension": ".py",
   "mimetype": "text/x-python",
   "name": "python",
   "nbconvert_exporter": "python",
   "pygments_lexer": "ipython3",
   "version": "3.9.12"
  }
 },
 "nbformat": 4,
 "nbformat_minor": 5
}
