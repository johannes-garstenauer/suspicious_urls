{
 "cells": [
  {
   "cell_type": "code",
   "execution_count": 1,
   "id": "7a6e22c9",
   "metadata": {},
   "outputs": [],
   "source": [
    "import scipy.io\n",
    "data = scipy.io.loadmat('../../data/url.mat')"
   ]
  },
  {
   "cell_type": "markdown",
   "id": "7b9fc2f1",
   "metadata": {},
   "source": [
    "**create list for labels and data, where one entry is the data for the day with this index**"
   ]
  },
  {
   "cell_type": "code",
   "execution_count": 2,
   "id": "d1c361a0",
   "metadata": {
    "scrolled": true
   },
   "outputs": [],
   "source": [
    "import numpy as np\n",
    "\n",
    "num_of_days = 120\n",
    "X, Y = [], []\n",
    "\n",
    "for i in range(num_of_days):\n",
    "    day_data = data[\"Day\" + str(i)]\n",
    "    X.append(day_data[0][0][0])\n",
    "    Y.append(day_data[0][0][1])"
   ]
  },
  {
   "cell_type": "markdown",
   "id": "e482f91d",
   "metadata": {},
   "source": [
    "**continous learn classifier**"
   ]
  },
  {
   "cell_type": "code",
   "execution_count": 3,
   "id": "4724851d",
   "metadata": {},
   "outputs": [],
   "source": [
    "def fix_features(X, fixed_features_amount = 150000):\n",
    "    select_ind = np.arange(0, fixed_features_amount)\n",
    "    return X[:,select_ind]"
   ]
  },
  {
   "cell_type": "code",
   "execution_count": 4,
   "id": "d02400ec",
   "metadata": {},
   "outputs": [],
   "source": [
    "# incremental learns classifier (must have partial_fit() function)\n",
    "# returns an array of cumulative error rates for each day\n",
    "def learn_incremental(clf, batch_size = 1000):\n",
    "    \n",
    "    error_rates = []\n",
    "    num_of_days = 120\n",
    "    err = 0\n",
    "    \n",
    "    for curr_day in range(num_of_days): # looping through days\n",
    "    \n",
    "        if (curr_day != 45):\n",
    "            X_curr_day = fix_features(X[curr_day])\n",
    "    \n",
    "            # split the data in slices of batch_size\n",
    "            batches_amount = int(X_curr_day.shape[0] / batch_size)\n",
    "            Y_curr_day = np.array_split(Y[curr_day], batches_amount)\n",
    "    \n",
    "            for j in range(batches_amount): # looping through individual urls\n",
    "                select_ind = np.arange(j * batch_size, (j+1) * batch_size)\n",
    "        \n",
    "                X_curr_url_batch, Y_curr_url_batch = X_curr_day[select_ind,:], Y_curr_day[j] \n",
    "        \n",
    "                # flatten y to 1d\n",
    "                Y_curr_url_batch = Y_curr_url_batch.ravel()\n",
    "        \n",
    "                if (j > 0):\n",
    "                    Y_preds = clf.predict(X_curr_url_batch)\n",
    "            \n",
    "                    for k in range(batch_size):\n",
    "                        if(Y_preds[k] != Y_curr_url_batch[k]):\n",
    "                            err = err + 1\n",
    "        \n",
    "                clf.partial_fit(X_curr_url_batch, Y_curr_url_batch, classes=list(range(2))) # Continous fitting of urls and label\n",
    "            \n",
    "            error_rates.append(err / X_curr_day.shape[0])\n",
    "            err = 0\n",
    "    return error_rates"
   ]
  },
  {
   "cell_type": "code",
   "execution_count": 5,
   "id": "61bea3d3",
   "metadata": {},
   "outputs": [
    {
     "name": "stdout",
     "output_type": "stream",
     "text": [
      "Error-rate Day 0   : 0.0395\n",
      "Error-rate Day 1   : 0.03615\n",
      "Error-rate Day 2   : 0.02255\n",
      "Error-rate Day 3   : 0.02785\n",
      "Error-rate Day 4   : 0.02865\n",
      "Error-rate Day 5   : 0.02335\n",
      "Error-rate Day 6   : 0.02\n",
      "Error-rate Day 7   : 0.03\n",
      "Error-rate Day 8   : 0.03045\n",
      "Error-rate Day 9   : 0.0333\n",
      "Error-rate Day 10   : 0.0276\n",
      "Error-rate Day 11   : 0.02365\n",
      "Error-rate Day 12   : 0.02285\n",
      "Error-rate Day 13   : 0.01865\n",
      "Error-rate Day 14   : 0.02445\n",
      "Error-rate Day 15   : 0.02005\n",
      "Error-rate Day 16   : 0.0198\n",
      "Error-rate Day 17   : 0.01695\n",
      "Error-rate Day 18   : 0.0201\n",
      "Error-rate Day 19   : 0.0178\n",
      "Error-rate Day 20   : 0.01985\n",
      "Error-rate Day 21   : 0.02305\n",
      "Error-rate Day 22   : 0.01985\n",
      "Error-rate Day 23   : 0.02185\n",
      "Error-rate Day 24   : 0.0269\n",
      "Error-rate Day 25   : 0.0322\n",
      "Error-rate Day 26   : 0.02095\n",
      "Error-rate Day 27   : 0.01885\n",
      "Error-rate Day 28   : 0.02485\n",
      "Error-rate Day 29   : 0.0223\n",
      "Error-rate Day 30   : 0.03065\n",
      "Error-rate Day 31   : 0.02805\n",
      "Error-rate Day 32   : 0.02705\n",
      "Error-rate Day 33   : 0.0237\n",
      "Error-rate Day 34   : 0.0002\n",
      "Error-rate Day 35   : 0.03905\n",
      "Error-rate Day 36   : 0.0022\n",
      "Error-rate Day 37   : 0.0003\n",
      "Error-rate Day 38   : 0.03865\n",
      "Error-rate Day 39   : 0.0363\n",
      "Error-rate Day 40   : 0.0292\n",
      "Error-rate Day 41   : 0.01965\n",
      "Error-rate Day 42   : 0.0273\n",
      "Error-rate Day 43   : 0.02435\n",
      "Error-rate Day 44   : 0.0171\n",
      "Error-rate Day 45   : 0.022\n",
      "Error-rate Day 46   : 0.02095\n",
      "Error-rate Day 47   : 0.02455\n",
      "Error-rate Day 48   : 0.0284\n",
      "Error-rate Day 49   : 0.02945\n",
      "Error-rate Day 50   : 0.02505\n",
      "Error-rate Day 51   : 0.0277\n",
      "Error-rate Day 52   : 0.02805\n",
      "Error-rate Day 53   : 0.0203\n",
      "Error-rate Day 54   : 0.0205\n",
      "Error-rate Day 55   : 0.02135\n",
      "Error-rate Day 56   : 0.01835\n",
      "Error-rate Day 57   : 0.01785\n",
      "Error-rate Day 58   : 0.01775\n",
      "Error-rate Day 59   : 0.01835\n",
      "Error-rate Day 60   : 0.01845\n",
      "Error-rate Day 61   : 0.0203\n",
      "Error-rate Day 62   : 0.0231\n",
      "Error-rate Day 63   : 0.0211\n",
      "Error-rate Day 64   : 0.02555\n",
      "Error-rate Day 65   : 0.0238\n",
      "Error-rate Day 66   : 0.02445\n",
      "Error-rate Day 67   : 0.01925\n",
      "Error-rate Day 68   : 0.0139\n",
      "Error-rate Day 69   : 0.02045\n",
      "Error-rate Day 70   : 0.02585\n",
      "Error-rate Day 71   : 0.0242\n",
      "Error-rate Day 72   : 0.03175\n",
      "Error-rate Day 73   : 0.0205\n",
      "Error-rate Day 74   : 0.02085\n",
      "Error-rate Day 75   : 0.01995\n",
      "Error-rate Day 76   : 0.018\n",
      "Error-rate Day 77   : 0.0187\n",
      "Error-rate Day 78   : 0.0285\n",
      "Error-rate Day 79   : 0.0222\n",
      "Error-rate Day 80   : 0.02435\n",
      "Error-rate Day 81   : 0.0149\n",
      "Error-rate Day 82   : 0.0123\n",
      "Error-rate Day 83   : 0.0168\n",
      "Error-rate Day 84   : 0.01895\n",
      "Error-rate Day 85   : 0.0152\n",
      "Error-rate Day 86   : 0.0113\n",
      "Error-rate Day 87   : 0.0141\n",
      "Error-rate Day 88   : 0.0153\n",
      "Error-rate Day 89   : 0.00815\n",
      "Error-rate Day 90   : 0.01085\n",
      "Error-rate Day 91   : 0.0183\n",
      "Error-rate Day 92   : 0.01995\n",
      "Error-rate Day 93   : 0.0132\n",
      "Error-rate Day 94   : 0.00865\n",
      "Error-rate Day 95   : 0.01425\n",
      "Error-rate Day 96   : 0.01455\n",
      "Error-rate Day 97   : 0.0179\n",
      "Error-rate Day 98   : 0.0241\n",
      "Error-rate Day 99   : 0.0225\n",
      "Error-rate Day 100   : 0.0179\n",
      "Error-rate Day 101   : 0.0248\n",
      "Error-rate Day 102   : 0.0141\n",
      "Error-rate Day 103   : 0.01315\n",
      "Error-rate Day 104   : 0.01675\n",
      "Error-rate Day 105   : 0.01395\n",
      "Error-rate Day 106   : 0.0143\n",
      "Error-rate Day 107   : 0.017\n",
      "Error-rate Day 108   : 0.0145\n",
      "Error-rate Day 109   : 0.01145\n",
      "Error-rate Day 110   : 0.0148\n",
      "Error-rate Day 111   : 0.01665\n",
      "Error-rate Day 112   : 0.01775\n",
      "Error-rate Day 113   : 0.01575\n",
      "Error-rate Day 114   : 0.01735\n",
      "Error-rate Day 115   : 0.01985\n",
      "Error-rate Day 116   : 0.01305\n",
      "Error-rate Day 117   : 0.01585\n",
      "Error-rate Day 118   : 0.013\n"
     ]
    }
   ],
   "source": [
    "from sklearn.linear_model import PassiveAggressiveClassifier\n",
    "\n",
    "clf = PassiveAggressiveClassifier(random_state = 123)\n",
    "\n",
    "error_rates = learn_incremental(clf, 1000)\n",
    "\n",
    "cnt = 0\n",
    "for x in error_rates:    \n",
    "    print(\"Error-rate Day {}   : {}\".format(cnt, x))\n",
    "    cnt = cnt + 1"
   ]
  },
  {
   "cell_type": "code",
   "execution_count": 6,
   "id": "34d82549",
   "metadata": {},
   "outputs": [
    {
     "data": {
      "image/png": "[encoded data removed]",
      "text/plain": [
       "<Figure size 432x288 with 1 Axes>"
      ]
     },
     "metadata": {
      "needs_background": "light"
     },
     "output_type": "display_data"
    }
   ],
   "source": [
    "import matplotlib.pyplot as plt\n",
    "\n",
    "y_indexes = np.arange(0, 120)\n",
    "y_indexes = np.delete(y_indexes, 46)\n",
    "\n",
    "plt.plot(y_indexes, error_rates, 'o')\n",
    "plt.show()"
   ]
  },
  {
   "cell_type": "code",
   "execution_count": null,
   "id": "d99ce2b2",
   "metadata": {},
   "outputs": [],
   "source": []
  }
 ],
 "metadata": {
  "kernelspec": {
   "display_name": "Python 3 (ipykernel)",
   "language": "python",
   "name": "python3"
  },
  "language_info": {
   "codemirror_mode": {
    "name": "ipython",
    "version": 3
   },
   "file_extension": ".py",
   "mimetype": "text/x-python",
   "name": "python",
   "nbconvert_exporter": "python",
   "pygments_lexer": "ipython3",
   "version": "3.9.2"
  }
 },
 "nbformat": 4,
 "nbformat_minor": 5
}
